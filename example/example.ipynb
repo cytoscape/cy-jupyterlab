{
 "cells": [
  {
   "cell_type": "code",
   "execution_count": 1,
   "metadata": {},
   "outputs": [],
   "source": [
    "#Descrption of below cells\n",
    "#These cell's command is rendering the cx data from local or remote(NDEX)\n",
    "#Upper cell is drawing network from local data\n",
    "#Under cell is drawing network from remote file"
   ]
  },
  {
   "cell_type": "code",
   "execution_count": null,
   "metadata": {},
   "outputs": [],
   "source": [
    "from IPython.display import display\n",
    "import json\n",
    "\n",
    "data = ''\n",
    "with open('example.cx') as f:\n",
    "    data = f.read()\n",
    "\n",
    "data_json = json.loads(data)\n",
    "cx_data = {\n",
    "    \"application/cx\": data_json\n",
    "}\n",
    "\n",
    "display(cx_data,raw=True)"
   ]
  },
  {
   "cell_type": "code",
   "execution_count": null,
   "metadata": {},
   "outputs": [],
   "source": [
    "import ndex2.client as nc\n",
    "import io\n",
    "import json\n",
    "from IPython.display import HTML\n",
    "from time import sleep\n",
    "anon_ndex=nc.Ndex2(\"http://public.ndexbio.org\")\n",
    "anon_ndex.update_status()\n",
    "\n",
    "#the string of below command is match the uuid of the network which you want to draw in ndex page.\n",
    "response=anon_ndex.get_network_as_cx_stream('54a9a35b-1e5f-11e8-b939-0ac135e8bacf')\n",
    "print(\"Received %s characters of CX\" % len(response.content))\n",
    "raw_cx = response.json()\n",
    "\n",
    "#raw_cx= json.loads(response)\n",
    "\n",
    "cx_data = {\n",
    "    \"application/cx\": raw_cx\n",
    "}\n",
    "display(cx_data,raw=True)"
   ]
  },
  {
   "cell_type": "code",
   "execution_count": null,
   "metadata": {},
   "outputs": [],
   "source": []
  },
  {
   "cell_type": "code",
   "execution_count": null,
   "metadata": {},
   "outputs": [],
   "source": []
  },
  {
   "cell_type": "code",
   "execution_count": null,
   "metadata": {},
   "outputs": [],
   "source": []
  }
 ],
 "metadata": {
  "kernelspec": {
   "display_name": "Python 3",
   "language": "python",
   "name": "python3"
  },
  "language_info": {
   "codemirror_mode": {
    "name": "ipython",
    "version": 3
   },
   "file_extension": ".py",
   "mimetype": "text/x-python",
   "name": "python",
   "nbconvert_exporter": "python",
   "pygments_lexer": "ipython3",
   "version": "3.7.0"
  }
 },
 "nbformat": 4,
 "nbformat_minor": 2
}

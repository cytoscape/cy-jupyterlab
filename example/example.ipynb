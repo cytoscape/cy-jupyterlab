{
 "cells": [
  {
   "cell_type": "code",
   "execution_count": 4,
   "metadata": {},
   "outputs": [
    {
     "data": {
      "application/cx": [
       {
        "numberVerification": [
         {
          "longNumber": 281474976710655
         }
        ]
       },
       {
        "metaData": [
         {
          "consistencyGroup": 1,
          "elementCount": 1,
          "name": "provenanceHistory",
          "properties": [],
          "version": "1.0"
         },
         {
          "consistencyGroup": 1,
          "elementCount": 1,
          "name": "@context",
          "properties": [],
          "version": "1.0"
         },
         {
          "consistencyGroup": 1,
          "elementCount": 33,
          "idCounter": 33,
          "name": "nodes",
          "properties": [],
          "version": "1.0"
         },
         {
          "consistencyGroup": 1,
          "elementCount": 63,
          "idCounter": 125,
          "name": "edges",
          "properties": [],
          "version": "1.0"
         },
         {
          "consistencyGroup": 1,
          "elementCount": 9,
          "name": "networkAttributes",
          "properties": [],
          "version": "1.0"
         },
         {
          "consistencyGroup": 1,
          "elementCount": 66,
          "name": "nodeAttributes",
          "properties": [],
          "version": "1.0"
         },
         {
          "consistencyGroup": 1,
          "elementCount": 66,
          "name": "edgeAttributes",
          "properties": [],
          "version": "1.0"
         },
         {
          "consistencyGroup": 1,
          "elementCount": 27,
          "idCounter": 27,
          "name": "citations",
          "properties": []
         },
         {
          "consistencyGroup": 1,
          "elementCount": 62,
          "name": "edgeCitations",
          "properties": []
         },
         {
          "consistencyGroup": 1,
          "elementCount": 33,
          "name": "cartesianLayout",
          "properties": [],
          "version": "1.0"
         },
         {
          "consistencyGroup": 1,
          "elementCount": 3,
          "name": "cyVisualProperties",
          "properties": []
         },
         {
          "consistencyGroup": 1,
          "elementCount": 1,
          "name": "ndexStatus",
          "properties": [],
          "version": "1.0"
         }
        ]
       },
       {
        "@context": [
         {
          "KEGG Compound": "http://identifiers.org/kegg.compound/",
          "KEGG Pathway": "http://identifiers.org/kegg.pathway/",
          "LIPID MAPS": "http://www.lipidmaps.org/data/LMSDRecord.php?LMID=",
          "Mouse Genome Database": "http://www.informatics.jax.org/accession/"
         }
        ]
       },
       {
        "ndexStatus": [
         {
          "creationTime": 1510958699121,
          "edgeCount": 63,
          "externalId": "f0ce42b7-cbe8-11e7-ac1f-0660b7976219",
          "modificationTime": 1536625912935,
          "ndexServerURI": "http://dev2.ndexbio.org",
          "nodeCount": 33,
          "owner": "rudipillich",
          "published": false,
          "readOnly": false,
          "visibility": "PRIVATE"
         }
        ]
       },
       {
        "provenanceHistory": [
         {
          "entity": {
           "creationEvent": {
            "endedAtTime": 1536625912929,
            "eventType": "Update Network Profile",
            "inputs": [
             {
              "creationEvent": {
               "endedAtTime": 1529513535069,
               "eventType": "Update Network Profile",
               "inputs": [
                {
                 "creationEvent": {
                  "endedAtTime": 1510958800198,
                  "eventType": "Update Network Profile",
                  "inputs": [
                   {
                    "creationEvent": {
                     "endedAtTime": 1510958699125,
                     "eventType": "Clone on Server",
                     "inputs": [
                      {
                       "creationEvent": {
                        "endedAtTime": 1508536093509,
                        "eventType": "Update Network Profile",
                        "inputs": [
                         {
                          "creationEvent": {
                           "endedAtTime": 1499101741984,
                           "eventType": "Clone on Server",
                           "inputs": [
                            {
                             "creationEvent": {
                              "endedAtTime": 1497548444120,
                              "eventType": "CX network update",
                              "inputs": [
                               {
                                "creationEvent": {
                                 "endedAtTime": 1497305959445,
                                 "eventType": "CX network update",
                                 "inputs": [
                                  {
                                   "creationEvent": {
                                    "endedAtTime": 1497305549994,
                                    "eventType": "CX network update",
                                    "inputs": [
                                     {
                                      "creationEvent": {
                                       "endedAtTime": 1497305299898,
                                       "eventType": "CX network update",
                                       "inputs": [
                                        {
                                         "creationEvent": {
                                          "endedAtTime": 1496265494396,
                                          "eventType": "CX network update",
                                          "inputs": [
                                           {
                                            "creationEvent": {
                                             "endedAtTime": 1496257617452,
                                             "eventType": "Set Network Properties",
                                             "inputs": [
                                              {
                                               "creationEvent": {
                                                "endedAtTime": 1495742742003,
                                                "eventType": "CX network update",
                                                "inputs": [
                                                 {
                                                  "creationEvent": {
                                                   "endedAtTime": 1438203795692,
                                                   "eventType": "Update Network Profile",
                                                   "inputs": [
                                                    {
                                                     "creationEvent": {
                                                      "endedAtTime": 1438203579903,
                                                      "eventType": "Update Network Profile",
                                                      "inputs": [
                                                       {
                                                        "creationEvent": {
                                                         "endedAtTime": 1438200595958,
                                                         "eventType": "File Upload",
                                                         "inputs": null,
                                                         "properties": [
                                                          {
                                                           "name": "user",
                                                           "value": "NetPath Database"
                                                          },
                                                          {
                                                           "name": "account name",
                                                           "value": "netpath"
                                                          },
                                                          {
                                                           "name": "filename",
                                                           "value": "NetPath_5.owl"
                                                          }
                                                         ],
                                                         "startedAtTime": 1438200595958
                                                        },
                                                        "properties": [
                                                         {
                                                          "name": "edge count",
                                                          "value": "803"
                                                         },
                                                         {
                                                          "name": "node count",
                                                          "value": "416"
                                                         },
                                                         {
                                                          "name": "dc:title",
                                                          "value": "NetPath_5"
                                                         }
                                                        ],
                                                        "uri": "http://public.ndexbio.org/network/c7e1f2ab-362d-11e5-8ac5-06603eb7f303"
                                                       }
                                                      ],
                                                      "properties": [
                                                       {
                                                        "name": "user",
                                                        "value": "NetPath Database"
                                                       },
                                                       {
                                                        "name": "account name",
                                                        "value": "netpath"
                                                       },
                                                       {
                                                        "name": "dc:title",
                                                        "value": "ID Signalling Pathway"
                                                       },
                                                       {
                                                        "name": "description",
                                                        "value": "Inhibitor of DNA binding (ID) proteins are members of the helix-loop-helix (HLH) family of proteins which lack a DNA binding domain themselves but bind to other family members inhibiting their DNA binding capacity. This family of proteins is comprised of IDs 1, 2, 3 and 4. They can be stimulated by ligands such as the Vascular Endothelial Growth Factor (VEGF), TGF beta and the T cell receptor."
                                                       }
                                                      ],
                                                      "startedAtTime": 1438203579903
                                                     },
                                                     "properties": [
                                                      {
                                                       "name": "edge count",
                                                       "value": "803"
                                                      },
                                                      {
                                                       "name": "node count",
                                                       "value": "416"
                                                      },
                                                      {
                                                       "name": "dc:title",
                                                       "value": "ID Signalling Pathway"
                                                      },
                                                      {
                                                       "name": "description",
                                                       "value": "Inhibitor of DNA binding (ID) proteins are members of the helix-loop-helix (HLH) family of proteins which lack a DNA binding domain themselves but bind to other family members inhibiting their DNA binding capacity. This family of proteins is comprised of IDs 1, 2, 3 and 4. They can be stimulated by ligands such as the Vascular Endothelial Growth Factor (VEGF), TGF beta and the T cell receptor."
                                                      }
                                                     ],
                                                     "uri": "http://public.ndexbio.org/network/c7e1f2ab-362d-11e5-8ac5-06603eb7f303"
                                                    }
                                                   ],
                                                   "properties": [
                                                    {
                                                     "name": "user",
                                                     "value": "NetPath Database"
                                                    },
                                                    {
                                                     "name": "account name",
                                                     "value": "netpath"
                                                    }
                                                   ],
                                                   "startedAtTime": 1438203795692
                                                  },
                                                  "properties": [
                                                   {
                                                    "name": "edge count",
                                                    "value": "803"
                                                   },
                                                   {
                                                    "name": "node count",
                                                    "value": "416"
                                                   },
                                                   {
                                                    "name": "dc:title",
                                                    "value": "ID Signalling Pathway"
                                                   },
                                                   {
                                                    "name": "description",
                                                    "value": "Inhibitor of DNA binding (ID) proteins are members of the helix-loop-helix (HLH) family of proteins which lack a DNA binding domain themselves but bind to other family members inhibiting their DNA binding capacity. This family of proteins is comprised of IDs 1, 2, 3 and 4. They can be stimulated by ligands such as the Vascular Endothelial Growth Factor (VEGF), TGF beta and the T cell receptor."
                                                   }
                                                  ],
                                                  "uri": "http://public.ndexbio.org/network/c7e1f2ab-362d-11e5-8ac5-06603eb7f303"
                                                 }
                                                ],
                                                "properties": [
                                                 {
                                                  "name": "user",
                                                  "value": "NetPath Database"
                                                 },
                                                 {
                                                  "name": "user name",
                                                  "value": "netpath"
                                                 }
                                                ],
                                                "startedAtTime": 1495742742003
                                               },
                                               "properties": [
                                                {
                                                 "name": "edge count",
                                                 "value": "125"
                                                },
                                                {
                                                 "name": "node count",
                                                 "value": "33"
                                                },
                                                {
                                                 "name": "dc:title",
                                                 "value": "ID Signalling Pathway"
                                                }
                                               ],
                                               "uri": "http://dev2.ndexbio.org/v2/network/c7e1f2ab-362d-11e5-8ac5-06603eb7f303/summary"
                                              }
                                             ],
                                             "properties": [
                                              {
                                               "name": "user",
                                               "value": "NetPath Database"
                                              },
                                              {
                                               "name": "user name",
                                               "value": "netpath"
                                              },
                                              {
                                               "name": "name",
                                               "value": "ID Signalling Pathway"
                                              },
                                              {
                                               "name": "description",
                                               "value": "Inhibitor of DNA binding (ID) proteins are members of the helix-loop-helix (HLH) family of proteins which lack a DNA binding domain themselves but bind to other family members inhibiting their DNA binding capacity. This family of proteins is comprised of IDs 1, 2, 3 and 4. They can be stimulated by ligands such as the Vascular Endothelial Growth Factor (VEGF), TGF beta and the T cell receptor."
                                              },
                                              {
                                               "name": "reference",
                                               "value": "<div><i style=\"color: rgb(51, 51, 51);background-color: rgb(255, 255, 255);\">Kandasamy K. et al.  </i><b style=\"color: rgb(51, 51, 51);background-color: rgb(255, 255, 255);\"><b>NetPath: a public resource of curated signal transduction pathways.</b></b><br style=\"color: rgb(51, 51, 51);background-color: rgb(255, 255, 255);\"/><span style=\"color: rgb(51, 51, 51);background-color: rgb(255, 255, 255);float: none;\">Genome Biol. 2010 Jan 12;11(1):R3</span><br style=\"color: rgb(51, 51, 51);background-color: rgb(255, 255, 255);\"/><a href=\"http://genomebiology.biomedcentral.com/articles/10.1186/gb-2010-11-1-r3\" target=\"\" style=\"color: rgb(66, 139, 202);background-color: rgb(255, 255, 255);\">doi: 10.1186/gb-2010-11-1-r3.</a><br/></div>"
                                              }
                                             ],
                                             "startedAtTime": 1496257617452
                                            },
                                            "properties": [
                                             {
                                              "name": "edge count",
                                              "value": "125"
                                             },
                                             {
                                              "name": "node count",
                                              "value": "33"
                                             },
                                             {
                                              "name": "dc:title",
                                              "value": "ID Signalling Pathway"
                                             }
                                            ],
                                            "uri": "http://dev2.ndexbio.org/v2/network/c7e1f2ab-362d-11e5-8ac5-06603eb7f303/summary"
                                           }
                                          ],
                                          "properties": [
                                           {
                                            "name": "user",
                                            "value": "NetPath Database"
                                           },
                                           {
                                            "name": "user name",
                                            "value": "netpath"
                                           }
                                          ],
                                          "startedAtTime": 1496265494396
                                         },
                                         "properties": [
                                          {
                                           "name": "edge count",
                                           "value": "125"
                                          },
                                          {
                                           "name": "node count",
                                           "value": "33"
                                          },
                                          {
                                           "name": "dc:title",
                                           "value": "ID Signalling Pathway"
                                          }
                                         ],
                                         "uri": "http://dev2.ndexbio.org/v2/network/c7e1f2ab-362d-11e5-8ac5-06603eb7f303/summary"
                                        }
                                       ],
                                       "properties": [
                                        {
                                         "name": "user",
                                         "value": "NetPath Database"
                                        },
                                        {
                                         "name": "user name",
                                         "value": "netpath"
                                        }
                                       ],
                                       "startedAtTime": 1497305299898
                                      },
                                      "properties": [
                                       {
                                        "name": "edge count",
                                        "value": "65"
                                       },
                                       {
                                        "name": "node count",
                                        "value": "33"
                                       },
                                       {
                                        "name": "dc:title",
                                        "value": "ID Signalling Pathway"
                                       },
                                       {
                                        "name": "description",
                                        "value": "Inhibitor of DNA binding (ID) proteins are members of the helix-loop-helix (HLH) family of proteins which lack a DNA binding domain themselves but bind to other family members inhibiting their DNA binding capacity. This family of proteins is comprised of IDs 1, 2, 3 and 4. They can be stimulated by ligands such as the Vascular Endothelial Growth Factor (VEGF), TGF beta and the T cell receptor."
                                       }
                                      ],
                                      "uri": "http://dev2.ndexbio.org/v2/network/c7e1f2ab-362d-11e5-8ac5-06603eb7f303/summary"
                                     }
                                    ],
                                    "properties": [
                                     {
                                      "name": "user",
                                      "value": "NetPath Database"
                                     },
                                     {
                                      "name": "user name",
                                      "value": "netpath"
                                     }
                                    ],
                                    "startedAtTime": 1497305549994
                                   },
                                   "properties": [
                                    {
                                     "name": "edge count",
                                     "value": "65"
                                    },
                                    {
                                     "name": "node count",
                                     "value": "33"
                                    },
                                    {
                                     "name": "dc:title",
                                     "value": "ID Signalling Pathway"
                                    },
                                    {
                                     "name": "description",
                                     "value": "Inhibitor of DNA binding (ID) proteins are members of the helix-loop-helix (HLH) family of proteins which lack a DNA binding domain themselves but bind to other family members inhibiting their DNA binding capacity. This family of proteins is comprised of IDs 1, 2, 3 and 4. They can be stimulated by ligands such as the Vascular Endothelial Growth Factor (VEGF), TGF beta and the T cell receptor."
                                    }
                                   ],
                                   "uri": "http://dev2.ndexbio.org/v2/network/c7e1f2ab-362d-11e5-8ac5-06603eb7f303/summary"
                                  }
                                 ],
                                 "properties": [
                                  {
                                   "name": "user",
                                   "value": "NetPath Database"
                                  },
                                  {
                                   "name": "user name",
                                   "value": "netpath"
                                  }
                                 ],
                                 "startedAtTime": 1497305959445
                                },
                                "properties": [
                                 {
                                  "name": "edge count",
                                  "value": "65"
                                 },
                                 {
                                  "name": "node count",
                                  "value": "33"
                                 },
                                 {
                                  "name": "dc:title",
                                  "value": "ID Signalling Pathway"
                                 },
                                 {
                                  "name": "description",
                                  "value": "Inhibitor of DNA binding (ID) proteins are members of the helix-loop-helix (HLH) family of proteins which lack a DNA binding domain themselves but bind to other family members inhibiting their DNA binding capacity. This family of proteins is comprised of IDs 1, 2, 3 and 4. They can be stimulated by ligands such as the Vascular Endothelial Growth Factor (VEGF), TGF beta and the T cell receptor."
                                 }
                                ],
                                "uri": "http://dev2.ndexbio.org/v2/network/c7e1f2ab-362d-11e5-8ac5-06603eb7f303/summary"
                               }
                              ],
                              "properties": [
                               {
                                "name": "user",
                                "value": "NetPath Database"
                               },
                               {
                                "name": "user name",
                                "value": "netpath"
                               }
                              ],
                              "startedAtTime": 1497548444120
                             },
                             "properties": [
                              {
                               "name": "edge count",
                               "value": "63"
                              },
                              {
                               "name": "node count",
                               "value": "33"
                              },
                              {
                               "name": "dc:title",
                               "value": "ID Signalling Pathway"
                              },
                              {
                               "name": "description",
                               "value": "Inhibitor of DNA binding (ID) proteins are members of the helix-loop-helix (HLH) family of proteins which lack a DNA binding domain themselves but bind to other family members inhibiting their DNA binding capacity. This family of proteins is comprised of IDs 1, 2, 3 and 4. They can be stimulated by ligands such as the Vascular Endothelial Growth Factor (VEGF), TGF beta and the T cell receptor."
                              }
                             ],
                             "uri": "http://dev2.ndexbio.org/v2/network/c7e1f2ab-362d-11e5-8ac5-06603eb7f303/summary"
                            }
                           ],
                           "properties": [],
                           "startedAtTime": 1499101741984
                          },
                          "properties": [],
                          "uri": "http://dev2.ndexbio.org/network/4f9fccca-6012-11e7-aa84-0660b7976219"
                         }
                        ],
                        "properties": [
                         {
                          "name": "user name",
                          "value": "rudipillich"
                         },
                         {
                          "name": "dc:title",
                          "value": "Copy of ID Signalling Pathway"
                         }
                        ],
                        "startedAtTime": 1508536093509
                       },
                       "properties": [
                        {
                         "name": "dc:title",
                         "value": "Copy of ID Signalling Pathway"
                        },
                        {
                         "name": "description",
                         "value": "Inhibitor of DNA binding (ID) proteins are members of the helix-loop-helix (HLH) family of proteins which lack a DNA binding domain themselves but bind to other family members inhibiting their DNA binding capacity. This family of proteins is comprised of IDs 1, 2, 3 and 4. They can be stimulated by ligands such as the Vascular Endothelial Growth Factor (VEGF), TGF beta and the T cell receptor."
                        },
                        {
                         "name": "version",
                         "value": "2"
                        }
                       ],
                       "uri": "http://dev2.ndexbio.org/network/4f9fccca-6012-11e7-aa84-0660b7976219"
                      }
                     ],
                     "properties": [],
                     "startedAtTime": 1510958699125
                    },
                    "properties": [
                     {
                      "name": "dc:title",
                      "value": "Copy of Copy of ID Signalling Pathway"
                     }
                    ],
                    "uri": "http://dev2.ndexbio.org/network/f0ce42b7-cbe8-11e7-ac1f-0660b7976219"
                   }
                  ],
                  "properties": [
                   {
                    "name": "user name",
                    "value": "rudipillich"
                   },
                   {
                    "name": "dc:title",
                    "value": "ID Signalling Pathway"
                   }
                  ],
                  "startedAtTime": 1510958800198
                 },
                 "properties": [
                  {
                   "name": "dc:title",
                   "value": "ID Signalling Pathway"
                  },
                  {
                   "name": "description",
                   "value": "Inhibitor of DNA binding (ID) proteins are members of the helix-loop-helix (HLH) family of proteins which lack a DNA binding domain themselves but bind to other family members inhibiting their DNA binding capacity. This family of proteins is comprised of IDs 1, 2, 3 and 4. They can be stimulated by ligands such as the Vascular Endothelial Growth Factor (VEGF), TGF beta and the T cell receptor."
                  },
                  {
                   "name": "version",
                   "value": "1.0"
                  }
                 ],
                 "uri": "http://dev2.ndexbio.org/network/f0ce42b7-cbe8-11e7-ac1f-0660b7976219"
                }
               ],
               "properties": [
                {
                 "name": "user name",
                 "value": "rudipillich"
                },
                {
                 "name": "dc:title",
                 "value": "ID Signalling Pathway"
                }
               ],
               "startedAtTime": 1529513535069
              },
              "properties": [
               {
                "name": "dc:title",
                "value": "ID Signalling Pathway"
               },
               {
                "name": "description",
                "value": "<div>this is a test description</div>"
               }
              ],
              "uri": "http://dev2.ndexbio.org/network/f0ce42b7-cbe8-11e7-ac1f-0660b7976219"
             }
            ],
            "properties": [
             {
              "name": "user name",
              "value": "rudipillich"
             },
             {
              "name": "dc:title",
              "value": "ID Signalling Pathway"
             }
            ],
            "startedAtTime": 1536625912929
           },
           "properties": [
            {
             "name": "dc:title",
             "value": "ID Signalling Pathway"
            },
            {
             "name": "description",
             "value": "<div>this is a test description</div>"
            },
            {
             "name": "version",
             "value": "1.0"
            }
           ],
           "uri": "http://dev2.ndexbio.org/network/f0ce42b7-cbe8-11e7-ac1f-0660b7976219"
          }
         }
        ]
       },
       {
        "nodes": [
         {
          "@id": 1,
          "n": "RB1"
         },
         {
          "@id": 2,
          "n": "FHL2"
         },
         {
          "@id": 3,
          "n": "ELK1"
         },
         {
          "@id": 4,
          "n": "ETS2"
         },
         {
          "@id": 5,
          "n": "ELK3"
         },
         {
          "@id": 6,
          "n": "ELK4"
         },
         {
          "@id": 7,
          "n": "PSMD4"
         },
         {
          "@id": 8,
          "n": "IFI16"
         },
         {
          "@id": 9,
          "n": "HES1"
         },
         {
          "@id": 10,
          "n": "MYOG"
         },
         {
          "@id": 11,
          "n": "TCF7L2"
         },
         {
          "@id": 12,
          "n": "SREBF1"
         },
         {
          "@id": 13,
          "n": "SMAD3"
         },
         {
          "@id": 14,
          "n": "SMURF2"
         },
         {
          "@id": 15,
          "n": "TCF12"
         },
         {
          "@id": 16,
          "n": "OLIG1"
         },
         {
          "@id": 17,
          "n": "PAX5"
         },
         {
          "@id": 18,
          "n": "OLIG2"
         },
         {
          "@id": 19,
          "n": "PAX2"
         },
         {
          "@id": 20,
          "n": "RBL2"
         },
         {
          "@id": 21,
          "n": "RBL1"
         },
         {
          "@id": 22,
          "n": "PAX8"
         },
         {
          "@id": 23,
          "n": "MYOD1"
         },
         {
          "@id": 24,
          "n": "ID2"
         },
         {
          "@id": 25,
          "n": "ID1"
         },
         {
          "@id": 26,
          "n": "CDK2"
         },
         {
          "@id": 27,
          "n": "ID4"
         },
         {
          "@id": 28,
          "n": "MYF6"
         },
         {
          "@id": 29,
          "n": "ID3"
         },
         {
          "@id": 30,
          "n": "TCF4"
         },
         {
          "@id": 31,
          "n": "TCF3"
         },
         {
          "@id": 32,
          "n": "ATF3"
         },
         {
          "@id": 33,
          "n": "MYF5"
         }
        ]
       },
       {
        "edges": [
         {
          "@id": 26,
          "i": "interacts-with",
          "s": 2,
          "t": 24
         },
         {
          "@id": 12,
          "i": "interacts-with",
          "s": 3,
          "t": 24
         },
         {
          "@id": 10,
          "i": "interacts-with",
          "s": 3,
          "t": 25
         },
         {
          "@id": 14,
          "i": "interacts-with",
          "s": 3,
          "t": 29
         },
         {
          "@id": 24,
          "i": "interacts-with",
          "s": 4,
          "t": 25
         },
         {
          "@id": 16,
          "i": "interacts-with",
          "s": 5,
          "t": 24
         },
         {
          "@id": 20,
          "i": "interacts-with",
          "s": 6,
          "t": 24
         },
         {
          "@id": 18,
          "i": "interacts-with",
          "s": 6,
          "t": 25
         },
         {
          "@id": 22,
          "i": "interacts-with",
          "s": 6,
          "t": 29
         },
         {
          "@id": 122,
          "i": "interacts-with",
          "s": 7,
          "t": 31
         },
         {
          "@id": 30,
          "i": "interacts-with",
          "s": 9,
          "t": 24
         },
         {
          "@id": 28,
          "i": "interacts-with",
          "s": 9,
          "t": 25
         },
         {
          "@id": 34,
          "i": "interacts-with",
          "s": 9,
          "t": 27
         },
         {
          "@id": 32,
          "i": "interacts-with",
          "s": 9,
          "t": 29
         },
         {
          "@id": 124,
          "i": "controls-state-change-of",
          "s": 14,
          "t": 25
         },
         {
          "@id": 125,
          "i": "controls-state-change-of",
          "s": 14,
          "t": 29
         },
         {
          "@id": 120,
          "i": "interacts-with",
          "s": 23,
          "t": 7
         },
         {
          "@id": 60,
          "i": "interacts-with",
          "s": 24,
          "t": 33
         },
         {
          "@id": 78,
          "i": "interacts-with",
          "s": 24,
          "t": 1
         },
         {
          "@id": 58,
          "i": "interacts-with",
          "s": 24,
          "t": 8
         },
         {
          "@id": 66,
          "i": "interacts-with",
          "s": 24,
          "t": 10
         },
         {
          "@id": 90,
          "i": "interacts-with",
          "s": 24,
          "t": 11
         },
         {
          "@id": 84,
          "i": "interacts-with",
          "s": 24,
          "t": 12
         },
         {
          "@id": 86,
          "i": "interacts-with",
          "s": 24,
          "t": 15
         },
         {
          "@id": 68,
          "i": "interacts-with",
          "s": 24,
          "t": 16
         },
         {
          "@id": 74,
          "i": "interacts-with",
          "s": 24,
          "t": 17
         },
         {
          "@id": 70,
          "i": "interacts-with",
          "s": 24,
          "t": 18
         },
         {
          "@id": 72,
          "i": "interacts-with",
          "s": 24,
          "t": 19
         },
         {
          "@id": 82,
          "i": "interacts-with",
          "s": 24,
          "t": 20
         },
         {
          "@id": 80,
          "i": "interacts-with",
          "s": 24,
          "t": 21
         },
         {
          "@id": 76,
          "i": "interacts-with",
          "s": 24,
          "t": 22
         },
         {
          "@id": 64,
          "i": "interacts-with",
          "s": 24,
          "t": 23
         },
         {
          "@id": 62,
          "i": "interacts-with",
          "s": 24,
          "t": 28
         },
         {
          "@id": 88,
          "i": "interacts-with",
          "s": 24,
          "t": 31
         },
         {
          "@id": 38,
          "i": "interacts-with",
          "s": 25,
          "t": 33
         },
         {
          "@id": 46,
          "i": "interacts-with",
          "s": 25,
          "t": 7
         },
         {
          "@id": 36,
          "i": "interacts-with",
          "s": 25,
          "t": 8
         },
         {
          "@id": 44,
          "i": "interacts-with",
          "s": 25,
          "t": 10
         },
         {
          "@id": 56,
          "i": "interacts-with",
          "s": 25,
          "t": 11
         },
         {
          "@id": 48,
          "i": "interacts-with",
          "s": 25,
          "t": 14
         },
         {
          "@id": 50,
          "i": "interacts-with",
          "s": 25,
          "t": 15
         },
         {
          "@id": 42,
          "i": "interacts-with",
          "s": 25,
          "t": 23
         },
         {
          "@id": 40,
          "i": "interacts-with",
          "s": 25,
          "t": 28
         },
         {
          "@id": 54,
          "i": "interacts-with",
          "s": 25,
          "t": 30
         },
         {
          "@id": 52,
          "i": "interacts-with",
          "s": 25,
          "t": 31
         },
         {
          "@id": 4,
          "i": "controls-phosphorylation-of",
          "s": 26,
          "t": 24
         },
         {
          "@id": 7,
          "i": "controls-phosphorylation-of",
          "s": 26,
          "t": 29
         },
         {
          "@id": 114,
          "i": "interacts-with",
          "s": 27,
          "t": 16
         },
         {
          "@id": 116,
          "i": "interacts-with",
          "s": 27,
          "t": 18
         },
         {
          "@id": 118,
          "i": "interacts-with",
          "s": 27,
          "t": 11
         },
         {
          "@id": 112,
          "i": "interacts-with",
          "s": 27,
          "t": 23
         },
         {
          "@id": 94,
          "i": "interacts-with",
          "s": 29,
          "t": 33
         },
         {
          "@id": 92,
          "i": "interacts-with",
          "s": 29,
          "t": 8
         },
         {
          "@id": 100,
          "i": "interacts-with",
          "s": 29,
          "t": 10
         },
         {
          "@id": 110,
          "i": "interacts-with",
          "s": 29,
          "t": 11
         },
         {
          "@id": 106,
          "i": "interacts-with",
          "s": 29,
          "t": 12
         },
         {
          "@id": 104,
          "i": "interacts-with",
          "s": 29,
          "t": 14
         },
         {
          "@id": 108,
          "i": "interacts-with",
          "s": 29,
          "t": 15
         },
         {
          "@id": 102,
          "i": "interacts-with",
          "s": 29,
          "t": 17
         },
         {
          "@id": 98,
          "i": "interacts-with",
          "s": 29,
          "t": 23
         },
         {
          "@id": 96,
          "i": "interacts-with",
          "s": 29,
          "t": 28
         },
         {
          "@id": 1,
          "i": "in-complex-with",
          "s": 32,
          "t": 13
         },
         {
          "@id": 2,
          "i": "interacts-with",
          "s": 32,
          "t": 13
         }
        ]
       },
       {
        "networkAttributes": [
         {
          "n": "name",
          "v": "ID Signalling Pathway"
         },
         {
          "n": "description",
          "v": "<div>this is a test description</div>"
         },
         {
          "n": "version",
          "v": "1.0"
         },
         {
          "n": "networkType",
          "v": "Signaling Pathway"
         },
         {
          "n": "organism",
          "v": "Human, 9606, Homo sapiens"
         },
         {
          "n": "author",
          "v": "Myself"
         },
         {
          "n": "rights",
          "v": "Attribution 4.0 International (CC BY 4.0)"
         },
         {
          "n": "rightsHolder",
          "v": "myself"
         },
         {
          "n": "reference",
          "v": ""
         }
        ]
       },
       {
        "nodeAttributes": [
         {
          "d": "list_of_string",
          "n": "alias",
          "po": 1,
          "v": [
           "HPRD:01574",
           "UniProt:P06400"
          ]
         },
         {
          "n": "type",
          "po": 1,
          "v": "Protein"
         },
         {
          "d": "list_of_string",
          "n": "alias",
          "po": 2,
          "v": [
           "HPRD:04026",
           "UniProt:Q14192"
          ]
         },
         {
          "n": "type",
          "po": 2,
          "v": "Protein"
         },
         {
          "d": "list_of_string",
          "n": "alias",
          "po": 3,
          "v": [
           "HPRD:02407",
           "UniProt:P19419"
          ]
         },
         {
          "n": "type",
          "po": 3,
          "v": "Protein"
         },
         {
          "d": "list_of_string",
          "n": "alias",
          "po": 4,
          "v": [
           "HPRD:01263",
           "UniProt:P15036"
          ]
         },
         {
          "n": "type",
          "po": 4,
          "v": "Protein"
         },
         {
          "d": "list_of_string",
          "n": "alias",
          "po": 5,
          "v": [
           "HPRD:02593",
           "UniProt:P41970"
          ]
         },
         {
          "n": "type",
          "po": 5,
          "v": "Protein"
         },
         {
          "d": "list_of_string",
          "n": "alias",
          "po": 6,
          "v": [
           "HPRD:02592",
           "UniProt:P28324"
          ]
         },
         {
          "n": "type",
          "po": 6,
          "v": "Protein"
         },
         {
          "d": "list_of_string",
          "n": "alias",
          "po": 7,
          "v": [
           "HPRD:03386",
           "UniProt:P55036"
          ]
         },
         {
          "n": "type",
          "po": 7,
          "v": "Protein"
         },
         {
          "d": "list_of_string",
          "n": "alias",
          "po": 8,
          "v": [
           "HPRD:00969",
           "UniProt:Q16666"
          ]
         },
         {
          "n": "type",
          "po": 8,
          "v": "Protein"
         },
         {
          "d": "list_of_string",
          "n": "alias",
          "po": 9,
          "v": [
           "HPRD:00770",
           "UniProt:Q14469"
          ]
         },
         {
          "n": "type",
          "po": 9,
          "v": "Protein"
         },
         {
          "d": "list_of_string",
          "n": "alias",
          "po": 10,
          "v": [
           "HPRD:01167",
           "UniProt:P15173"
          ]
         },
         {
          "n": "type",
          "po": 10,
          "v": "Protein"
         },
         {
          "d": "list_of_string",
          "n": "alias",
          "po": 11,
          "v": [
           "HPRD:03751",
           "UniProt:Q9NQB0"
          ]
         },
         {
          "n": "type",
          "po": 11,
          "v": "Protein"
         },
         {
          "d": "list_of_string",
          "n": "alias",
          "po": 12,
          "v": [
           "HPRD:01701",
           "UniProt:P36956"
          ]
         },
         {
          "n": "type",
          "po": 12,
          "v": "Protein"
         },
         {
          "d": "list_of_string",
          "n": "alias",
          "po": 13,
          "v": [
           "HPRD:04380",
           "UniProt:P84022"
          ]
         },
         {
          "n": "type",
          "po": 13,
          "v": "Protein"
         },
         {
          "d": "list_of_string",
          "n": "alias",
          "po": 14,
          "v": [
           "HPRD:06901",
           "UniProt:Q9HAU4"
          ]
         },
         {
          "n": "type",
          "po": 14,
          "v": "Protein"
         },
         {
          "d": "list_of_string",
          "n": "alias",
          "po": 15,
          "v": [
           "HPRD:02725",
           "UniProt:Q99081"
          ]
         },
         {
          "n": "type",
          "po": 15,
          "v": "Protein"
         },
         {
          "d": "list_of_string",
          "n": "alias",
          "po": 16,
          "v": [
           "HPRD:07333",
           "UniProt:Q8TAK6"
          ]
         },
         {
          "n": "type",
          "po": 16,
          "v": "Protein"
         },
         {
          "d": "list_of_string",
          "n": "alias",
          "po": 17,
          "v": [
           "HPRD:01334",
           "UniProt:Q02548"
          ]
         },
         {
          "n": "type",
          "po": 17,
          "v": "Protein"
         },
         {
          "d": "list_of_string",
          "n": "alias",
          "po": 18,
          "v": [
           "HPRD:07334",
           "UniProt:Q13516"
          ]
         },
         {
          "n": "type",
          "po": 18,
          "v": "Protein"
         },
         {
          "d": "list_of_string",
          "n": "alias",
          "po": 19,
          "v": [
           "HPRD:01330",
           "UniProt:Q02962"
          ]
         },
         {
          "n": "type",
          "po": 19,
          "v": "Protein"
         },
         {
          "d": "list_of_string",
          "n": "alias",
          "po": 20,
          "v": [
           "HPRD:01576",
           "UniProt:Q08999"
          ]
         },
         {
          "n": "type",
          "po": 20,
          "v": "Protein"
         },
         {
          "d": "list_of_string",
          "n": "alias",
          "po": 21,
          "v": [
           "HPRD:00312",
           "UniProt:P28749"
          ]
         },
         {
          "n": "type",
          "po": 21,
          "v": "Protein"
         },
         {
          "d": "list_of_string",
          "n": "alias",
          "po": 22,
          "v": [
           "HPRD:01335",
           "UniProt:Q06710"
          ]
         },
         {
          "n": "type",
          "po": 22,
          "v": "Protein"
         },
         {
          "d": "list_of_string",
          "n": "alias",
          "po": 23,
          "v": [
           "HPRD:01166",
           "UniProt:P15172"
          ]
         },
         {
          "n": "type",
          "po": 23,
          "v": "Protein"
         },
         {
          "d": "list_of_string",
          "n": "alias",
          "po": 24,
          "v": [
           "HPRD:02664",
           "UniProt:Q02363"
          ]
         },
         {
          "n": "type",
          "po": 24,
          "v": "Protein"
         },
         {
          "d": "list_of_string",
          "n": "alias",
          "po": 25,
          "v": [
           "HPRD:08980",
           "UniProt:P41134"
          ]
         },
         {
          "n": "type",
          "po": 25,
          "v": "Protein"
         },
         {
          "d": "list_of_string",
          "n": "alias",
          "po": 26,
          "v": [
           "HPRD:00310",
           "UniProt:P24941"
          ]
         },
         {
          "n": "type",
          "po": 26,
          "v": "Protein"
         },
         {
          "d": "list_of_string",
          "n": "alias",
          "po": 27,
          "v": [
           "HPRD:08995",
           "UniProt:P47928"
          ]
         },
         {
          "n": "type",
          "po": 27,
          "v": "Protein"
         },
         {
          "d": "list_of_string",
          "n": "alias",
          "po": 28,
          "v": [
           "HPRD:01169",
           "UniProt:P23409"
          ]
         },
         {
          "n": "type",
          "po": 28,
          "v": "Protein"
         },
         {
          "d": "list_of_string",
          "n": "alias",
          "po": 29,
          "v": [
           "HPRD:02608",
           "UniProt:Q02535"
          ]
         },
         {
          "n": "type",
          "po": 29,
          "v": "Protein"
         },
         {
          "d": "list_of_string",
          "n": "alias",
          "po": 30,
          "v": [
           "HPRD:03780",
           "UniProt:P15884"
          ]
         },
         {
          "n": "type",
          "po": 30,
          "v": "Protein"
         },
         {
          "d": "list_of_string",
          "n": "alias",
          "po": 31,
          "v": [
           "HPRD:00918",
           "UniProt:P15923"
          ]
         },
         {
          "n": "type",
          "po": 31,
          "v": "Protein"
         },
         {
          "d": "list_of_string",
          "n": "alias",
          "po": 32,
          "v": [
           "HPRD:04395",
           "UniProt:P18847"
          ]
         },
         {
          "n": "type",
          "po": 32,
          "v": "Protein"
         },
         {
          "d": "list_of_string",
          "n": "alias",
          "po": 33,
          "v": [
           "HPRD:01168",
           "UniProt:P13349"
          ]
         },
         {
          "n": "type",
          "po": 33,
          "v": "Protein"
         }
        ]
       },
       {
        "edgeAttributes": [
         {
          "d": "list_of_string",
          "n": "pmid",
          "po": 26,
          "v": [
           "19417068"
          ]
         },
         {
          "d": "list_of_string",
          "n": "pmid",
          "po": 12,
          "v": [
           "10022839"
          ]
         },
         {
          "d": "list_of_string",
          "n": "pmid",
          "po": 10,
          "v": [
           "10022839",
           "11134340"
          ]
         },
         {
          "d": "list_of_string",
          "n": "pmid",
          "po": 14,
          "v": [
           "10022839",
           "11134340"
          ]
         },
         {
          "d": "list_of_string",
          "n": "pmid",
          "po": 24,
          "v": [
           "11234019"
          ]
         },
         {
          "d": "list_of_string",
          "n": "pmid",
          "po": 16,
          "v": [
           "10022839"
          ]
         },
         {
          "d": "list_of_string",
          "n": "pmid",
          "po": 20,
          "v": [
           "11134340"
          ]
         },
         {
          "d": "list_of_string",
          "n": "pmid",
          "po": 18,
          "v": [
           "10022839",
           "11058077"
          ]
         },
         {
          "d": "list_of_string",
          "n": "pmid",
          "po": 22,
          "v": [
           "10022839"
          ]
         },
         {
          "d": "list_of_string",
          "n": "pmid",
          "po": 122,
          "v": [
           "9235903"
          ]
         },
         {
          "d": "list_of_string",
          "n": "pmid",
          "po": 30,
          "v": [
           "11756408"
          ]
         },
         {
          "d": "list_of_string",
          "n": "pmid",
          "po": 28,
          "v": [
           "11756408"
          ]
         },
         {
          "d": "list_of_string",
          "n": "pmid",
          "po": 34,
          "v": [
           "11756408"
          ]
         },
         {
          "d": "list_of_string",
          "n": "pmid",
          "po": 32,
          "v": [
           "11756408"
          ]
         },
         {
          "d": "boolean",
          "n": "directed",
          "po": 124,
          "v": "true"
         },
         {
          "d": "list_of_string",
          "n": "pmid",
          "po": 124,
          "v": [
           "21933340"
          ]
         },
         {
          "d": "boolean",
          "n": "directed",
          "po": 125,
          "v": "true"
         },
         {
          "d": "list_of_string",
          "n": "pmid",
          "po": 125,
          "v": [
           "21933340"
          ]
         },
         {
          "d": "list_of_string",
          "n": "pmid",
          "po": 120,
          "v": [
           "9235903"
          ]
         },
         {
          "d": "list_of_string",
          "n": "pmid",
          "po": 60,
          "v": [
           "9242638"
          ]
         },
         {
          "d": "list_of_string",
          "n": "pmid",
          "po": 78,
          "v": [
           "11034201",
           "7926730",
           "8649364"
          ]
         },
         {
          "d": "list_of_string",
          "n": "pmid",
          "po": 58,
          "v": [
           "11940648"
          ]
         },
         {
          "d": "list_of_string",
          "n": "pmid",
          "po": 66,
          "v": [
           "9242638"
          ]
         },
         {
          "d": "list_of_string",
          "n": "pmid",
          "po": 90,
          "v": [
           "11756408"
          ]
         },
         {
          "d": "list_of_string",
          "n": "pmid",
          "po": 84,
          "v": [
           "10585876",
           "18796641"
          ]
         },
         {
          "d": "list_of_string",
          "n": "pmid",
          "po": 86,
          "v": [
           "9242638"
          ]
         },
         {
          "d": "list_of_string",
          "n": "pmid",
          "po": 68,
          "v": [
           "15280210"
          ]
         },
         {
          "d": "list_of_string",
          "n": "pmid",
          "po": 74,
          "v": [
           "11134340",
           "18197815"
          ]
         },
         {
          "d": "list_of_string",
          "n": "pmid",
          "po": 70,
          "v": [
           "15280210"
          ]
         },
         {
          "d": "list_of_string",
          "n": "pmid",
          "po": 72,
          "v": [
           "11134340"
          ]
         },
         {
          "d": "list_of_string",
          "n": "pmid",
          "po": 82,
          "v": [
           "11034201",
           "8649364"
          ]
         },
         {
          "d": "list_of_string",
          "n": "pmid",
          "po": 80,
          "v": [
           "11034201",
           "8649364"
          ]
         },
         {
          "d": "list_of_string",
          "n": "pmid",
          "po": 76,
          "v": [
           "11134340",
           "18437010"
          ]
         },
         {
          "d": "list_of_string",
          "n": "pmid",
          "po": 64,
          "v": [
           "10022839",
           "1922066"
          ]
         },
         {
          "d": "list_of_string",
          "n": "pmid",
          "po": 62,
          "v": [
           "9242638"
          ]
         },
         {
          "d": "list_of_string",
          "n": "pmid",
          "po": 88,
          "v": [
           "1922066",
           "19417068"
          ]
         },
         {
          "d": "list_of_string",
          "n": "pmid",
          "po": 38,
          "v": [
           "9242638"
          ]
         },
         {
          "d": "list_of_string",
          "n": "pmid",
          "po": 46,
          "v": [
           "9235903"
          ]
         },
         {
          "d": "list_of_string",
          "n": "pmid",
          "po": 36,
          "v": [
           "11940648"
          ]
         },
         {
          "d": "list_of_string",
          "n": "pmid",
          "po": 44,
          "v": [
           "9242638"
          ]
         },
         {
          "d": "list_of_string",
          "n": "pmid",
          "po": 56,
          "v": [
           "11756408"
          ]
         },
         {
          "d": "list_of_string",
          "n": "pmid",
          "po": 48,
          "v": [
           "21933340"
          ]
         },
         {
          "d": "list_of_string",
          "n": "pmid",
          "po": 50,
          "v": [
           "9242638"
          ]
         },
         {
          "d": "list_of_string",
          "n": "pmid",
          "po": 42,
          "v": [
           "10022839",
           "1922066"
          ]
         },
         {
          "d": "list_of_string",
          "n": "pmid",
          "po": 40,
          "v": [
           "9242638"
          ]
         },
         {
          "d": "list_of_string",
          "n": "pmid",
          "po": 54,
          "v": [
           "20231428"
          ]
         },
         {
          "d": "list_of_string",
          "n": "pmid",
          "po": 52,
          "v": [
           "15138269",
           "1922066"
          ]
         },
         {
          "d": "boolean",
          "n": "directed",
          "po": 4,
          "v": "true"
         },
         {
          "d": "list_of_string",
          "n": "pmid",
          "po": 4,
          "v": [
           "11706002",
           "9029153"
          ]
         },
         {
          "d": "boolean",
          "n": "directed",
          "po": 7,
          "v": "true"
         },
         {
          "d": "list_of_string",
          "n": "pmid",
          "po": 7,
          "v": [
           "15321928",
           "9372912"
          ]
         },
         {
          "d": "list_of_string",
          "n": "pmid",
          "po": 114,
          "v": [
           "15280210"
          ]
         },
         {
          "d": "list_of_string",
          "n": "pmid",
          "po": 116,
          "v": [
           "15280210"
          ]
         },
         {
          "d": "list_of_string",
          "n": "pmid",
          "po": 118,
          "v": [
           "11756408"
          ]
         },
         {
          "d": "list_of_string",
          "n": "pmid",
          "po": 112,
          "v": [
           "11756408"
          ]
         },
         {
          "d": "list_of_string",
          "n": "pmid",
          "po": 94,
          "v": [
           "9242638"
          ]
         },
         {
          "d": "list_of_string",
          "n": "pmid",
          "po": 92,
          "v": [
           "11940648"
          ]
         },
         {
          "d": "list_of_string",
          "n": "pmid",
          "po": 100,
          "v": [
           "9242638"
          ]
         },
         {
          "d": "list_of_string",
          "n": "pmid",
          "po": 110,
          "v": [
           "11756408"
          ]
         },
         {
          "d": "list_of_string",
          "n": "pmid",
          "po": 106,
          "v": [
           "10585876",
           "18796641"
          ]
         },
         {
          "d": "list_of_string",
          "n": "pmid",
          "po": 104,
          "v": [
           "21933340"
          ]
         },
         {
          "d": "list_of_string",
          "n": "pmid",
          "po": 108,
          "v": [
           "9242638"
          ]
         },
         {
          "d": "list_of_string",
          "n": "pmid",
          "po": 102,
          "v": [
           "11134340",
           "12054881"
          ]
         },
         {
          "d": "list_of_string",
          "n": "pmid",
          "po": 98,
          "v": [
           "10022839",
           "11756408",
           "9242638"
          ]
         },
         {
          "d": "list_of_string",
          "n": "pmid",
          "po": 96,
          "v": [
           "9242638"
          ]
         },
         {
          "d": "list_of_string",
          "n": "pmid",
          "po": 2,
          "v": [
           "12718878"
          ]
         }
        ]
       },
       {
        "citations": [
         {
          "@id": 1,
          "attributes": [],
          "dc:contributor": null,
          "dc:description": null,
          "dc:identifier": "pmid:12718878",
          "dc:title": null,
          "dc:type": null
         },
         {
          "@id": 2,
          "attributes": [],
          "dc:contributor": null,
          "dc:description": null,
          "dc:identifier": "pmid:11706002",
          "dc:title": null,
          "dc:type": null
         },
         {
          "@id": 3,
          "attributes": [],
          "dc:contributor": null,
          "dc:description": null,
          "dc:identifier": "pmid:9029153",
          "dc:title": null,
          "dc:type": null
         },
         {
          "@id": 4,
          "attributes": [],
          "dc:contributor": null,
          "dc:description": null,
          "dc:identifier": "pmid:15321928",
          "dc:title": null,
          "dc:type": null
         },
         {
          "@id": 5,
          "attributes": [],
          "dc:contributor": null,
          "dc:description": null,
          "dc:identifier": "pmid:9372912",
          "dc:title": null,
          "dc:type": null
         },
         {
          "@id": 6,
          "attributes": [],
          "dc:contributor": null,
          "dc:description": null,
          "dc:identifier": "pmid:10022839",
          "dc:title": null,
          "dc:type": null
         },
         {
          "@id": 7,
          "attributes": [],
          "dc:contributor": null,
          "dc:description": null,
          "dc:identifier": "pmid:11134340",
          "dc:title": null,
          "dc:type": null
         },
         {
          "@id": 8,
          "attributes": [],
          "dc:contributor": null,
          "dc:description": null,
          "dc:identifier": "pmid:11058077",
          "dc:title": null,
          "dc:type": null
         },
         {
          "@id": 9,
          "attributes": [],
          "dc:contributor": null,
          "dc:description": null,
          "dc:identifier": "pmid:11234019",
          "dc:title": null,
          "dc:type": null
         },
         {
          "@id": 10,
          "attributes": [],
          "dc:contributor": null,
          "dc:description": null,
          "dc:identifier": "pmid:19417068",
          "dc:title": null,
          "dc:type": null
         },
         {
          "@id": 11,
          "attributes": [],
          "dc:contributor": null,
          "dc:description": null,
          "dc:identifier": "pmid:11756408",
          "dc:title": null,
          "dc:type": null
         },
         {
          "@id": 12,
          "attributes": [],
          "dc:contributor": null,
          "dc:description": null,
          "dc:identifier": "pmid:11940648",
          "dc:title": null,
          "dc:type": null
         },
         {
          "@id": 13,
          "attributes": [],
          "dc:contributor": null,
          "dc:description": null,
          "dc:identifier": "pmid:9242638",
          "dc:title": null,
          "dc:type": null
         },
         {
          "@id": 14,
          "attributes": [],
          "dc:contributor": null,
          "dc:description": null,
          "dc:identifier": "pmid:1922066",
          "dc:title": null,
          "dc:type": null
         },
         {
          "@id": 15,
          "attributes": [],
          "dc:contributor": null,
          "dc:description": null,
          "dc:identifier": "pmid:9235903",
          "dc:title": null,
          "dc:type": null
         },
         {
          "@id": 16,
          "attributes": [],
          "dc:contributor": null,
          "dc:description": null,
          "dc:identifier": "pmid:21933340",
          "dc:title": null,
          "dc:type": null
         },
         {
          "@id": 17,
          "attributes": [],
          "dc:contributor": null,
          "dc:description": null,
          "dc:identifier": "pmid:15138269",
          "dc:title": null,
          "dc:type": null
         },
         {
          "@id": 18,
          "attributes": [],
          "dc:contributor": null,
          "dc:description": null,
          "dc:identifier": "pmid:20231428",
          "dc:title": null,
          "dc:type": null
         },
         {
          "@id": 19,
          "attributes": [],
          "dc:contributor": null,
          "dc:description": null,
          "dc:identifier": "pmid:15280210",
          "dc:title": null,
          "dc:type": null
         },
         {
          "@id": 20,
          "attributes": [],
          "dc:contributor": null,
          "dc:description": null,
          "dc:identifier": "pmid:18197815",
          "dc:title": null,
          "dc:type": null
         },
         {
          "@id": 21,
          "attributes": [],
          "dc:contributor": null,
          "dc:description": null,
          "dc:identifier": "pmid:18437010",
          "dc:title": null,
          "dc:type": null
         },
         {
          "@id": 22,
          "attributes": [],
          "dc:contributor": null,
          "dc:description": null,
          "dc:identifier": "pmid:11034201",
          "dc:title": null,
          "dc:type": null
         },
         {
          "@id": 23,
          "attributes": [],
          "dc:contributor": null,
          "dc:description": null,
          "dc:identifier": "pmid:7926730",
          "dc:title": null,
          "dc:type": null
         },
         {
          "@id": 24,
          "attributes": [],
          "dc:contributor": null,
          "dc:description": null,
          "dc:identifier": "pmid:8649364",
          "dc:title": null,
          "dc:type": null
         },
         {
          "@id": 25,
          "attributes": [],
          "dc:contributor": null,
          "dc:description": null,
          "dc:identifier": "pmid:10585876",
          "dc:title": null,
          "dc:type": null
         },
         {
          "@id": 26,
          "attributes": [],
          "dc:contributor": null,
          "dc:description": null,
          "dc:identifier": "pmid:18796641",
          "dc:title": null,
          "dc:type": null
         },
         {
          "@id": 27,
          "attributes": [],
          "dc:contributor": null,
          "dc:description": null,
          "dc:identifier": "pmid:12054881",
          "dc:title": null,
          "dc:type": null
         }
        ]
       },
       {
        "edgeCitations": [
         {
          "citations": [
           1
          ],
          "po": [
           2
          ]
         },
         {
          "citations": [
           2,
           3
          ],
          "po": [
           4
          ]
         },
         {
          "citations": [
           4,
           5
          ],
          "po": [
           7
          ]
         },
         {
          "citations": [
           6,
           7
          ],
          "po": [
           10
          ]
         },
         {
          "citations": [
           6
          ],
          "po": [
           12
          ]
         },
         {
          "citations": [
           6,
           7
          ],
          "po": [
           14
          ]
         },
         {
          "citations": [
           6
          ],
          "po": [
           16
          ]
         },
         {
          "citations": [
           6,
           8
          ],
          "po": [
           18
          ]
         },
         {
          "citations": [
           7
          ],
          "po": [
           20
          ]
         },
         {
          "citations": [
           6
          ],
          "po": [
           22
          ]
         },
         {
          "citations": [
           9
          ],
          "po": [
           24
          ]
         },
         {
          "citations": [
           10
          ],
          "po": [
           26
          ]
         },
         {
          "citations": [
           11
          ],
          "po": [
           28
          ]
         },
         {
          "citations": [
           11
          ],
          "po": [
           30
          ]
         },
         {
          "citations": [
           11
          ],
          "po": [
           32
          ]
         },
         {
          "citations": [
           11
          ],
          "po": [
           34
          ]
         },
         {
          "citations": [
           12
          ],
          "po": [
           36
          ]
         },
         {
          "citations": [
           13
          ],
          "po": [
           38
          ]
         },
         {
          "citations": [
           13
          ],
          "po": [
           40
          ]
         },
         {
          "citations": [
           6,
           14
          ],
          "po": [
           42
          ]
         },
         {
          "citations": [
           13
          ],
          "po": [
           44
          ]
         },
         {
          "citations": [
           15
          ],
          "po": [
           46
          ]
         },
         {
          "citations": [
           16
          ],
          "po": [
           48
          ]
         },
         {
          "citations": [
           13
          ],
          "po": [
           50
          ]
         },
         {
          "citations": [
           17,
           14
          ],
          "po": [
           52
          ]
         },
         {
          "citations": [
           18
          ],
          "po": [
           54
          ]
         },
         {
          "citations": [
           11
          ],
          "po": [
           56
          ]
         },
         {
          "citations": [
           12
          ],
          "po": [
           58
          ]
         },
         {
          "citations": [
           13
          ],
          "po": [
           60
          ]
         },
         {
          "citations": [
           13
          ],
          "po": [
           62
          ]
         },
         {
          "citations": [
           6,
           14
          ],
          "po": [
           64
          ]
         },
         {
          "citations": [
           13
          ],
          "po": [
           66
          ]
         },
         {
          "citations": [
           19
          ],
          "po": [
           68
          ]
         },
         {
          "citations": [
           19
          ],
          "po": [
           70
          ]
         },
         {
          "citations": [
           7
          ],
          "po": [
           72
          ]
         },
         {
          "citations": [
           7,
           20
          ],
          "po": [
           74
          ]
         },
         {
          "citations": [
           7,
           21
          ],
          "po": [
           76
          ]
         },
         {
          "citations": [
           22,
           23,
           24
          ],
          "po": [
           78
          ]
         },
         {
          "citations": [
           22,
           24
          ],
          "po": [
           80
          ]
         },
         {
          "citations": [
           22,
           24
          ],
          "po": [
           82
          ]
         },
         {
          "citations": [
           25,
           26
          ],
          "po": [
           84
          ]
         },
         {
          "citations": [
           13
          ],
          "po": [
           86
          ]
         },
         {
          "citations": [
           14,
           10
          ],
          "po": [
           88
          ]
         },
         {
          "citations": [
           11
          ],
          "po": [
           90
          ]
         },
         {
          "citations": [
           12
          ],
          "po": [
           92
          ]
         },
         {
          "citations": [
           13
          ],
          "po": [
           94
          ]
         },
         {
          "citations": [
           13
          ],
          "po": [
           96
          ]
         },
         {
          "citations": [
           6,
           11,
           13
          ],
          "po": [
           98
          ]
         },
         {
          "citations": [
           13
          ],
          "po": [
           100
          ]
         },
         {
          "citations": [
           7,
           27
          ],
          "po": [
           102
          ]
         },
         {
          "citations": [
           16
          ],
          "po": [
           104
          ]
         },
         {
          "citations": [
           25,
           26
          ],
          "po": [
           106
          ]
         },
         {
          "citations": [
           13
          ],
          "po": [
           108
          ]
         },
         {
          "citations": [
           11
          ],
          "po": [
           110
          ]
         },
         {
          "citations": [
           11
          ],
          "po": [
           112
          ]
         },
         {
          "citations": [
           19
          ],
          "po": [
           114
          ]
         },
         {
          "citations": [
           19
          ],
          "po": [
           116
          ]
         },
         {
          "citations": [
           11
          ],
          "po": [
           118
          ]
         },
         {
          "citations": [
           15
          ],
          "po": [
           120
          ]
         },
         {
          "citations": [
           15
          ],
          "po": [
           122
          ]
         },
         {
          "citations": [
           16
          ],
          "po": [
           124
          ]
         },
         {
          "citations": [
           16
          ],
          "po": [
           125
          ]
         }
        ]
       },
       {
        "cartesianLayout": [
         {
          "node": 1,
          "x": 384.0104687361797,
          "y": 210.80051504861675
         },
         {
          "node": 2,
          "x": 784.1319261216761,
          "y": 130.07993775078648
         },
         {
          "node": 3,
          "x": 567.7814841827019,
          "y": 460.9727814388133
         },
         {
          "node": 4,
          "x": 355.27492283067335,
          "y": 549.4116384158087
         },
         {
          "node": 5,
          "x": 784.8376797472101,
          "y": 193.3561887400112
         },
         {
          "node": 6,
          "x": 505.4907334818449,
          "y": 437.4960645808543
         },
         {
          "node": 7,
          "x": 242.5103747833912,
          "y": 529.2410928432876
         },
         {
          "node": 8,
          "x": 656.649441812463,
          "y": 400.61911968114936
         },
         {
          "node": 9,
          "x": 448.6113604819065,
          "y": 136.74855268434362
         },
         {
          "node": 10,
          "x": 480.56703339377424,
          "y": 239.30590760969
         },
         {
          "node": 11,
          "x": 380.5786198499556,
          "y": 145.34018088802938
         },
         {
          "node": 12,
          "x": 678.1769295322788,
          "y": 255.57263537576708
         },
         {
          "node": 13,
          "x": -12.12481762018287,
          "y": 202.54433875541298
         },
         {
          "node": 14,
          "x": 111.47328716623504,
          "y": 306.04012192126805
         },
         {
          "node": 15,
          "x": 605.6309083835898,
          "y": 337.22861344809
         },
         {
          "node": 16,
          "x": 523.4792548278668,
          "y": -47.46910320428991
         },
         {
          "node": 17,
          "x": 710.6324594502357,
          "y": 331.211626594902
         },
         {
          "node": 18,
          "x": 481.8287690363742,
          "y": 2.146815911059382
         },
         {
          "node": 19,
          "x": 649.6508398958681,
          "y": 71.34344401053714
         },
         {
          "node": 20,
          "x": 789.0510194156757,
          "y": 257.1987376854756
         },
         {
          "node": 21,
          "x": 716.4510956055841,
          "y": 56.211007767378725
         },
         {
          "node": 22,
          "x": 723.8949228500119,
          "y": 120.88941868743225
         },
         {
          "node": 23,
          "x": 194.87637001711303,
          "y": 413.3477439918262
         },
         {
          "node": 24,
          "x": 601.8966193170326,
          "y": 215.22644592950397
         },
         {
          "node": 25,
          "x": 439.2990924432648,
          "y": 393.8376830874051
         },
         {
          "node": 26,
          "x": 164.49461465309219,
          "y": 270.3574031662961
         },
         {
          "node": 27,
          "x": 375.4139489362202,
          "y": -32.9318294334124
         },
         {
          "node": 28,
          "x": 620.0728582820988,
          "y": 438.68446595330374
         },
         {
          "node": 29,
          "x": 496.7387322792089,
          "y": 311.13251368493763
         },
         {
          "node": 30,
          "x": 423.219428957623,
          "y": 576.7245090195506
         },
         {
          "node": 31,
          "x": 363.24973358577495,
          "y": 410.12381532627796
         },
         {
          "node": 32,
          "x": -161.18741996429736,
          "y": 155.43079010858375
         },
         {
          "node": 33,
          "x": 548.6908616276736,
          "y": 374.127557117545
         }
        ]
       },
       {
        "cyVisualProperties": [
         {
          "properties": {
           "NETWORK_BACKGROUND_PAINT": "#EDEDF5",
           "NETWORK_CENTER_X_LOCATION": "0.0",
           "NETWORK_CENTER_Y_LOCATION": "0.0",
           "NETWORK_CENTER_Z_LOCATION": "0.0",
           "NETWORK_DEPTH": "0.0",
           "NETWORK_EDGE_SELECTION": "true",
           "NETWORK_HEIGHT": "400.0",
           "NETWORK_NODE_SELECTION": "true",
           "NETWORK_SCALE_FACTOR": "1.0",
           "NETWORK_WIDTH": "550.0"
          },
          "properties_of": "network"
         },
         {
          "dependencies": {
           "nodeCustomGraphicsSizeSync": "true",
           "nodeSizeLocked": "false"
          },
          "mappings": {
           "NODE_LABEL": {
            "definition": "COL=name,T=string",
            "type": "PASSTHROUGH"
           }
          },
          "properties": {
           "COMPOUND_NODE_PADDING": "10.0",
           "COMPOUND_NODE_SHAPE": "ROUND_RECTANGLE",
           "NODE_BORDER_PAINT": "#003366",
           "NODE_BORDER_STROKE": "SOLID",
           "NODE_BORDER_TRANSPARENCY": "255",
           "NODE_BORDER_WIDTH": "2.0",
           "NODE_CUSTOMGRAPHICS_1": "org.cytoscape.ding.customgraphics.NullCustomGraphics,0,[ Remove Graphics ],",
           "NODE_CUSTOMGRAPHICS_2": "org.cytoscape.ding.customgraphics.NullCustomGraphics,0,[ Remove Graphics ],",
           "NODE_CUSTOMGRAPHICS_3": "org.cytoscape.ding.customgraphics.NullCustomGraphics,0,[ Remove Graphics ],",
           "NODE_CUSTOMGRAPHICS_4": "org.cytoscape.ding.customgraphics.NullCustomGraphics,0,[ Remove Graphics ],",
           "NODE_CUSTOMGRAPHICS_5": "org.cytoscape.ding.customgraphics.NullCustomGraphics,0,[ Remove Graphics ],",
           "NODE_CUSTOMGRAPHICS_6": "org.cytoscape.ding.customgraphics.NullCustomGraphics,0,[ Remove Graphics ],",
           "NODE_CUSTOMGRAPHICS_7": "org.cytoscape.ding.customgraphics.NullCustomGraphics,0,[ Remove Graphics ],",
           "NODE_CUSTOMGRAPHICS_8": "org.cytoscape.ding.customgraphics.NullCustomGraphics,0,[ Remove Graphics ],",
           "NODE_CUSTOMGRAPHICS_9": "org.cytoscape.ding.customgraphics.NullCustomGraphics,0,[ Remove Graphics ],",
           "NODE_CUSTOMGRAPHICS_POSITION_1": "C,C,c,0.00,0.00",
           "NODE_CUSTOMGRAPHICS_POSITION_2": "C,C,c,0.00,0.00",
           "NODE_CUSTOMGRAPHICS_POSITION_3": "C,C,c,0.00,0.00",
           "NODE_CUSTOMGRAPHICS_POSITION_4": "C,C,c,0.00,0.00",
           "NODE_CUSTOMGRAPHICS_POSITION_5": "C,C,c,0.00,0.00",
           "NODE_CUSTOMGRAPHICS_POSITION_6": "C,C,c,0.00,0.00",
           "NODE_CUSTOMGRAPHICS_POSITION_7": "C,C,c,0.00,0.00",
           "NODE_CUSTOMGRAPHICS_POSITION_8": "C,C,c,0.00,0.00",
           "NODE_CUSTOMGRAPHICS_POSITION_9": "C,C,c,0.00,0.00",
           "NODE_CUSTOMGRAPHICS_SIZE_1": "0.0",
           "NODE_CUSTOMGRAPHICS_SIZE_2": "0.0",
           "NODE_CUSTOMGRAPHICS_SIZE_3": "0.0",
           "NODE_CUSTOMGRAPHICS_SIZE_4": "0.0",
           "NODE_CUSTOMGRAPHICS_SIZE_5": "0.0",
           "NODE_CUSTOMGRAPHICS_SIZE_6": "0.0",
           "NODE_CUSTOMGRAPHICS_SIZE_7": "0.0",
           "NODE_CUSTOMGRAPHICS_SIZE_8": "0.0",
           "NODE_CUSTOMGRAPHICS_SIZE_9": "0.0",
           "NODE_DEPTH": "0.0",
           "NODE_FILL_COLOR": "#FFFFFF",
           "NODE_HEIGHT": "40.0",
           "NODE_LABEL_COLOR": "#003366",
           "NODE_LABEL_FONT_FACE": "SansSerif.plain,plain,12",
           "NODE_LABEL_FONT_SIZE": "12",
           "NODE_LABEL_POSITION": "C,C,c,0.00,0.00",
           "NODE_LABEL_TRANSPARENCY": "255",
           "NODE_LABEL_WIDTH": "200.0",
           "NODE_NESTED_NETWORK_IMAGE_VISIBLE": "true",
           "NODE_SELECTED": "false",
           "NODE_SELECTED_PAINT": "#FFFF00",
           "NODE_SHAPE": "ELLIPSE",
           "NODE_TRANSPARENCY": "255",
           "NODE_VISIBLE": "true",
           "NODE_WIDTH": "60.0",
           "NODE_X_LOCATION": "0.0",
           "NODE_Y_LOCATION": "0.0",
           "NODE_Z_LOCATION": "0.0"
          },
          "properties_of": "nodes:default"
         },
         {
          "dependencies": {
           "arrowColorMatchesEdge": "true"
          },
          "mappings": {
           "EDGE_LINE_TYPE": {
            "definition": "COL=shared interaction,T=string,K=0=neighbor-of,V=0=EQUAL_DASH",
            "type": "DISCRETE"
           },
           "EDGE_TARGET_ARROW_SHAPE": {
            "definition": "COL=directed,T=boolean,K=0=true,V=0=ARROW",
            "type": "DISCRETE"
           },
           "EDGE_UNSELECTED_PAINT": {
            "definition": "COL=shared interaction,T=string,K=0=interacts-with,V=0=#00CC33,K=1=controls-state-change-of,V=1=#0000CC,K=2=controls-phosphorylation-of,V=2=#0066FF,K=3=in-complex-with,V=3=#006633,K=4=neighbor-of,V=4=#666666",
            "type": "DISCRETE"
           }
          },
          "properties": {
           "EDGE_CURVED": "true",
           "EDGE_LABEL_COLOR": "#000000",
           "EDGE_LABEL_FONT_FACE": "SansSerif.plain,plain,10",
           "EDGE_LABEL_FONT_SIZE": "10",
           "EDGE_LABEL_TRANSPARENCY": "255",
           "EDGE_LABEL_WIDTH": "200.0",
           "EDGE_LINE_TYPE": "SOLID",
           "EDGE_SELECTED": "false",
           "EDGE_SOURCE_ARROW_SELECTED_PAINT": "#FFFF00",
           "EDGE_SOURCE_ARROW_SHAPE": "NONE",
           "EDGE_SOURCE_ARROW_UNSELECTED_PAINT": "#000000",
           "EDGE_STROKE_SELECTED_PAINT": "#FF0000",
           "EDGE_STROKE_UNSELECTED_PAINT": "#000000",
           "EDGE_TARGET_ARROW_SELECTED_PAINT": "#FFFF00",
           "EDGE_TARGET_ARROW_SHAPE": "NONE",
           "EDGE_TARGET_ARROW_UNSELECTED_PAINT": "#000000",
           "EDGE_TRANSPARENCY": "255",
           "EDGE_UNSELECTED_PAINT": "#000000",
           "EDGE_VISIBLE": "true",
           "EDGE_WIDTH": "2.5"
          },
          "properties_of": "edges:default"
         }
        ]
       },
       {
        "status": [
         {
          "error": "",
          "success": true
         }
        ]
       }
      ]
     },
     "metadata": {},
     "output_type": "display_data"
    }
   ],
   "source": [
    "from IPython.display import display\n",
    "import json\n",
    "\n",
    "data = ''\n",
    "with open('example2.cx') as f:\n",
    "    data = f.read()\n",
    "\n",
    "data_json = json.loads(data)\n",
    "cx_data = {\n",
    "    \"application/cx\": data_json\n",
    "}\n",
    "\n",
    "display(cx_data,raw=True)"
   ]
  },
  {
   "cell_type": "code",
   "execution_count": 21,
   "metadata": {
    "slideshow": {
     "slide_type": "-"
    }
   },
   "outputs": [
    {
     "data": {
      "application/cx": {
       "data": {
        "name": "Test1"
       },
       "elements": {
        "edges": [],
        "nodes": [
         {
          "data": {
           "id": "1",
           "name": "test"
          }
         }
        ]
       }
      }
     },
     "metadata": {},
     "output_type": "display_data"
    }
   ],
   "source": [
    "cyjs_graph = {\n",
    "  'elements': {\n",
    "    'nodes': [\n",
    "      {'data': {'id': 1, 'name': 'test'}}\n",
    "    ],\n",
    "    'edges': []\n",
    "  },\n",
    "  'data': {\n",
    "    'name': 'Test1'\n",
    "  }\n",
    "}\n",
    "\n",
    "cy_data = {\n",
    "    \"application/cx\": cyjs_graph\n",
    "}\n",
    "\n",
    "display(cy_data,raw=True)"
   ]
  },
  {
   "cell_type": "code",
   "execution_count": 11,
   "metadata": {},
   "outputs": [],
   "source": [
    "import pandas as pd\n",
    "from pprint import pprint\n",
    "from collections import defaultdict\n",
    "from mygene import MyGeneInfo\n",
    "import requests\n",
    "import graphviz as gv\n"
   ]
  },
  {
   "cell_type": "code",
   "execution_count": 3,
   "metadata": {},
   "outputs": [],
   "source": [
    "mg = MyGeneInfo()\n"
   ]
  },
  {
   "cell_type": "code",
   "execution_count": 6,
   "metadata": {},
   "outputs": [],
   "source": [
    "class BioLinkWrapper(object):\n",
    "    def __init__(self):\n",
    "        self.endpoint = 'https://api.monarchinitiative.org/api/'\n",
    "        self.params = {\n",
    "            'fetch_objects': 'true',\n",
    "        }\n",
    "\n",
    "    def get_obj(self, obj_id):\n",
    "        url = '{0}bioentity/{1}'.format(self.endpoint, obj_id)\n",
    "        response = requests.get(url)\n",
    "        return response.json()\n",
    "\n",
    "    def disease2genes(self, disease_curie):\n",
    "        params = {}\n",
    "        url = '{0}bioentity/disease/{1}/genes'.format(self.endpoint, disease_curie)\n",
    "        response = requests.get(url, params)\n",
    "        return response.json()\n",
    "\n",
    "    def disease2phenotypes(self, disease_curie):\n",
    "        params = {}\n",
    "        url = '{0}bioentity/disease/{1}/phenotypes'.format(self.endpoint, disease_curie)\n",
    "        response = requests.get(url, params)\n",
    "        return response.json()\n",
    "\n",
    "    def gene(self, gene_curie):\n",
    "        params = {}\n",
    "        url = '{0}bioentity/gene/{1}'.format(self.endpoint, gene_curie)\n",
    "        response = requests.get(url, params)\n",
    "        return response.json()\n",
    "\n",
    "    def gene2orthologs(self, gene_curie, orth_taxon_name=None):\n",
    "        taxon_map = {\n",
    "            'mouse': 'NCBITaxon:10090',\n",
    "            'rat': 'NCBITaxon:10116',\n",
    "            'zebrafish': 'NCBITaxon:7955',\n",
    "            'fly': 'NCBITaxon:7227',\n",
    "            'worm': 'NCBITaxon:6239'\n",
    "        }\n",
    "        params = {}\n",
    "        if orth_taxon_name:\n",
    "            params['homolog_taxon'] = taxon_map[orth_taxon_name]\n",
    "        url = '{}bioentity/gene/{}/homologs/'.format(self.endpoint, gene_curie)\n",
    "        response = requests.get(url, params)\n",
    "        return response.json()\n",
    "\n",
    "    def gene2phenotypes(self, gene_curie):\n",
    "        url = '{}bioentity/gene/{}/phenotypes/'.format(self.endpoint, gene_curie)\n",
    "        response = requests.get(url)\n",
    "        return response.json()\n",
    "\n",
    "    def gene2diseases(self, gene_curie):\n",
    "        url = '{}bioentity/gene/{}/diseases/'.format(self.endpoint, gene_curie)\n",
    "        response = requests.get(url)\n",
    "        return response.json()\n",
    "\n",
    "    def gene_interactions(self, gene_curie):\n",
    "        url = '{}bioentity/gene/{}/interactions/'.format(self.endpoint, gene_curie)\n",
    "        response = requests.get(url)\n",
    "        return response.json()\n",
    "\n",
    "    def gene2functions(self, gene_curie):\n",
    "        url = '{}bioentity/gene/{}/function/'.format(self.endpoint, gene_curie)\n",
    "        response = requests.get(url)\n",
    "        return response.json()\n",
    "\n",
    "    def gene2tissue_expression(self, gene_curie):\n",
    "        url = '{}bioentity/gene/{}/expression/anatomy/'.format(self.endpoint, gene_curie)\n",
    "        response = requests.get(url)\n",
    "        return response.json()\n",
    "\n",
    "    def tissue2gene_expression(self, tissue_curie):\n",
    "        url = '{}bioentity/anatomy/{}/genes/'.format(self.endpoint, gene_curie)\n",
    "        response = requests.get(url)\n",
    "        return response.json()\n",
    "\n",
    "    def disease_models(self, disease_curie):\n",
    "        url = '{}/bioentity/disease/{}/models/'.format(self.endpoint, disease_curie)\n",
    "        response = requests.get(url)\n",
    "        return response.json()\n",
    "\n",
    "    def taxon2phenotypes(self, taxon_curie):\n",
    "        # get phenotypes associated with taxid\n",
    "        url = \"mart/gene/phenotype/{}\".format(self.endpoint, taxon_curie)\n",
    "        response = requests.get(url)\n",
    "        return response.json()\n",
    "\n",
    "    def parse_gene_functions(self, curie):\n",
    "        function_list = list()\n",
    "        functions = self.gene2functions(gene_curie=curie)\n",
    "        if 'associations' in functions.keys():\n",
    "            for assoc in functions['associations']:\n",
    "                function_list.append(assoc['object']['label'])\n",
    "        function_set = set(function_list)\n",
    "        return \", \".join(function_set)\n",
    "\n",
    "    def get_orthoglog_gene_set(self, gene_set, orth_taxon_name):\n",
    "        orth_set = []\n",
    "        for gene in gene_set:\n",
    "            orth_set.append(self.gene2orthologs(gene_curie=gene, orth_taxon_name=orth_taxon_name))\n",
    "        return orth_set\n",
    "\n",
    "\n",
    "    @staticmethod\n",
    "    def parse_sources(sources):\n",
    "        return [x.split('/')[-1].rstrip('.ttl') for x in sources]\n",
    "\n",
    "    @staticmethod\n",
    "    def parse_association(input_id, input_label, association, invert_subject_object=False):\n",
    "        hit_id = association['object']['id']\n",
    "        hit_label = association['object']['label']\n",
    "        if invert_subject_object:\n",
    "            hit_id = association['subject']['id']\n",
    "            hit_label = association['subject']['label']\n",
    "        parsed_association = {\n",
    "            'input_id': input_id,\n",
    "            'input_label': input_label,\n",
    "            'hit_id': hit_id,\n",
    "            'hit_label': hit_label,\n",
    "            'sources': BioLinkWrapper.parse_sources(association['provided_by']),\n",
    "        }\n",
    "        return parsed_association\n",
    "\n",
    "    @staticmethod\n",
    "    def return_objects(assoc_package):\n",
    "        return assoc_package['objects']\n",
    "\n",
    "\n"
   ]
  },
  {
   "cell_type": "code",
   "execution_count": 7,
   "metadata": {},
   "outputs": [],
   "source": [
    "blw = BioLinkWrapper()\n"
   ]
  },
  {
   "cell_type": "code",
   "execution_count": 8,
   "metadata": {},
   "outputs": [],
   "source": [
    "def conv_pref(prefix):\n",
    "    return prefix.replace(':', '_')\n",
    "\n",
    "def map_id(in_id):\n",
    "    return blw.get_obj(obj_id=in_id)['id']"
   ]
  },
  {
   "cell_type": "code",
   "execution_count": 27,
   "metadata": {},
   "outputs": [],
   "source": [
    "# workflow input is a disease identifier\n",
    "fanconi_anemia = 'MONDO:0019391'\n",
    "\n",
    "# Begin Graphviz representation of workflow\n",
    "wf2_graph = gv.Digraph(name=\"Workfow II Fanconi Anemia Implementation\", format='json')\n",
    "wf2_graph.node(conv_pref(fanconi_anemia), label='Fanoni Anemia')\n",
    "\n",
    "wf2_graph.node('Mod1A', label='Mod1A Functional Similarity')\n",
    "wf2_graph.node('Mod1B', label='Mod1B Phenotype Similarity')\n",
    "wf2_graph.node('Mod1C', label='Mod1C Coexpression')\n",
    "wf2_graph.node('Mod1D', label='Mod1D Gene Chemical Interaction')\n",
    "wf2_graph.node('Mod1E', label='Mod1E Gene Interaction')\n",
    "wf2_graph.node('Mod3', label='Mod3 Candidate Merging')"
   ]
  },
  {
   "cell_type": "code",
   "execution_count": 32,
   "metadata": {},
   "outputs": [
    {
     "data": {
      "text/plain": [
       "'Workfow II Fanconi Anemia Implementation.gv.json'"
      ]
     },
     "execution_count": 32,
     "metadata": {},
     "output_type": "execute_result"
    }
   ],
   "source": [
    "wf2_graph.format = 'json'\n",
    "res = wf2_graph.render()\n",
    "res"
   ]
  },
  {
   "cell_type": "code",
   "execution_count": null,
   "metadata": {},
   "outputs": [],
   "source": []
  },
  {
   "cell_type": "code",
   "execution_count": null,
   "metadata": {},
   "outputs": [],
   "source": [
    "import ndex2.client as nc\n",
    "import io\n",
    "import json\n",
    "from IPython.display import HTML\n",
    "from time import sleep\n",
    "anon_ndex=nc.Ndex2(\"http://public.ndexbio.org\")\n",
    "anon_ndex.update_status()\n",
    "\n",
    "#the string of below command is match the uuid of the network which you want to draw in ndex page.\n",
    "response=anon_ndex.get_network_as_cx_stream('54a9a35b-1e5f-11e8-b939-0ac135e8bacf')\n",
    "print(\"Received %s characters of CX\" % len(response.content))\n",
    "raw_cx = response.json()\n",
    "\n",
    "#raw_cx= json.loads(response)\n",
    "\n",
    "cx_data = {\n",
    "    \"application/cx\": raw_cx\n",
    "}\n",
    "display(cx_data,raw=True)"
   ]
  },
  {
   "cell_type": "code",
   "execution_count": null,
   "metadata": {},
   "outputs": [],
   "source": []
  },
  {
   "cell_type": "code",
   "execution_count": null,
   "metadata": {},
   "outputs": [],
   "source": []
  },
  {
   "cell_type": "code",
   "execution_count": null,
   "metadata": {},
   "outputs": [],
   "source": []
  }
 ],
 "metadata": {
  "kernelspec": {
   "display_name": "Python 3",
   "language": "python",
   "name": "python3"
  },
  "language_info": {
   "codemirror_mode": {
    "name": "ipython",
    "version": 3
   },
   "file_extension": ".py",
   "mimetype": "text/x-python",
   "name": "python",
   "nbconvert_exporter": "python",
   "pygments_lexer": "ipython3",
   "version": "3.6.6"
  }
 },
 "nbformat": 4,
 "nbformat_minor": 2
}

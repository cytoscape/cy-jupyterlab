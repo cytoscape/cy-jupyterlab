{
 "cells": [
  {
   "cell_type": "markdown",
   "metadata": {},
   "source": [
    "# Graph Viewer Demo\n",
    "\n",
    "## 1. View a CX graph in an interactive viewer"
   ]
  },
  {
   "cell_type": "code",
   "execution_count": 18,
   "metadata": {},
   "outputs": [
    {
     "data": {
      "application/cx": [
       {
        "numberVerification": [
         {
          "longNumber": 281474976710655
         }
        ]
       },
       {
        "metaData": [
         {
          "consistencyGroup": 1,
          "elementCount": 1,
          "name": "provenanceHistory",
          "properties": [],
          "version": "1.0"
         },
         {
          "consistencyGroup": 1,
          "elementCount": 125,
          "idCounter": 2618,
          "name": "nodes",
          "properties": [],
          "version": "1.0"
         },
         {
          "consistencyGroup": 1,
          "elementCount": 250,
          "idCounter": 2619,
          "name": "edges",
          "properties": [],
          "version": "1.0"
         },
         {
          "consistencyGroup": 1,
          "elementCount": 8,
          "name": "networkAttributes",
          "properties": [],
          "version": "1.0"
         },
         {
          "consistencyGroup": 1,
          "elementCount": 146,
          "name": "nodeAttributes",
          "properties": [],
          "version": "1.0"
         },
         {
          "consistencyGroup": 1,
          "elementCount": 750,
          "name": "edgeAttributes",
          "properties": [],
          "version": "1.0"
         },
         {
          "consistencyGroup": 1,
          "elementCount": 125,
          "name": "cartesianLayout",
          "properties": [],
          "version": "1.0"
         },
         {
          "consistencyGroup": 1,
          "elementCount": 24,
          "name": "cyVisualProperties",
          "properties": [],
          "version": "1.0"
         },
         {
          "consistencyGroup": 1,
          "elementCount": 1,
          "name": "cyHiddenAttributes",
          "properties": [],
          "version": "1.0"
         },
         {
          "consistencyGroup": 1,
          "elementCount": 1,
          "name": "ndexStatus",
          "properties": [],
          "version": "1.0"
         }
        ]
       },
       {
        "ndexStatus": [
         {
          "creationTime": 1532023764010,
          "edgeCount": 250,
          "externalId": "ddeae917-8b7e-11e8-a4bf-0ac135e8bacf",
          "modificationTime": 1532992401048,
          "ndexServerURI": "http://public.ndexbio.org",
          "nodeCount": 125,
          "owner": "rebecasanz",
          "published": false,
          "readOnly": false,
          "visibility": "PUBLIC"
         }
        ]
       },
       {
        "provenanceHistory": [
         {
          "entity": {
           "creationEvent": {
            "endedAtTime": 1532992401046,
            "eventType": "Update Network Profile",
            "inputs": [
             {
              "creationEvent": {
               "endedAtTime": 1532992363170,
               "eventType": "Update Network Profile",
               "inputs": [
                {
                 "creationEvent": {
                  "endedAtTime": 1532992037037,
                  "eventType": "Update Network Profile",
                  "inputs": [
                   {
                    "creationEvent": {
                     "endedAtTime": 1532991788578,
                     "eventType": "Update Network Profile",
                     "inputs": [
                      {
                       "creationEvent": {
                        "endedAtTime": 1532023871973,
                        "eventType": "Update Network Profile",
                        "inputs": [
                         {
                          "creationEvent": {
                           "endedAtTime": 1532023764010,
                           "eventType": "Program Upload in CX",
                           "inputs": [
                            {
                             "creationEvent": {
                              "endedAtTime": 1532023763400,
                              "eventType": "CyNDEx-2 Upload",
                              "inputs": null,
                              "properties": [
                               {
                                "name": "cyNDEx2 Version",
                                "value": "2.2.3.SNAPSHOT"
                               },
                               {
                                "name": "Cytoscape Version",
                                "value": "3.6.1"
                               },
                               {
                                "name": "dc:title",
                                "value": "ppi-AllPPI.sif"
                               }
                              ],
                              "startedAtTime": 1532023763400
                             },
                             "properties": [],
                             "uri": null
                            }
                           ],
                           "properties": [
                            {
                             "name": "user name",
                             "value": "rebecasanz"
                            }
                           ],
                           "startedAtTime": 1532023764010
                          },
                          "properties": [
                           {
                            "name": "dc:title",
                            "value": "ppi-AllPPI.sif"
                           }
                          ],
                          "uri": "http://public.ndexbio.org/v2/network/ddeae917-8b7e-11e8-a4bf-0ac135e8bacf/summary"
                         }
                        ],
                        "properties": [
                         {
                          "name": "user name",
                          "value": "rebecasanz"
                         },
                         {
                          "name": "dc:title",
                          "value": "ppi-AllPPI.sif"
                         }
                        ],
                        "startedAtTime": 1532023871973
                       },
                       "properties": [
                        {
                         "name": "dc:title",
                         "value": "ppi-AllPPI.sif"
                        },
                        {
                         "name": "description",
                         "value": ""
                        },
                        {
                         "name": "version",
                         "value": "MAR-2014"
                        }
                       ],
                       "uri": "http://public.ndexbio.org/v2/network/ddeae917-8b7e-11e8-a4bf-0ac135e8bacf/summary"
                      }
                     ],
                     "properties": [
                      {
                       "name": "user name",
                       "value": "rebecasanz"
                      },
                      {
                       "name": "dc:title",
                       "value": "ppi-AllPPI.sif"
                      }
                     ],
                     "startedAtTime": 1532991788578
                    },
                    "properties": [
                     {
                      "name": "dc:title",
                      "value": "ppi-AllPPI.sif"
                     },
                     {
                      "name": "description",
                      "value": "<div>Protein-protein interaction network showing the axis membrane receptors – AP-1 transcription factors, activated in adjacent mucosa. Seed proteins are colored in green (transcription factors) or brown (membrane receptors), and highlighted in grey. Inferred interacting proteins are colored in light purple.<br/></div>"
                     },
                     {
                      "name": "version",
                      "value": "MAR-2014"
                     }
                    ],
                    "uri": "http://public.ndexbio.org/v2/network/ddeae917-8b7e-11e8-a4bf-0ac135e8bacf/summary"
                   }
                  ],
                  "properties": [
                   {
                    "name": "user name",
                    "value": "rebecasanz"
                   },
                   {
                    "name": "dc:title",
                    "value": "ppin-Level1"
                   }
                  ],
                  "startedAtTime": 1532992037037
                 },
                 "properties": [
                  {
                   "name": "dc:title",
                   "value": "ppin-Level1"
                  },
                  {
                   "name": "description",
                   "value": "<div>Protein-protein interaction network showing the axis membrane receptors – AP-1 transcription factors, activated in adjacent mucosa. Seed proteins are colored in green (transcription factors) or brown (membrane receptors), and highlighted in grey. Inferred interacting proteins are colored in light purple.<br/></div>"
                  },
                  {
                   "name": "version",
                   "value": "MAR-2014"
                  }
                 ],
                 "uri": "http://public.ndexbio.org/v2/network/ddeae917-8b7e-11e8-a4bf-0ac135e8bacf/summary"
                }
               ],
               "properties": [
                {
                 "name": "user name",
                 "value": "rebecasanz"
                },
                {
                 "name": "dc:title",
                 "value": "ppin-Level1"
                }
               ],
               "startedAtTime": 1532992363170
              },
              "properties": [
               {
                "name": "dc:title",
                "value": "ppin-Level1"
               },
               {
                "name": "description",
                "value": "<div>Protein-protein interaction network showing the axis membrane receptors – AP-1 transcription factors, activated in adjacent mucosa. Seed proteins are colored in red and highlighted in grey. Inferred interacting proteins are colored in light purple.<br/></div><div><br/></div><div>This network refers to <b>Figure S5</b> and has been manually modified, hence it differs from the network presented in the paper's supplementary materials.</div>"
               },
               {
                "name": "version",
                "value": "MAR-2014"
               }
              ],
              "uri": "http://public.ndexbio.org/v2/network/ddeae917-8b7e-11e8-a4bf-0ac135e8bacf/summary"
             }
            ],
            "properties": [
             {
              "name": "user name",
              "value": "rebecasanz"
             },
             {
              "name": "dc:title",
              "value": "ppin-Level1 - Fig. S5"
             }
            ],
            "startedAtTime": 1532992401046
           },
           "properties": [
            {
             "name": "dc:title",
             "value": "ppin-Level1 - Fig. S5"
            },
            {
             "name": "description",
             "value": "<div>Protein-protein interaction network showing the axis membrane receptors – AP-1 transcription factors, activated in adjacent mucosa. Seed proteins are colored in red and highlighted in grey. Inferred interacting proteins are colored in light purple.<br/></div><div><br/></div><div>This network refers to <b>Figure S5</b> and has been manually modified, hence it differs from the network presented in the paper's supplementary materials.</div>"
            },
            {
             "name": "version",
             "value": "MAR-2014"
            }
           ],
           "uri": "http://public.ndexbio.org/v2/network/ddeae917-8b7e-11e8-a4bf-0ac135e8bacf/summary"
          }
         }
        ]
       },
       {
        "nodes": [
         {
          "@id": 1990,
          "n": "ROR2"
         },
         {
          "@id": 1989,
          "n": "NRP2"
         },
         {
          "@id": 1988,
          "n": "DARC"
         },
         {
          "@id": 1987,
          "n": "ERG"
         },
         {
          "@id": 1986,
          "n": "MAP3K1"
         },
         {
          "@id": 1985,
          "n": "MAP3K3"
         },
         {
          "@id": 1984,
          "n": "TNFRSF1B"
         },
         {
          "@id": 1983,
          "n": "CALD1"
         },
         {
          "@id": 1982,
          "n": "TNC"
         },
         {
          "@id": 1981,
          "n": "DIS3L2"
         },
         {
          "@id": 1980,
          "n": "KHSRP"
         },
         {
          "@id": 1979,
          "n": "PSME1"
         },
         {
          "@id": 1978,
          "n": "UBE2I"
         },
         {
          "@id": 1977,
          "n": "GPRASP1"
         },
         {
          "@id": 1976,
          "n": "PRKCA"
         },
         {
          "@id": 1975,
          "n": "SHC1"
         },
         {
          "@id": 1974,
          "n": "PAK2"
         },
         {
          "@id": 1973,
          "n": "CD93"
         },
         {
          "@id": 1972,
          "n": "FOS"
         },
         {
          "@id": 1971,
          "n": "DDR2"
         },
         {
          "@id": 1970,
          "n": "TACR2"
         },
         {
          "@id": 1969,
          "n": "TLN1"
         },
         {
          "@id": 1968,
          "n": "RP13-122B23.3"
         },
         {
          "@id": 1967,
          "n": "ITGA5"
         },
         {
          "@id": 1966,
          "n": "ITGA9"
         },
         {
          "@id": 1965,
          "n": "BRCA1"
         },
         {
          "@id": 1964,
          "n": "MAFK"
         },
         {
          "@id": 1963,
          "n": "MAFB"
         },
         {
          "@id": 1962,
          "n": "MAFG"
         },
         {
          "@id": 1961,
          "n": "FN1"
         },
         {
          "@id": 1960,
          "n": "RUNX2"
         },
         {
          "@id": 1959,
          "n": "RUNX1"
         },
         {
          "@id": 1958,
          "n": "SRC"
         },
         {
          "@id": 1957,
          "n": "ITGB1"
         },
         {
          "@id": 1956,
          "n": "ITGB3"
         },
         {
          "@id": 1955,
          "n": "GIPC1"
         },
         {
          "@id": 1954,
          "n": "ITGB5"
         },
         {
          "@id": 1953,
          "n": "GRB2"
         },
         {
          "@id": 1952,
          "n": "RIPK2"
         },
         {
          "@id": 1951,
          "n": "RIPK3"
         },
         {
          "@id": 1950,
          "n": "PRKACA"
         },
         {
          "@id": 1949,
          "n": "MAPK14"
         },
         {
          "@id": 1948,
          "n": "FYN"
         },
         {
          "@id": 1947,
          "n": "STAT3"
         },
         {
          "@id": 1946,
          "n": "STAT1"
         },
         {
          "@id": 1945,
          "n": "BCL6"
         },
         {
          "@id": 1944,
          "n": "BCL3"
         },
         {
          "@id": 1943,
          "n": "SUMO1"
         },
         {
          "@id": 1942,
          "n": "SUMO2"
         },
         {
          "@id": 1941,
          "n": "SUMO3"
         },
         {
          "@id": 1940,
          "n": "SUMO4"
         },
         {
          "@id": 1939,
          "n": "YWHAZ"
         },
         {
          "@id": 1938,
          "n": "TUBB3"
         },
         {
          "@id": 1937,
          "n": "NFKB1"
         },
         {
          "@id": 1936,
          "n": "COPS5"
         },
         {
          "@id": 1935,
          "n": "NCOR2"
         },
         {
          "@id": 1934,
          "n": "ETS1"
         },
         {
          "@id": 1933,
          "n": "NTRK3"
         },
         {
          "@id": 1932,
          "n": "SMAD3"
         },
         {
          "@id": 1931,
          "n": "SMAD4"
         },
         {
          "@id": 1930,
          "n": "EPHB2"
         },
         {
          "@id": 1929,
          "n": "PXN"
         },
         {
          "@id": 1928,
          "n": "CD36"
         },
         {
          "@id": 1927,
          "n": "APOE"
         },
         {
          "@id": 1926,
          "n": "SNCA"
         },
         {
          "@id": 1925,
          "n": "MAF"
         },
         {
          "@id": 1924,
          "n": "NFATC2"
         },
         {
          "@id": 1923,
          "n": "TSC22D3"
         },
         {
          "@id": 1922,
          "n": "CD9"
         },
         {
          "@id": 1921,
          "n": "PF4"
         },
         {
          "@id": 1920,
          "n": "VIM"
         },
         {
          "@id": 1919,
          "n": "MCC"
         },
         {
          "@id": 1918,
          "n": "CNTN1"
         },
         {
          "@id": 1917,
          "n": "UBC"
         },
         {
          "@id": 1916,
          "n": "NCOA6"
         },
         {
          "@id": 1915,
          "n": "NCOA1"
         },
         {
          "@id": 1914,
          "n": "RB1"
         },
         {
          "@id": 1913,
          "n": "ESR1"
         },
         {
          "@id": 1912,
          "n": "FOSL1"
         },
         {
          "@id": 1911,
          "n": "ALS2CR11"
         },
         {
          "@id": 1910,
          "n": "SDC2"
         },
         {
          "@id": 1909,
          "n": "UCHL1"
         },
         {
          "@id": 1908,
          "n": "FOSL2"
         },
         {
          "@id": 1907,
          "n": "MYH10"
         },
         {
          "@id": 1906,
          "n": "IKBKG"
         },
         {
          "@id": 1905,
          "n": "ATF7"
         },
         {
          "@id": 1904,
          "n": "GTF2F2"
         },
         {
          "@id": 1903,
          "n": "ATF3"
         },
         {
          "@id": 1902,
          "n": "ATF4"
         },
         {
          "@id": 1901,
          "n": "IKBKE"
         },
         {
          "@id": 1900,
          "n": "TAF1"
         },
         {
          "@id": 1899,
          "n": "JUND"
         },
         {
          "@id": 1898,
          "n": "PTK2"
         },
         {
          "@id": 1897,
          "n": "ATF2"
         },
         {
          "@id": 1896,
          "n": "COL1A1"
         },
         {
          "@id": 1895,
          "n": "NFE2L1"
         },
         {
          "@id": 1894,
          "n": "COL1A2"
         },
         {
          "@id": 1893,
          "n": "DDIT3"
         },
         {
          "@id": 1892,
          "n": "JUNB"
         },
         {
          "@id": 1891,
          "n": "RELA"
         },
         {
          "@id": 1890,
          "n": "EGFR"
         },
         {
          "@id": 1889,
          "n": "SMARCD1"
         },
         {
          "@id": 1888,
          "n": "CSNK2A1"
         },
         {
          "@id": 1887,
          "n": "BATF"
         },
         {
          "@id": 1886,
          "n": "VCL"
         },
         {
          "@id": 1885,
          "n": "JAG1"
         },
         {
          "@id": 1884,
          "n": "TBP"
         },
         {
          "@id": 1883,
          "n": "JDP2"
         },
         {
          "@id": 1882,
          "n": "NRAP"
         },
         {
          "@id": 1881,
          "n": "PKD1"
         },
         {
          "@id": 1880,
          "n": "PML"
         },
         {
          "@id": 1879,
          "n": "FOSB"
         },
         {
          "@id": 1878,
          "n": "CDC2"
         },
         {
          "@id": 1877,
          "n": "ACTA1"
         },
         {
          "@id": 1876,
          "n": "BATF3"
         },
         {
          "@id": 1875,
          "n": "LDLR"
         },
         {
          "@id": 1874,
          "n": "PDIA3"
         },
         {
          "@id": 1873,
          "n": "SPP1"
         },
         {
          "@id": 1872,
          "n": "ERBB2"
         },
         {
          "@id": 1871,
          "n": "MAPK8"
         },
         {
          "@id": 1870,
          "n": "JUN"
         },
         {
          "@id": 1869,
          "n": "MAPK1"
         },
         {
          "@id": 1868,
          "n": "MYH9"
         },
         {
          "@id": 1867,
          "n": "AGTR1"
         },
         {
          "@id": 1866,
          "n": "L1CAM"
         }
        ]
       },
       {
        "edges": [
         {
          "@id": 2240,
          "i": "pp",
          "s": 1987,
          "t": 1972
         },
         {
          "@id": 2239,
          "i": "pp",
          "s": 1987,
          "t": 1870
         },
         {
          "@id": 2238,
          "i": "pp",
          "s": 1986,
          "t": 1907
         },
         {
          "@id": 2237,
          "i": "pp",
          "s": 1986,
          "t": 1920
         },
         {
          "@id": 2236,
          "i": "pp",
          "s": 1985,
          "t": 1907
         },
         {
          "@id": 2235,
          "i": "pp",
          "s": 1985,
          "t": 1920
         },
         {
          "@id": 2234,
          "i": "pp",
          "s": 1984,
          "t": 1920
         },
         {
          "@id": 2233,
          "i": "pp",
          "s": 1983,
          "t": 1878
         },
         {
          "@id": 2232,
          "i": "pp",
          "s": 1982,
          "t": 1967
         },
         {
          "@id": 2231,
          "i": "pp",
          "s": 1981,
          "t": 1886
         },
         {
          "@id": 2230,
          "i": "pp",
          "s": 1981,
          "t": 1920
         },
         {
          "@id": 2229,
          "i": "pp",
          "s": 1979,
          "t": 1886
         },
         {
          "@id": 2228,
          "i": "pp",
          "s": 1979,
          "t": 1920
         },
         {
          "@id": 2227,
          "i": "pp",
          "s": 1978,
          "t": 1909
         },
         {
          "@id": 2226,
          "i": "pp",
          "s": 1976,
          "t": 1886
         },
         {
          "@id": 2225,
          "i": "pp",
          "s": 1976,
          "t": 1910
         },
         {
          "@id": 2224,
          "i": "pp",
          "s": 1975,
          "t": 1983
         },
         {
          "@id": 2223,
          "i": "pp",
          "s": 1974,
          "t": 1920
         },
         {
          "@id": 2222,
          "i": "pp",
          "s": 1972,
          "t": 1963
         },
         {
          "@id": 2221,
          "i": "pp",
          "s": 1972,
          "t": 1935
         },
         {
          "@id": 2220,
          "i": "pp",
          "s": 1972,
          "t": 1915
         },
         {
          "@id": 2219,
          "i": "pp",
          "s": 1972,
          "t": 1959
         },
         {
          "@id": 2218,
          "i": "pp",
          "s": 1972,
          "t": 1960
         },
         {
          "@id": 2217,
          "i": "pp",
          "s": 1972,
          "t": 1980
         },
         {
          "@id": 2216,
          "i": "pp",
          "s": 1972,
          "t": 1943
         },
         {
          "@id": 2215,
          "i": "pp",
          "s": 1972,
          "t": 1884
         },
         {
          "@id": 2214,
          "i": "pp",
          "s": 1972,
          "t": 1900
         },
         {
          "@id": 2213,
          "i": "pp",
          "s": 1972,
          "t": 1947
         },
         {
          "@id": 2212,
          "i": "pp",
          "s": 1972,
          "t": 1946
         },
         {
          "@id": 2211,
          "i": "pp",
          "s": 1972,
          "t": 1942
         },
         {
          "@id": 2210,
          "i": "pp",
          "s": 1972,
          "t": 1941
         },
         {
          "@id": 2209,
          "i": "pp",
          "s": 1972,
          "t": 1889
         },
         {
          "@id": 2208,
          "i": "pp",
          "s": 1972,
          "t": 1944
         },
         {
          "@id": 2207,
          "i": "pp",
          "s": 1972,
          "t": 1891
         },
         {
          "@id": 2206,
          "i": "pp",
          "s": 1972,
          "t": 1914
         },
         {
          "@id": 2205,
          "i": "pp",
          "s": 1972,
          "t": 1869
         },
         {
          "@id": 2204,
          "i": "pp",
          "s": 1972,
          "t": 1950
         },
         {
          "@id": 2203,
          "i": "pp",
          "s": 1972,
          "t": 1880
         },
         {
          "@id": 2202,
          "i": "pp",
          "s": 1972,
          "t": 1933
         },
         {
          "@id": 2201,
          "i": "pp",
          "s": 1972,
          "t": 1937
         },
         {
          "@id": 2200,
          "i": "pp",
          "s": 1972,
          "t": 1924
         },
         {
          "@id": 2199,
          "i": "pp",
          "s": 1972,
          "t": 1902
         },
         {
          "@id": 2198,
          "i": "pp",
          "s": 1972,
          "t": 1925
         },
         {
          "@id": 2197,
          "i": "pp",
          "s": 1972,
          "t": 1932
         },
         {
          "@id": 2196,
          "i": "pp",
          "s": 1972,
          "t": 1940
         },
         {
          "@id": 2195,
          "i": "pp",
          "s": 1972,
          "t": 1899
         },
         {
          "@id": 2194,
          "i": "pp",
          "s": 1972,
          "t": 1892
         },
         {
          "@id": 2193,
          "i": "pp",
          "s": 1972,
          "t": 1904
         },
         {
          "@id": 2192,
          "i": "pp",
          "s": 1972,
          "t": 1968
         },
         {
          "@id": 2191,
          "i": "pp",
          "s": 1972,
          "t": 1908
         },
         {
          "@id": 2190,
          "i": "pp",
          "s": 1972,
          "t": 1972
         },
         {
          "@id": 2189,
          "i": "pp",
          "s": 1972,
          "t": 1870
         },
         {
          "@id": 2188,
          "i": "pp",
          "s": 1971,
          "t": 1958
         },
         {
          "@id": 2187,
          "i": "pp",
          "s": 1971,
          "t": 1975
         },
         {
          "@id": 2186,
          "i": "pp",
          "s": 1970,
          "t": 1977
         },
         {
          "@id": 2185,
          "i": "pp",
          "s": 1969,
          "t": 1939
         },
         {
          "@id": 2184,
          "i": "pp",
          "s": 1969,
          "t": 1886
         },
         {
          "@id": 2183,
          "i": "pp",
          "s": 1968,
          "t": 1870
         },
         {
          "@id": 2182,
          "i": "pp",
          "s": 1967,
          "t": 1922
         },
         {
          "@id": 2181,
          "i": "pp",
          "s": 1967,
          "t": 1873
         },
         {
          "@id": 2180,
          "i": "pp",
          "s": 1967,
          "t": 1866
         },
         {
          "@id": 2179,
          "i": "pp",
          "s": 1967,
          "t": 1954
         },
         {
          "@id": 2178,
          "i": "pp",
          "s": 1967,
          "t": 1956
         },
         {
          "@id": 2177,
          "i": "pp",
          "s": 1967,
          "t": 1957
         },
         {
          "@id": 2176,
          "i": "pp",
          "s": 1966,
          "t": 1873
         },
         {
          "@id": 2175,
          "i": "pp",
          "s": 1966,
          "t": 1929
         },
         {
          "@id": 2174,
          "i": "pp",
          "s": 1966,
          "t": 1957
         },
         {
          "@id": 2173,
          "i": "pp",
          "s": 1966,
          "t": 1966
         },
         {
          "@id": 2172,
          "i": "pp",
          "s": 1962,
          "t": 1920
         },
         {
          "@id": 2171,
          "i": "pp",
          "s": 1961,
          "t": 1967
         },
         {
          "@id": 2170,
          "i": "pp",
          "s": 1961,
          "t": 1910
         },
         {
          "@id": 2169,
          "i": "pp",
          "s": 1958,
          "t": 1928
         },
         {
          "@id": 2168,
          "i": "pp",
          "s": 1958,
          "t": 1886
         },
         {
          "@id": 2167,
          "i": "pp",
          "s": 1957,
          "t": 1928
         },
         {
          "@id": 2166,
          "i": "pp",
          "s": 1957,
          "t": 1969
         },
         {
          "@id": 2165,
          "i": "pp",
          "s": 1956,
          "t": 1928
         },
         {
          "@id": 2164,
          "i": "pp",
          "s": 1956,
          "t": 1969
         },
         {
          "@id": 2163,
          "i": "pp",
          "s": 1955,
          "t": 1973
         },
         {
          "@id": 2162,
          "i": "pp",
          "s": 1955,
          "t": 1967
         },
         {
          "@id": 2161,
          "i": "pp",
          "s": 1954,
          "t": 1969
         },
         {
          "@id": 2160,
          "i": "pp",
          "s": 1953,
          "t": 1907
         },
         {
          "@id": 2159,
          "i": "pp",
          "s": 1953,
          "t": 1983
         },
         {
          "@id": 2158,
          "i": "pp",
          "s": 1951,
          "t": 1907
         },
         {
          "@id": 2157,
          "i": "pp",
          "s": 1951,
          "t": 1920
         },
         {
          "@id": 2156,
          "i": "pp",
          "s": 1950,
          "t": 1920
         },
         {
          "@id": 2155,
          "i": "pp",
          "s": 1949,
          "t": 1892
         },
         {
          "@id": 2154,
          "i": "pp",
          "s": 1949,
          "t": 1870
         },
         {
          "@id": 2153,
          "i": "pp",
          "s": 1948,
          "t": 1928
         },
         {
          "@id": 2152,
          "i": "pp",
          "s": 1942,
          "t": 1920
         },
         {
          "@id": 2151,
          "i": "pp",
          "s": 1941,
          "t": 1920
         },
         {
          "@id": 2150,
          "i": "pp",
          "s": 1938,
          "t": 1985
         },
         {
          "@id": 2149,
          "i": "pp",
          "s": 1938,
          "t": 1953
         },
         {
          "@id": 2148,
          "i": "pp",
          "s": 1937,
          "t": 1920
         },
         {
          "@id": 2147,
          "i": "pp",
          "s": 1936,
          "t": 1909
         },
         {
          "@id": 2146,
          "i": "pp",
          "s": 1936,
          "t": 1870
         },
         {
          "@id": 2145,
          "i": "pp",
          "s": 1934,
          "t": 1972
         },
         {
          "@id": 2144,
          "i": "pp",
          "s": 1934,
          "t": 1870
         },
         {
          "@id": 2143,
          "i": "pp",
          "s": 1932,
          "t": 1920
         },
         {
          "@id": 2142,
          "i": "pp",
          "s": 1930,
          "t": 1910
         },
         {
          "@id": 2141,
          "i": "pp",
          "s": 1930,
          "t": 1972
         },
         {
          "@id": 2140,
          "i": "pp",
          "s": 1929,
          "t": 1886
         },
         {
          "@id": 2139,
          "i": "pp",
          "s": 1929,
          "t": 1969
         },
         {
          "@id": 2138,
          "i": "pp",
          "s": 1927,
          "t": 1910
         },
         {
          "@id": 2137,
          "i": "pp",
          "s": 1927,
          "t": 1875
         },
         {
          "@id": 2136,
          "i": "pp",
          "s": 1926,
          "t": 1909
         },
         {
          "@id": 2135,
          "i": "pp",
          "s": 1926,
          "t": 1920
         },
         {
          "@id": 2134,
          "i": "pp",
          "s": 1924,
          "t": 1920
         },
         {
          "@id": 2133,
          "i": "pp",
          "s": 1923,
          "t": 1972
         },
         {
          "@id": 2132,
          "i": "pp",
          "s": 1923,
          "t": 1870
         },
         {
          "@id": 2131,
          "i": "pp",
          "s": 1922,
          "t": 1928
         },
         {
          "@id": 2130,
          "i": "pp",
          "s": 1921,
          "t": 1910
         },
         {
          "@id": 2129,
          "i": "pp",
          "s": 1920,
          "t": 1878
         },
         {
          "@id": 2128,
          "i": "pp",
          "s": 1920,
          "t": 1952
         },
         {
          "@id": 2127,
          "i": "pp",
          "s": 1920,
          "t": 1906
         },
         {
          "@id": 2126,
          "i": "pp",
          "s": 1920,
          "t": 1939
         },
         {
          "@id": 2125,
          "i": "pp",
          "s": 1920,
          "t": 1920
         },
         {
          "@id": 2124,
          "i": "pp",
          "s": 1919,
          "t": 1909
         },
         {
          "@id": 2123,
          "i": "pp",
          "s": 1919,
          "t": 1907
         },
         {
          "@id": 2122,
          "i": "pp",
          "s": 1918,
          "t": 1866
         },
         {
          "@id": 2121,
          "i": "pp",
          "s": 1918,
          "t": 1982
         },
         {
          "@id": 2120,
          "i": "pp",
          "s": 1918,
          "t": 1948
         },
         {
          "@id": 2119,
          "i": "pp",
          "s": 1918,
          "t": 1918
         },
         {
          "@id": 2118,
          "i": "pp",
          "s": 1917,
          "t": 1909
         },
         {
          "@id": 2117,
          "i": "pp",
          "s": 1917,
          "t": 1886
         },
         {
          "@id": 2116,
          "i": "pp",
          "s": 1916,
          "t": 1972
         },
         {
          "@id": 2115,
          "i": "pp",
          "s": 1916,
          "t": 1870
         },
         {
          "@id": 2114,
          "i": "pp",
          "s": 1913,
          "t": 1892
         },
         {
          "@id": 2113,
          "i": "pp",
          "s": 1913,
          "t": 1870
         },
         {
          "@id": 2112,
          "i": "pp",
          "s": 1911,
          "t": 1886
         },
         {
          "@id": 2111,
          "i": "pp",
          "s": 1911,
          "t": 1920
         },
         {
          "@id": 2110,
          "i": "pp",
          "s": 1909,
          "t": 1901
         },
         {
          "@id": 2109,
          "i": "pp",
          "s": 1908,
          "t": 1892
         },
         {
          "@id": 2108,
          "i": "pp",
          "s": 1908,
          "t": 1870
         },
         {
          "@id": 2107,
          "i": "pp",
          "s": 1907,
          "t": 1901
         },
         {
          "@id": 2106,
          "i": "pp",
          "s": 1907,
          "t": 1952
         },
         {
          "@id": 2105,
          "i": "pp",
          "s": 1907,
          "t": 1906
         },
         {
          "@id": 2104,
          "i": "pp",
          "s": 1907,
          "t": 1984
         },
         {
          "@id": 2103,
          "i": "pp",
          "s": 1907,
          "t": 1891
         },
         {
          "@id": 2102,
          "i": "pp",
          "s": 1907,
          "t": 1974
         },
         {
          "@id": 2101,
          "i": "pp",
          "s": 1907,
          "t": 1937
         },
         {
          "@id": 2100,
          "i": "pp",
          "s": 1905,
          "t": 1892
         },
         {
          "@id": 2099,
          "i": "pp",
          "s": 1905,
          "t": 1879
         },
         {
          "@id": 2098,
          "i": "pp",
          "s": 1905,
          "t": 1972
         },
         {
          "@id": 2097,
          "i": "pp",
          "s": 1905,
          "t": 1870
         },
         {
          "@id": 2096,
          "i": "pp",
          "s": 1904,
          "t": 1870
         },
         {
          "@id": 2095,
          "i": "pp",
          "s": 1898,
          "t": 1886
         },
         {
          "@id": 2094,
          "i": "pp",
          "s": 1898,
          "t": 1969
         },
         {
          "@id": 2093,
          "i": "pp",
          "s": 1897,
          "t": 1892
         },
         {
          "@id": 2092,
          "i": "pp",
          "s": 1897,
          "t": 1879
         },
         {
          "@id": 2091,
          "i": "pp",
          "s": 1897,
          "t": 1972
         },
         {
          "@id": 2090,
          "i": "pp",
          "s": 1897,
          "t": 1870
         },
         {
          "@id": 2089,
          "i": "pp",
          "s": 1896,
          "t": 1971
         },
         {
          "@id": 2088,
          "i": "pp",
          "s": 1896,
          "t": 1973
         },
         {
          "@id": 2087,
          "i": "pp",
          "s": 1896,
          "t": 1928
         },
         {
          "@id": 2086,
          "i": "pp",
          "s": 1896,
          "t": 1967
         },
         {
          "@id": 2085,
          "i": "pp",
          "s": 1894,
          "t": 1973
         },
         {
          "@id": 2084,
          "i": "pp",
          "s": 1894,
          "t": 1928
         },
         {
          "@id": 2083,
          "i": "pp",
          "s": 1893,
          "t": 1879
         },
         {
          "@id": 2082,
          "i": "pp",
          "s": 1893,
          "t": 1972
         },
         {
          "@id": 2081,
          "i": "pp",
          "s": 1893,
          "t": 1870
         },
         {
          "@id": 2080,
          "i": "pp",
          "s": 1892,
          "t": 1912
         },
         {
          "@id": 2079,
          "i": "pp",
          "s": 1892,
          "t": 1964
         },
         {
          "@id": 2078,
          "i": "pp",
          "s": 1892,
          "t": 1965
         },
         {
          "@id": 2077,
          "i": "pp",
          "s": 1892,
          "t": 1945
         },
         {
          "@id": 2076,
          "i": "pp",
          "s": 1892,
          "t": 1871
         },
         {
          "@id": 2075,
          "i": "pp",
          "s": 1892,
          "t": 1876
         },
         {
          "@id": 2074,
          "i": "pp",
          "s": 1892,
          "t": 1895
         },
         {
          "@id": 2073,
          "i": "pp",
          "s": 1892,
          "t": 1903
         },
         {
          "@id": 2072,
          "i": "pp",
          "s": 1892,
          "t": 1962
         },
         {
          "@id": 2071,
          "i": "pp",
          "s": 1892,
          "t": 1931
         },
         {
          "@id": 2070,
          "i": "pp",
          "s": 1892,
          "t": 1932
         },
         {
          "@id": 2069,
          "i": "pp",
          "s": 1892,
          "t": 1892
         },
         {
          "@id": 2068,
          "i": "pp",
          "s": 1891,
          "t": 1920
         },
         {
          "@id": 2067,
          "i": "pp",
          "s": 1890,
          "t": 1967
         },
         {
          "@id": 2066,
          "i": "pp",
          "s": 1890,
          "t": 1969
         },
         {
          "@id": 2065,
          "i": "pp",
          "s": 1890,
          "t": 1972
         },
         {
          "@id": 2064,
          "i": "pp",
          "s": 1888,
          "t": 1972
         },
         {
          "@id": 2063,
          "i": "pp",
          "s": 1888,
          "t": 1870
         },
         {
          "@id": 2062,
          "i": "pp",
          "s": 1887,
          "t": 1892
         },
         {
          "@id": 2061,
          "i": "pp",
          "s": 1887,
          "t": 1972
         },
         {
          "@id": 2060,
          "i": "pp",
          "s": 1887,
          "t": 1870
         },
         {
          "@id": 2059,
          "i": "pp",
          "s": 1886,
          "t": 1939
         },
         {
          "@id": 2058,
          "i": "pp",
          "s": 1886,
          "t": 1886
         },
         {
          "@id": 2057,
          "i": "pp",
          "s": 1886,
          "t": 1920
         },
         {
          "@id": 2056,
          "i": "pp",
          "s": 1885,
          "t": 1972
         },
         {
          "@id": 2055,
          "i": "pp",
          "s": 1885,
          "t": 1870
         },
         {
          "@id": 2054,
          "i": "pp",
          "s": 1883,
          "t": 1892
         },
         {
          "@id": 2053,
          "i": "pp",
          "s": 1883,
          "t": 1870
         },
         {
          "@id": 2052,
          "i": "pp",
          "s": 1882,
          "t": 1886
         },
         {
          "@id": 2051,
          "i": "pp",
          "s": 1882,
          "t": 1969
         },
         {
          "@id": 2050,
          "i": "pp",
          "s": 1881,
          "t": 1886
         },
         {
          "@id": 2049,
          "i": "pp",
          "s": 1881,
          "t": 1969
         },
         {
          "@id": 2048,
          "i": "pp",
          "s": 1881,
          "t": 1920
         },
         {
          "@id": 2047,
          "i": "pp",
          "s": 1879,
          "t": 1963
         },
         {
          "@id": 2046,
          "i": "pp",
          "s": 1879,
          "t": 1912
         },
         {
          "@id": 2045,
          "i": "pp",
          "s": 1879,
          "t": 1902
         },
         {
          "@id": 2044,
          "i": "pp",
          "s": 1879,
          "t": 1899
         },
         {
          "@id": 2043,
          "i": "pp",
          "s": 1879,
          "t": 1892
         },
         {
          "@id": 2042,
          "i": "pp",
          "s": 1879,
          "t": 1870
         },
         {
          "@id": 2041,
          "i": "pp",
          "s": 1877,
          "t": 1886
         },
         {
          "@id": 2040,
          "i": "pp",
          "s": 1877,
          "t": 1969
         },
         {
          "@id": 2039,
          "i": "pp",
          "s": 1875,
          "t": 1921
         },
         {
          "@id": 2038,
          "i": "pp",
          "s": 1875,
          "t": 1875
         },
         {
          "@id": 2037,
          "i": "pp",
          "s": 1874,
          "t": 1886
         },
         {
          "@id": 2036,
          "i": "pp",
          "s": 1874,
          "t": 1875
         },
         {
          "@id": 2035,
          "i": "pp",
          "s": 1872,
          "t": 1967
         },
         {
          "@id": 2034,
          "i": "pp",
          "s": 1872,
          "t": 1969
         },
         {
          "@id": 2033,
          "i": "pp",
          "s": 1870,
          "t": 1963
         },
         {
          "@id": 2032,
          "i": "pp",
          "s": 1870,
          "t": 1935
         },
         {
          "@id": 2031,
          "i": "pp",
          "s": 1870,
          "t": 1915
         },
         {
          "@id": 2030,
          "i": "pp",
          "s": 1870,
          "t": 1959
         },
         {
          "@id": 2029,
          "i": "pp",
          "s": 1870,
          "t": 1960
         },
         {
          "@id": 2028,
          "i": "pp",
          "s": 1870,
          "t": 1980
         },
         {
          "@id": 2027,
          "i": "pp",
          "s": 1870,
          "t": 1912
         },
         {
          "@id": 2026,
          "i": "pp",
          "s": 1870,
          "t": 1964
         },
         {
          "@id": 2025,
          "i": "pp",
          "s": 1870,
          "t": 1943
         },
         {
          "@id": 2024,
          "i": "pp",
          "s": 1870,
          "t": 1978
         },
         {
          "@id": 2023,
          "i": "pp",
          "s": 1870,
          "t": 1884
         },
         {
          "@id": 2022,
          "i": "pp",
          "s": 1870,
          "t": 1900
         },
         {
          "@id": 2021,
          "i": "pp",
          "s": 1870,
          "t": 1947
         },
         {
          "@id": 2020,
          "i": "pp",
          "s": 1870,
          "t": 1946
         },
         {
          "@id": 2019,
          "i": "pp",
          "s": 1870,
          "t": 1965
         },
         {
          "@id": 2018,
          "i": "pp",
          "s": 1870,
          "t": 1942
         },
         {
          "@id": 2017,
          "i": "pp",
          "s": 1870,
          "t": 1941
         },
         {
          "@id": 2016,
          "i": "pp",
          "s": 1870,
          "t": 1889
         },
         {
          "@id": 2015,
          "i": "pp",
          "s": 1870,
          "t": 1945
         },
         {
          "@id": 2014,
          "i": "pp",
          "s": 1870,
          "t": 1944
         },
         {
          "@id": 2013,
          "i": "pp",
          "s": 1870,
          "t": 1891
         },
         {
          "@id": 2012,
          "i": "pp",
          "s": 1870,
          "t": 1914
         },
         {
          "@id": 2011,
          "i": "pp",
          "s": 1870,
          "t": 1871
         },
         {
          "@id": 2010,
          "i": "pp",
          "s": 1870,
          "t": 1869
         },
         {
          "@id": 2009,
          "i": "pp",
          "s": 1870,
          "t": 1876
         },
         {
          "@id": 2008,
          "i": "pp",
          "s": 1870,
          "t": 1880
         },
         {
          "@id": 2007,
          "i": "pp",
          "s": 1870,
          "t": 1933
         },
         {
          "@id": 2006,
          "i": "pp",
          "s": 1870,
          "t": 1895
         },
         {
          "@id": 2005,
          "i": "pp",
          "s": 1870,
          "t": 1924
         },
         {
          "@id": 2004,
          "i": "pp",
          "s": 1870,
          "t": 1902
         },
         {
          "@id": 2003,
          "i": "pp",
          "s": 1870,
          "t": 1903
         },
         {
          "@id": 2002,
          "i": "pp",
          "s": 1870,
          "t": 1962
         },
         {
          "@id": 2001,
          "i": "pp",
          "s": 1870,
          "t": 1925
         },
         {
          "@id": 2000,
          "i": "pp",
          "s": 1870,
          "t": 1931
         },
         {
          "@id": 1999,
          "i": "pp",
          "s": 1870,
          "t": 1932
         },
         {
          "@id": 1998,
          "i": "pp",
          "s": 1870,
          "t": 1940
         },
         {
          "@id": 1997,
          "i": "pp",
          "s": 1870,
          "t": 1899
         },
         {
          "@id": 1996,
          "i": "pp",
          "s": 1870,
          "t": 1892
         },
         {
          "@id": 1995,
          "i": "pp",
          "s": 1870,
          "t": 1870
         },
         {
          "@id": 1994,
          "i": "pp",
          "s": 1868,
          "t": 1886
         },
         {
          "@id": 1993,
          "i": "pp",
          "s": 1868,
          "t": 1907
         },
         {
          "@id": 1992,
          "i": "pp",
          "s": 1867,
          "t": 1977
         },
         {
          "@id": 1991,
          "i": "pp",
          "s": 1867,
          "t": 1890
         }
        ]
       },
       {
        "networkAttributes": [
         {
          "n": "name",
          "v": "ppin-Level1 - Fig. S5"
         },
         {
          "n": "description",
          "v": "<div>Protein-protein interaction network showing the axis membrane receptors – AP-1 transcription factors, activated in adjacent mucosa. Seed proteins are colored in red and highlighted in grey. Inferred interacting proteins are colored in light purple.<br/></div><div><br/></div><div>This network refers to <b>Figure S5</b> and has been manually modified, hence it differs from the network presented in the paper's supplementary materials.</div>"
         },
         {
          "n": "version",
          "v": "MAR-2014"
         },
         {
          "n": "author",
          "v": "Rebeca Sanz Pamplona et al."
         },
         {
          "n": "disease",
          "v": "Colorectal cancer"
         },
         {
          "n": "networkType",
          "v": "Protein-protein interaction"
         },
         {
          "n": "organism",
          "v": "Human, 9606, Homo sapiens"
         },
         {
          "n": "reference",
          "v": "<div style=\"font-size: 13.86px;\"><i>Sanz-Pamplona R, Berenguer A, Cordero D, Molleví DG, Crous-Bou M, Sole X, Paré-Brunet L, Guino E, Salazar R, Santos C, de Oca J, Sanjuan X, Rodriguez-Moranta F, Moreno V1</i>.</div><div style=\"font-size: 13.86px;\"><b>Aberrant gene expression in mucosa adjacent to tumor reveals a molecular crosstalk in colon cancer</b>.</div><div style=\"font-size: 13.86px;\">Mol Cancer. 2014 Mar 5;13:46.</div><div style=\"font-size: 13.86px;\"><a href=\"https://doi.org/10.1186/1476-4598-13-46\" target=\"\">doi: 10.1186/1476-4598-13-46</a></div>"
         }
        ]
       },
       {
        "nodeAttributes": [
         {
          "n": "canonicalName",
          "po": 1990,
          "v": "ROR2"
         },
         {
          "n": "node.fillColor",
          "po": 1989,
          "v": "204,0,153"
         },
         {
          "n": "canonicalName",
          "po": 1989,
          "v": "NRP2"
         },
         {
          "n": "node.fillColor",
          "po": 1988,
          "v": "204,0,153"
         },
         {
          "n": "canonicalName",
          "po": 1988,
          "v": "DARC"
         },
         {
          "n": "canonicalName",
          "po": 1987,
          "v": "ERG"
         },
         {
          "n": "canonicalName",
          "po": 1986,
          "v": "MAP3K1"
         },
         {
          "n": "canonicalName",
          "po": 1985,
          "v": "MAP3K3"
         },
         {
          "n": "canonicalName",
          "po": 1984,
          "v": "TNFRSF1B"
         },
         {
          "n": "node.fillColor",
          "po": 1983,
          "v": "255,0,51"
         },
         {
          "n": "canonicalName",
          "po": 1983,
          "v": "CALD1"
         },
         {
          "n": "canonicalName",
          "po": 1982,
          "v": "TNC"
         },
         {
          "n": "canonicalName",
          "po": 1981,
          "v": "DIS3L2"
         },
         {
          "n": "canonicalName",
          "po": 1980,
          "v": "KHSRP"
         },
         {
          "n": "canonicalName",
          "po": 1979,
          "v": "PSME1"
         },
         {
          "n": "canonicalName",
          "po": 1978,
          "v": "UBE2I"
         },
         {
          "n": "canonicalName",
          "po": 1977,
          "v": "GPRASP1"
         },
         {
          "n": "canonicalName",
          "po": 1976,
          "v": "PRKCA"
         },
         {
          "n": "canonicalName",
          "po": 1975,
          "v": "SHC1"
         },
         {
          "n": "canonicalName",
          "po": 1974,
          "v": "PAK2"
         },
         {
          "n": "node.fillColor",
          "po": 1973,
          "v": "255,0,51"
         },
         {
          "n": "canonicalName",
          "po": 1973,
          "v": "CD93"
         },
         {
          "n": "node.fillColor",
          "po": 1972,
          "v": "255,0,51"
         },
         {
          "n": "canonicalName",
          "po": 1972,
          "v": "FOS"
         },
         {
          "n": "node.fillColor",
          "po": 1971,
          "v": "255,0,51"
         },
         {
          "n": "canonicalName",
          "po": 1971,
          "v": "DDR2"
         },
         {
          "n": "node.fillColor",
          "po": 1970,
          "v": "255,0,51"
         },
         {
          "n": "canonicalName",
          "po": 1970,
          "v": "TACR2"
         },
         {
          "n": "node.fillColor",
          "po": 1969,
          "v": "255,0,51"
         },
         {
          "n": "canonicalName",
          "po": 1969,
          "v": "TLN1"
         },
         {
          "n": "canonicalName",
          "po": 1968,
          "v": "RP13-122B23.3"
         },
         {
          "n": "node.fillColor",
          "po": 1967,
          "v": "255,0,51"
         },
         {
          "n": "canonicalName",
          "po": 1967,
          "v": "ITGA5"
         },
         {
          "n": "node.fillColor",
          "po": 1966,
          "v": "255,0,51"
         },
         {
          "n": "canonicalName",
          "po": 1966,
          "v": "ITGA9"
         },
         {
          "n": "canonicalName",
          "po": 1965,
          "v": "BRCA1"
         },
         {
          "n": "canonicalName",
          "po": 1964,
          "v": "MAFK"
         },
         {
          "n": "canonicalName",
          "po": 1963,
          "v": "MAFB"
         },
         {
          "n": "canonicalName",
          "po": 1962,
          "v": "MAFG"
         },
         {
          "n": "canonicalName",
          "po": 1961,
          "v": "FN1"
         },
         {
          "n": "canonicalName",
          "po": 1960,
          "v": "RUNX2"
         },
         {
          "n": "canonicalName",
          "po": 1959,
          "v": "RUNX1"
         },
         {
          "n": "canonicalName",
          "po": 1958,
          "v": "SRC"
         },
         {
          "n": "canonicalName",
          "po": 1957,
          "v": "ITGB1"
         },
         {
          "n": "canonicalName",
          "po": 1956,
          "v": "ITGB3"
         },
         {
          "n": "canonicalName",
          "po": 1955,
          "v": "GIPC1"
         },
         {
          "n": "canonicalName",
          "po": 1954,
          "v": "ITGB5"
         },
         {
          "n": "canonicalName",
          "po": 1953,
          "v": "GRB2"
         },
         {
          "n": "canonicalName",
          "po": 1952,
          "v": "RIPK2"
         },
         {
          "n": "canonicalName",
          "po": 1951,
          "v": "RIPK3"
         },
         {
          "n": "canonicalName",
          "po": 1950,
          "v": "PRKACA"
         },
         {
          "n": "canonicalName",
          "po": 1949,
          "v": "MAPK14"
         },
         {
          "n": "canonicalName",
          "po": 1948,
          "v": "FYN"
         },
         {
          "n": "canonicalName",
          "po": 1947,
          "v": "STAT3"
         },
         {
          "n": "canonicalName",
          "po": 1946,
          "v": "STAT1"
         },
         {
          "n": "canonicalName",
          "po": 1945,
          "v": "BCL6"
         },
         {
          "n": "canonicalName",
          "po": 1944,
          "v": "BCL3"
         },
         {
          "n": "canonicalName",
          "po": 1943,
          "v": "SUMO1"
         },
         {
          "n": "canonicalName",
          "po": 1942,
          "v": "SUMO2"
         },
         {
          "n": "canonicalName",
          "po": 1941,
          "v": "SUMO3"
         },
         {
          "n": "canonicalName",
          "po": 1940,
          "v": "SUMO4"
         },
         {
          "n": "canonicalName",
          "po": 1939,
          "v": "YWHAZ"
         },
         {
          "n": "node.fillColor",
          "po": 1938,
          "v": "255,0,51"
         },
         {
          "n": "canonicalName",
          "po": 1938,
          "v": "TUBB3"
         },
         {
          "n": "canonicalName",
          "po": 1937,
          "v": "NFKB1"
         },
         {
          "n": "canonicalName",
          "po": 1936,
          "v": "COPS5"
         },
         {
          "n": "canonicalName",
          "po": 1935,
          "v": "NCOR2"
         },
         {
          "n": "canonicalName",
          "po": 1934,
          "v": "ETS1"
         },
         {
          "n": "canonicalName",
          "po": 1933,
          "v": "NTRK3"
         },
         {
          "n": "canonicalName",
          "po": 1932,
          "v": "SMAD3"
         },
         {
          "n": "canonicalName",
          "po": 1931,
          "v": "SMAD4"
         },
         {
          "n": "canonicalName",
          "po": 1930,
          "v": "EPHB2"
         },
         {
          "n": "canonicalName",
          "po": 1929,
          "v": "PXN"
         },
         {
          "n": "node.fillColor",
          "po": 1928,
          "v": "255,0,51"
         },
         {
          "n": "canonicalName",
          "po": 1928,
          "v": "CD36"
         },
         {
          "n": "canonicalName",
          "po": 1927,
          "v": "APOE"
         },
         {
          "n": "canonicalName",
          "po": 1926,
          "v": "SNCA"
         },
         {
          "n": "canonicalName",
          "po": 1925,
          "v": "MAF"
         },
         {
          "n": "canonicalName",
          "po": 1924,
          "v": "NFATC2"
         },
         {
          "n": "canonicalName",
          "po": 1923,
          "v": "TSC22D3"
         },
         {
          "n": "canonicalName",
          "po": 1922,
          "v": "CD9"
         },
         {
          "n": "canonicalName",
          "po": 1921,
          "v": "PF4"
         },
         {
          "n": "node.fillColor",
          "po": 1920,
          "v": "255,0,51"
         },
         {
          "n": "canonicalName",
          "po": 1920,
          "v": "VIM"
         },
         {
          "n": "canonicalName",
          "po": 1919,
          "v": "MCC"
         },
         {
          "n": "node.fillColor",
          "po": 1918,
          "v": "255,0,51"
         },
         {
          "n": "canonicalName",
          "po": 1918,
          "v": "CNTN1"
         },
         {
          "n": "canonicalName",
          "po": 1917,
          "v": "UBC"
         },
         {
          "n": "canonicalName",
          "po": 1916,
          "v": "NCOA6"
         },
         {
          "n": "canonicalName",
          "po": 1915,
          "v": "NCOA1"
         },
         {
          "n": "canonicalName",
          "po": 1914,
          "v": "RB1"
         },
         {
          "n": "canonicalName",
          "po": 1913,
          "v": "ESR1"
         },
         {
          "n": "canonicalName",
          "po": 1912,
          "v": "FOSL1"
         },
         {
          "n": "canonicalName",
          "po": 1911,
          "v": "ALS2CR11"
         },
         {
          "n": "node.fillColor",
          "po": 1910,
          "v": "255,0,51"
         },
         {
          "n": "canonicalName",
          "po": 1910,
          "v": "SDC2"
         },
         {
          "n": "node.fillColor",
          "po": 1909,
          "v": "255,0,51"
         },
         {
          "n": "canonicalName",
          "po": 1909,
          "v": "UCHL1"
         },
         {
          "n": "canonicalName",
          "po": 1908,
          "v": "FOSL2"
         },
         {
          "n": "node.fillColor",
          "po": 1907,
          "v": "255,0,51"
         },
         {
          "n": "canonicalName",
          "po": 1907,
          "v": "MYH10"
         },
         {
          "n": "canonicalName",
          "po": 1906,
          "v": "IKBKG"
         },
         {
          "n": "canonicalName",
          "po": 1905,
          "v": "ATF7"
         },
         {
          "n": "canonicalName",
          "po": 1904,
          "v": "GTF2F2"
         },
         {
          "n": "canonicalName",
          "po": 1903,
          "v": "ATF3"
         },
         {
          "n": "canonicalName",
          "po": 1902,
          "v": "ATF4"
         },
         {
          "n": "canonicalName",
          "po": 1901,
          "v": "IKBKE"
         },
         {
          "n": "canonicalName",
          "po": 1900,
          "v": "TAF1"
         },
         {
          "n": "canonicalName",
          "po": 1899,
          "v": "JUND"
         },
         {
          "n": "canonicalName",
          "po": 1898,
          "v": "PTK2"
         },
         {
          "n": "canonicalName",
          "po": 1897,
          "v": "ATF2"
         },
         {
          "n": "canonicalName",
          "po": 1896,
          "v": "COL1A1"
         },
         {
          "n": "canonicalName",
          "po": 1895,
          "v": "NFE2L1"
         },
         {
          "n": "canonicalName",
          "po": 1894,
          "v": "COL1A2"
         },
         {
          "n": "canonicalName",
          "po": 1893,
          "v": "DDIT3"
         },
         {
          "n": "canonicalName",
          "po": 1892,
          "v": "JUNB"
         },
         {
          "n": "canonicalName",
          "po": 1891,
          "v": "RELA"
         },
         {
          "n": "canonicalName",
          "po": 1890,
          "v": "EGFR"
         },
         {
          "n": "canonicalName",
          "po": 1889,
          "v": "SMARCD1"
         },
         {
          "n": "canonicalName",
          "po": 1888,
          "v": "CSNK2A1"
         },
         {
          "n": "canonicalName",
          "po": 1887,
          "v": "BATF"
         },
         {
          "n": "node.fillColor",
          "po": 1886,
          "v": "255,0,51"
         },
         {
          "n": "canonicalName",
          "po": 1886,
          "v": "VCL"
         },
         {
          "n": "canonicalName",
          "po": 1885,
          "v": "JAG1"
         },
         {
          "n": "canonicalName",
          "po": 1884,
          "v": "TBP"
         },
         {
          "n": "canonicalName",
          "po": 1883,
          "v": "JDP2"
         },
         {
          "n": "canonicalName",
          "po": 1882,
          "v": "NRAP"
         },
         {
          "n": "canonicalName",
          "po": 1881,
          "v": "PKD1"
         },
         {
          "n": "canonicalName",
          "po": 1880,
          "v": "PML"
         },
         {
          "n": "canonicalName",
          "po": 1879,
          "v": "FOSB"
         },
         {
          "n": "canonicalName",
          "po": 1878,
          "v": "CDC2"
         },
         {
          "n": "canonicalName",
          "po": 1877,
          "v": "ACTA1"
         },
         {
          "n": "canonicalName",
          "po": 1876,
          "v": "BATF3"
         },
         {
          "n": "node.fillColor",
          "po": 1875,
          "v": "255,0,51"
         },
         {
          "n": "canonicalName",
          "po": 1875,
          "v": "LDLR"
         },
         {
          "n": "canonicalName",
          "po": 1874,
          "v": "PDIA3"
         },
         {
          "n": "canonicalName",
          "po": 1873,
          "v": "SPP1"
         },
         {
          "n": "canonicalName",
          "po": 1872,
          "v": "ERBB2"
         },
         {
          "n": "canonicalName",
          "po": 1871,
          "v": "MAPK8"
         },
         {
          "n": "node.fillColor",
          "po": 1870,
          "v": "255,0,51"
         },
         {
          "n": "canonicalName",
          "po": 1870,
          "v": "JUN"
         },
         {
          "n": "canonicalName",
          "po": 1869,
          "v": "MAPK1"
         },
         {
          "n": "canonicalName",
          "po": 1868,
          "v": "MYH9"
         },
         {
          "n": "node.fillColor",
          "po": 1867,
          "v": "255,0,51"
         },
         {
          "n": "canonicalName",
          "po": 1867,
          "v": "AGTR1"
         },
         {
          "n": "canonicalName",
          "po": 1866,
          "v": "L1CAM"
         }
        ]
       },
       {
        "edgeAttributes": [
         {
          "n": "name",
          "po": 2240,
          "v": "ERG (pp) FOS"
         },
         {
          "n": "interaction",
          "po": 2240,
          "v": "pp"
         },
         {
          "n": "canonicalName",
          "po": 2240,
          "v": "ERG (pp) FOS"
         },
         {
          "n": "name",
          "po": 2239,
          "v": "ERG (pp) JUN"
         },
         {
          "n": "interaction",
          "po": 2239,
          "v": "pp"
         },
         {
          "n": "canonicalName",
          "po": 2239,
          "v": "ERG (pp) JUN"
         },
         {
          "n": "name",
          "po": 2238,
          "v": "MAP3K1 (pp) MYH10"
         },
         {
          "n": "interaction",
          "po": 2238,
          "v": "pp"
         },
         {
          "n": "canonicalName",
          "po": 2238,
          "v": "MAP3K1 (pp) MYH10"
         },
         {
          "n": "name",
          "po": 2237,
          "v": "MAP3K1 (pp) VIM"
         },
         {
          "n": "interaction",
          "po": 2237,
          "v": "pp"
         },
         {
          "n": "canonicalName",
          "po": 2237,
          "v": "MAP3K1 (pp) VIM"
         },
         {
          "n": "name",
          "po": 2236,
          "v": "MAP3K3 (pp) MYH10"
         },
         {
          "n": "interaction",
          "po": 2236,
          "v": "pp"
         },
         {
          "n": "canonicalName",
          "po": 2236,
          "v": "MAP3K3 (pp) MYH10"
         },
         {
          "n": "name",
          "po": 2235,
          "v": "MAP3K3 (pp) VIM"
         },
         {
          "n": "interaction",
          "po": 2235,
          "v": "pp"
         },
         {
          "n": "canonicalName",
          "po": 2235,
          "v": "MAP3K3 (pp) VIM"
         },
         {
          "n": "name",
          "po": 2234,
          "v": "TNFRSF1B (pp) VIM"
         },
         {
          "n": "interaction",
          "po": 2234,
          "v": "pp"
         },
         {
          "n": "canonicalName",
          "po": 2234,
          "v": "TNFRSF1B (pp) VIM"
         },
         {
          "n": "name",
          "po": 2233,
          "v": "CALD1 (pp) CDC2"
         },
         {
          "n": "interaction",
          "po": 2233,
          "v": "pp"
         },
         {
          "n": "canonicalName",
          "po": 2233,
          "v": "CALD1 (pp) CDC2"
         },
         {
          "n": "name",
          "po": 2232,
          "v": "TNC (pp) ITGA5"
         },
         {
          "n": "interaction",
          "po": 2232,
          "v": "pp"
         },
         {
          "n": "canonicalName",
          "po": 2232,
          "v": "TNC (pp) ITGA5"
         },
         {
          "n": "name",
          "po": 2231,
          "v": "DIS3L2 (pp) VCL"
         },
         {
          "n": "interaction",
          "po": 2231,
          "v": "pp"
         },
         {
          "n": "canonicalName",
          "po": 2231,
          "v": "DIS3L2 (pp) VCL"
         },
         {
          "n": "name",
          "po": 2230,
          "v": "DIS3L2 (pp) VIM"
         },
         {
          "n": "interaction",
          "po": 2230,
          "v": "pp"
         },
         {
          "n": "canonicalName",
          "po": 2230,
          "v": "DIS3L2 (pp) VIM"
         },
         {
          "n": "name",
          "po": 2229,
          "v": "PSME1 (pp) VCL"
         },
         {
          "n": "interaction",
          "po": 2229,
          "v": "pp"
         },
         {
          "n": "canonicalName",
          "po": 2229,
          "v": "PSME1 (pp) VCL"
         },
         {
          "n": "name",
          "po": 2228,
          "v": "PSME1 (pp) VIM"
         },
         {
          "n": "interaction",
          "po": 2228,
          "v": "pp"
         },
         {
          "n": "canonicalName",
          "po": 2228,
          "v": "PSME1 (pp) VIM"
         },
         {
          "n": "name",
          "po": 2227,
          "v": "UBE2I (pp) UCHL1"
         },
         {
          "n": "interaction",
          "po": 2227,
          "v": "pp"
         },
         {
          "n": "canonicalName",
          "po": 2227,
          "v": "UBE2I (pp) UCHL1"
         },
         {
          "n": "name",
          "po": 2226,
          "v": "PRKCA (pp) VCL"
         },
         {
          "n": "interaction",
          "po": 2226,
          "v": "pp"
         },
         {
          "n": "canonicalName",
          "po": 2226,
          "v": "PRKCA (pp) VCL"
         },
         {
          "n": "name",
          "po": 2225,
          "v": "PRKCA (pp) SDC2"
         },
         {
          "n": "interaction",
          "po": 2225,
          "v": "pp"
         },
         {
          "n": "canonicalName",
          "po": 2225,
          "v": "PRKCA (pp) SDC2"
         },
         {
          "n": "name",
          "po": 2224,
          "v": "SHC1 (pp) CALD1"
         },
         {
          "n": "interaction",
          "po": 2224,
          "v": "pp"
         },
         {
          "n": "canonicalName",
          "po": 2224,
          "v": "SHC1 (pp) CALD1"
         },
         {
          "n": "name",
          "po": 2223,
          "v": "PAK2 (pp) VIM"
         },
         {
          "n": "interaction",
          "po": 2223,
          "v": "pp"
         },
         {
          "n": "canonicalName",
          "po": 2223,
          "v": "PAK2 (pp) VIM"
         },
         {
          "n": "name",
          "po": 2222,
          "v": "FOS (pp) MAFB"
         },
         {
          "n": "interaction",
          "po": 2222,
          "v": "pp"
         },
         {
          "n": "canonicalName",
          "po": 2222,
          "v": "FOS (pp) MAFB"
         },
         {
          "n": "name",
          "po": 2221,
          "v": "FOS (pp) NCOR2"
         },
         {
          "n": "interaction",
          "po": 2221,
          "v": "pp"
         },
         {
          "n": "canonicalName",
          "po": 2221,
          "v": "FOS (pp) NCOR2"
         },
         {
          "n": "name",
          "po": 2220,
          "v": "FOS (pp) NCOA1"
         },
         {
          "n": "interaction",
          "po": 2220,
          "v": "pp"
         },
         {
          "n": "canonicalName",
          "po": 2220,
          "v": "FOS (pp) NCOA1"
         },
         {
          "n": "name",
          "po": 2219,
          "v": "FOS (pp) RUNX1"
         },
         {
          "n": "interaction",
          "po": 2219,
          "v": "pp"
         },
         {
          "n": "canonicalName",
          "po": 2219,
          "v": "FOS (pp) RUNX1"
         },
         {
          "n": "name",
          "po": 2218,
          "v": "FOS (pp) RUNX2"
         },
         {
          "n": "interaction",
          "po": 2218,
          "v": "pp"
         },
         {
          "n": "canonicalName",
          "po": 2218,
          "v": "FOS (pp) RUNX2"
         },
         {
          "n": "name",
          "po": 2217,
          "v": "FOS (pp) KHSRP"
         },
         {
          "n": "interaction",
          "po": 2217,
          "v": "pp"
         },
         {
          "n": "canonicalName",
          "po": 2217,
          "v": "FOS (pp) KHSRP"
         },
         {
          "n": "name",
          "po": 2216,
          "v": "FOS (pp) SUMO1"
         },
         {
          "n": "interaction",
          "po": 2216,
          "v": "pp"
         },
         {
          "n": "canonicalName",
          "po": 2216,
          "v": "FOS (pp) SUMO1"
         },
         {
          "n": "name",
          "po": 2215,
          "v": "FOS (pp) TBP"
         },
         {
          "n": "interaction",
          "po": 2215,
          "v": "pp"
         },
         {
          "n": "canonicalName",
          "po": 2215,
          "v": "FOS (pp) TBP"
         },
         {
          "n": "name",
          "po": 2214,
          "v": "FOS (pp) TAF1"
         },
         {
          "n": "interaction",
          "po": 2214,
          "v": "pp"
         },
         {
          "n": "canonicalName",
          "po": 2214,
          "v": "FOS (pp) TAF1"
         },
         {
          "n": "name",
          "po": 2213,
          "v": "FOS (pp) STAT3"
         },
         {
          "n": "interaction",
          "po": 2213,
          "v": "pp"
         },
         {
          "n": "canonicalName",
          "po": 2213,
          "v": "FOS (pp) STAT3"
         },
         {
          "n": "name",
          "po": 2212,
          "v": "FOS (pp) STAT1"
         },
         {
          "n": "interaction",
          "po": 2212,
          "v": "pp"
         },
         {
          "n": "canonicalName",
          "po": 2212,
          "v": "FOS (pp) STAT1"
         },
         {
          "n": "name",
          "po": 2211,
          "v": "FOS (pp) SUMO2"
         },
         {
          "n": "interaction",
          "po": 2211,
          "v": "pp"
         },
         {
          "n": "canonicalName",
          "po": 2211,
          "v": "FOS (pp) SUMO2"
         },
         {
          "n": "name",
          "po": 2210,
          "v": "FOS (pp) SUMO3"
         },
         {
          "n": "interaction",
          "po": 2210,
          "v": "pp"
         },
         {
          "n": "canonicalName",
          "po": 2210,
          "v": "FOS (pp) SUMO3"
         },
         {
          "n": "name",
          "po": 2209,
          "v": "FOS (pp) SMARCD1"
         },
         {
          "n": "interaction",
          "po": 2209,
          "v": "pp"
         },
         {
          "n": "canonicalName",
          "po": 2209,
          "v": "FOS (pp) SMARCD1"
         },
         {
          "n": "name",
          "po": 2208,
          "v": "FOS (pp) BCL3"
         },
         {
          "n": "interaction",
          "po": 2208,
          "v": "pp"
         },
         {
          "n": "canonicalName",
          "po": 2208,
          "v": "FOS (pp) BCL3"
         },
         {
          "n": "name",
          "po": 2207,
          "v": "FOS (pp) RELA"
         },
         {
          "n": "interaction",
          "po": 2207,
          "v": "pp"
         },
         {
          "n": "canonicalName",
          "po": 2207,
          "v": "FOS (pp) RELA"
         },
         {
          "n": "name",
          "po": 2206,
          "v": "FOS (pp) RB1"
         },
         {
          "n": "interaction",
          "po": 2206,
          "v": "pp"
         },
         {
          "n": "canonicalName",
          "po": 2206,
          "v": "FOS (pp) RB1"
         },
         {
          "n": "name",
          "po": 2205,
          "v": "FOS (pp) MAPK1"
         },
         {
          "n": "interaction",
          "po": 2205,
          "v": "pp"
         },
         {
          "n": "canonicalName",
          "po": 2205,
          "v": "FOS (pp) MAPK1"
         },
         {
          "n": "name",
          "po": 2204,
          "v": "FOS (pp) PRKACA"
         },
         {
          "n": "interaction",
          "po": 2204,
          "v": "pp"
         },
         {
          "n": "canonicalName",
          "po": 2204,
          "v": "FOS (pp) PRKACA"
         },
         {
          "n": "name",
          "po": 2203,
          "v": "FOS (pp) PML"
         },
         {
          "n": "interaction",
          "po": 2203,
          "v": "pp"
         },
         {
          "n": "canonicalName",
          "po": 2203,
          "v": "FOS (pp) PML"
         },
         {
          "n": "name",
          "po": 2202,
          "v": "FOS (pp) NTRK3"
         },
         {
          "n": "interaction",
          "po": 2202,
          "v": "pp"
         },
         {
          "n": "canonicalName",
          "po": 2202,
          "v": "FOS (pp) NTRK3"
         },
         {
          "n": "name",
          "po": 2201,
          "v": "FOS (pp) NFKB1"
         },
         {
          "n": "interaction",
          "po": 2201,
          "v": "pp"
         },
         {
          "n": "canonicalName",
          "po": 2201,
          "v": "FOS (pp) NFKB1"
         },
         {
          "n": "name",
          "po": 2200,
          "v": "FOS (pp) NFATC2"
         },
         {
          "n": "interaction",
          "po": 2200,
          "v": "pp"
         },
         {
          "n": "canonicalName",
          "po": 2200,
          "v": "FOS (pp) NFATC2"
         },
         {
          "n": "name",
          "po": 2199,
          "v": "FOS (pp) ATF4"
         },
         {
          "n": "interaction",
          "po": 2199,
          "v": "pp"
         },
         {
          "n": "canonicalName",
          "po": 2199,
          "v": "FOS (pp) ATF4"
         },
         {
          "n": "name",
          "po": 2198,
          "v": "FOS (pp) MAF"
         },
         {
          "n": "interaction",
          "po": 2198,
          "v": "pp"
         },
         {
          "n": "canonicalName",
          "po": 2198,
          "v": "FOS (pp) MAF"
         },
         {
          "n": "name",
          "po": 2197,
          "v": "FOS (pp) SMAD3"
         },
         {
          "n": "interaction",
          "po": 2197,
          "v": "pp"
         },
         {
          "n": "canonicalName",
          "po": 2197,
          "v": "FOS (pp) SMAD3"
         },
         {
          "n": "name",
          "po": 2196,
          "v": "FOS (pp) SUMO4"
         },
         {
          "n": "interaction",
          "po": 2196,
          "v": "pp"
         },
         {
          "n": "canonicalName",
          "po": 2196,
          "v": "FOS (pp) SUMO4"
         },
         {
          "n": "name",
          "po": 2195,
          "v": "FOS (pp) JUND"
         },
         {
          "n": "interaction",
          "po": 2195,
          "v": "pp"
         },
         {
          "n": "canonicalName",
          "po": 2195,
          "v": "FOS (pp) JUND"
         },
         {
          "n": "name",
          "po": 2194,
          "v": "FOS (pp) JUNB"
         },
         {
          "n": "interaction",
          "po": 2194,
          "v": "pp"
         },
         {
          "n": "canonicalName",
          "po": 2194,
          "v": "FOS (pp) JUNB"
         },
         {
          "n": "name",
          "po": 2193,
          "v": "FOS (pp) GTF2F2"
         },
         {
          "n": "interaction",
          "po": 2193,
          "v": "pp"
         },
         {
          "n": "canonicalName",
          "po": 2193,
          "v": "FOS (pp) GTF2F2"
         },
         {
          "n": "name",
          "po": 2192,
          "v": "FOS (pp) RP13-122B23.3"
         },
         {
          "n": "interaction",
          "po": 2192,
          "v": "pp"
         },
         {
          "n": "canonicalName",
          "po": 2192,
          "v": "FOS (pp) RP13-122B23.3"
         },
         {
          "n": "name",
          "po": 2191,
          "v": "FOS (pp) FOSL2"
         },
         {
          "n": "interaction",
          "po": 2191,
          "v": "pp"
         },
         {
          "n": "canonicalName",
          "po": 2191,
          "v": "FOS (pp) FOSL2"
         },
         {
          "n": "name",
          "po": 2190,
          "v": "FOS (pp) FOS"
         },
         {
          "n": "interaction",
          "po": 2190,
          "v": "pp"
         },
         {
          "n": "canonicalName",
          "po": 2190,
          "v": "FOS (pp) FOS"
         },
         {
          "n": "name",
          "po": 2189,
          "v": "FOS (pp) JUN"
         },
         {
          "n": "interaction",
          "po": 2189,
          "v": "pp"
         },
         {
          "n": "canonicalName",
          "po": 2189,
          "v": "FOS (pp) JUN"
         },
         {
          "n": "name",
          "po": 2188,
          "v": "DDR2 (pp) SRC"
         },
         {
          "n": "interaction",
          "po": 2188,
          "v": "pp"
         },
         {
          "n": "canonicalName",
          "po": 2188,
          "v": "DDR2 (pp) SRC"
         },
         {
          "n": "name",
          "po": 2187,
          "v": "DDR2 (pp) SHC1"
         },
         {
          "n": "interaction",
          "po": 2187,
          "v": "pp"
         },
         {
          "n": "canonicalName",
          "po": 2187,
          "v": "DDR2 (pp) SHC1"
         },
         {
          "n": "name",
          "po": 2186,
          "v": "TACR2 (pp) GPRASP1"
         },
         {
          "n": "interaction",
          "po": 2186,
          "v": "pp"
         },
         {
          "n": "canonicalName",
          "po": 2186,
          "v": "TACR2 (pp) GPRASP1"
         },
         {
          "n": "name",
          "po": 2185,
          "v": "TLN1 (pp) YWHAZ"
         },
         {
          "n": "interaction",
          "po": 2185,
          "v": "pp"
         },
         {
          "n": "canonicalName",
          "po": 2185,
          "v": "TLN1 (pp) YWHAZ"
         },
         {
          "n": "name",
          "po": 2184,
          "v": "TLN1 (pp) VCL"
         },
         {
          "n": "interaction",
          "po": 2184,
          "v": "pp"
         },
         {
          "n": "canonicalName",
          "po": 2184,
          "v": "TLN1 (pp) VCL"
         },
         {
          "n": "name",
          "po": 2183,
          "v": "RP13-122B23.3 (pp) JUN"
         },
         {
          "n": "interaction",
          "po": 2183,
          "v": "pp"
         },
         {
          "n": "canonicalName",
          "po": 2183,
          "v": "RP13-122B23.3 (pp) JUN"
         },
         {
          "n": "name",
          "po": 2182,
          "v": "ITGA5 (pp) CD9"
         },
         {
          "n": "interaction",
          "po": 2182,
          "v": "pp"
         },
         {
          "n": "canonicalName",
          "po": 2182,
          "v": "ITGA5 (pp) CD9"
         },
         {
          "n": "name",
          "po": 2181,
          "v": "ITGA5 (pp) SPP1"
         },
         {
          "n": "interaction",
          "po": 2181,
          "v": "pp"
         },
         {
          "n": "canonicalName",
          "po": 2181,
          "v": "ITGA5 (pp) SPP1"
         },
         {
          "n": "name",
          "po": 2180,
          "v": "ITGA5 (pp) L1CAM"
         },
         {
          "n": "interaction",
          "po": 2180,
          "v": "pp"
         },
         {
          "n": "canonicalName",
          "po": 2180,
          "v": "ITGA5 (pp) L1CAM"
         },
         {
          "n": "name",
          "po": 2179,
          "v": "ITGA5 (pp) ITGB5"
         },
         {
          "n": "interaction",
          "po": 2179,
          "v": "pp"
         },
         {
          "n": "canonicalName",
          "po": 2179,
          "v": "ITGA5 (pp) ITGB5"
         },
         {
          "n": "name",
          "po": 2178,
          "v": "ITGA5 (pp) ITGB3"
         },
         {
          "n": "interaction",
          "po": 2178,
          "v": "pp"
         },
         {
          "n": "canonicalName",
          "po": 2178,
          "v": "ITGA5 (pp) ITGB3"
         },
         {
          "n": "name",
          "po": 2177,
          "v": "ITGA5 (pp) ITGB1"
         },
         {
          "n": "interaction",
          "po": 2177,
          "v": "pp"
         },
         {
          "n": "canonicalName",
          "po": 2177,
          "v": "ITGA5 (pp) ITGB1"
         },
         {
          "n": "name",
          "po": 2176,
          "v": "ITGA9 (pp) SPP1"
         },
         {
          "n": "interaction",
          "po": 2176,
          "v": "pp"
         },
         {
          "n": "canonicalName",
          "po": 2176,
          "v": "ITGA9 (pp) SPP1"
         },
         {
          "n": "name",
          "po": 2175,
          "v": "ITGA9 (pp) PXN"
         },
         {
          "n": "interaction",
          "po": 2175,
          "v": "pp"
         },
         {
          "n": "canonicalName",
          "po": 2175,
          "v": "ITGA9 (pp) PXN"
         },
         {
          "n": "name",
          "po": 2174,
          "v": "ITGA9 (pp) ITGB1"
         },
         {
          "n": "interaction",
          "po": 2174,
          "v": "pp"
         },
         {
          "n": "canonicalName",
          "po": 2174,
          "v": "ITGA9 (pp) ITGB1"
         },
         {
          "n": "name",
          "po": 2173,
          "v": "ITGA9 (pp) ITGA9"
         },
         {
          "n": "interaction",
          "po": 2173,
          "v": "pp"
         },
         {
          "n": "canonicalName",
          "po": 2173,
          "v": "ITGA9 (pp) ITGA9"
         },
         {
          "n": "name",
          "po": 2172,
          "v": "MAFG (pp) VIM"
         },
         {
          "n": "interaction",
          "po": 2172,
          "v": "pp"
         },
         {
          "n": "canonicalName",
          "po": 2172,
          "v": "MAFG (pp) VIM"
         },
         {
          "n": "name",
          "po": 2171,
          "v": "FN1 (pp) ITGA5"
         },
         {
          "n": "interaction",
          "po": 2171,
          "v": "pp"
         },
         {
          "n": "canonicalName",
          "po": 2171,
          "v": "FN1 (pp) ITGA5"
         },
         {
          "n": "name",
          "po": 2170,
          "v": "FN1 (pp) SDC2"
         },
         {
          "n": "interaction",
          "po": 2170,
          "v": "pp"
         },
         {
          "n": "canonicalName",
          "po": 2170,
          "v": "FN1 (pp) SDC2"
         },
         {
          "n": "name",
          "po": 2169,
          "v": "SRC (pp) CD36"
         },
         {
          "n": "interaction",
          "po": 2169,
          "v": "pp"
         },
         {
          "n": "canonicalName",
          "po": 2169,
          "v": "SRC (pp) CD36"
         },
         {
          "n": "name",
          "po": 2168,
          "v": "SRC (pp) VCL"
         },
         {
          "n": "interaction",
          "po": 2168,
          "v": "pp"
         },
         {
          "n": "canonicalName",
          "po": 2168,
          "v": "SRC (pp) VCL"
         },
         {
          "n": "name",
          "po": 2167,
          "v": "ITGB1 (pp) CD36"
         },
         {
          "n": "interaction",
          "po": 2167,
          "v": "pp"
         },
         {
          "n": "canonicalName",
          "po": 2167,
          "v": "ITGB1 (pp) CD36"
         },
         {
          "n": "name",
          "po": 2166,
          "v": "ITGB1 (pp) TLN1"
         },
         {
          "n": "interaction",
          "po": 2166,
          "v": "pp"
         },
         {
          "n": "canonicalName",
          "po": 2166,
          "v": "ITGB1 (pp) TLN1"
         },
         {
          "n": "name",
          "po": 2165,
          "v": "ITGB3 (pp) CD36"
         },
         {
          "n": "interaction",
          "po": 2165,
          "v": "pp"
         },
         {
          "n": "canonicalName",
          "po": 2165,
          "v": "ITGB3 (pp) CD36"
         },
         {
          "n": "name",
          "po": 2164,
          "v": "ITGB3 (pp) TLN1"
         },
         {
          "n": "interaction",
          "po": 2164,
          "v": "pp"
         },
         {
          "n": "canonicalName",
          "po": 2164,
          "v": "ITGB3 (pp) TLN1"
         },
         {
          "n": "name",
          "po": 2163,
          "v": "GIPC1 (pp) CD93"
         },
         {
          "n": "interaction",
          "po": 2163,
          "v": "pp"
         },
         {
          "n": "canonicalName",
          "po": 2163,
          "v": "GIPC1 (pp) CD93"
         },
         {
          "n": "name",
          "po": 2162,
          "v": "GIPC1 (pp) ITGA5"
         },
         {
          "n": "interaction",
          "po": 2162,
          "v": "pp"
         },
         {
          "n": "canonicalName",
          "po": 2162,
          "v": "GIPC1 (pp) ITGA5"
         },
         {
          "n": "name",
          "po": 2161,
          "v": "ITGB5 (pp) TLN1"
         },
         {
          "n": "interaction",
          "po": 2161,
          "v": "pp"
         },
         {
          "n": "canonicalName",
          "po": 2161,
          "v": "ITGB5 (pp) TLN1"
         },
         {
          "n": "name",
          "po": 2160,
          "v": "GRB2 (pp) MYH10"
         },
         {
          "n": "interaction",
          "po": 2160,
          "v": "pp"
         },
         {
          "n": "canonicalName",
          "po": 2160,
          "v": "GRB2 (pp) MYH10"
         },
         {
          "n": "name",
          "po": 2159,
          "v": "GRB2 (pp) CALD1"
         },
         {
          "n": "interaction",
          "po": 2159,
          "v": "pp"
         },
         {
          "n": "canonicalName",
          "po": 2159,
          "v": "GRB2 (pp) CALD1"
         },
         {
          "n": "name",
          "po": 2158,
          "v": "RIPK3 (pp) MYH10"
         },
         {
          "n": "interaction",
          "po": 2158,
          "v": "pp"
         },
         {
          "n": "canonicalName",
          "po": 2158,
          "v": "RIPK3 (pp) MYH10"
         },
         {
          "n": "name",
          "po": 2157,
          "v": "RIPK3 (pp) VIM"
         },
         {
          "n": "interaction",
          "po": 2157,
          "v": "pp"
         },
         {
          "n": "canonicalName",
          "po": 2157,
          "v": "RIPK3 (pp) VIM"
         },
         {
          "n": "name",
          "po": 2156,
          "v": "PRKACA (pp) VIM"
         },
         {
          "n": "interaction",
          "po": 2156,
          "v": "pp"
         },
         {
          "n": "canonicalName",
          "po": 2156,
          "v": "PRKACA (pp) VIM"
         },
         {
          "n": "name",
          "po": 2155,
          "v": "MAPK14 (pp) JUNB"
         },
         {
          "n": "interaction",
          "po": 2155,
          "v": "pp"
         },
         {
          "n": "canonicalName",
          "po": 2155,
          "v": "MAPK14 (pp) JUNB"
         },
         {
          "n": "name",
          "po": 2154,
          "v": "MAPK14 (pp) JUN"
         },
         {
          "n": "interaction",
          "po": 2154,
          "v": "pp"
         },
         {
          "n": "canonicalName",
          "po": 2154,
          "v": "MAPK14 (pp) JUN"
         },
         {
          "n": "name",
          "po": 2153,
          "v": "FYN (pp) CD36"
         },
         {
          "n": "interaction",
          "po": 2153,
          "v": "pp"
         },
         {
          "n": "canonicalName",
          "po": 2153,
          "v": "FYN (pp) CD36"
         },
         {
          "n": "name",
          "po": 2152,
          "v": "SUMO2 (pp) VIM"
         },
         {
          "n": "interaction",
          "po": 2152,
          "v": "pp"
         },
         {
          "n": "canonicalName",
          "po": 2152,
          "v": "SUMO2 (pp) VIM"
         },
         {
          "n": "name",
          "po": 2151,
          "v": "SUMO3 (pp) VIM"
         },
         {
          "n": "interaction",
          "po": 2151,
          "v": "pp"
         },
         {
          "n": "canonicalName",
          "po": 2151,
          "v": "SUMO3 (pp) VIM"
         },
         {
          "n": "name",
          "po": 2150,
          "v": "TUBB3 (pp) MAP3K3"
         },
         {
          "n": "interaction",
          "po": 2150,
          "v": "pp"
         },
         {
          "n": "canonicalName",
          "po": 2150,
          "v": "TUBB3 (pp) MAP3K3"
         },
         {
          "n": "name",
          "po": 2149,
          "v": "TUBB3 (pp) GRB2"
         },
         {
          "n": "interaction",
          "po": 2149,
          "v": "pp"
         },
         {
          "n": "canonicalName",
          "po": 2149,
          "v": "TUBB3 (pp) GRB2"
         },
         {
          "n": "name",
          "po": 2148,
          "v": "NFKB1 (pp) VIM"
         },
         {
          "n": "interaction",
          "po": 2148,
          "v": "pp"
         },
         {
          "n": "canonicalName",
          "po": 2148,
          "v": "NFKB1 (pp) VIM"
         },
         {
          "n": "name",
          "po": 2147,
          "v": "COPS5 (pp) UCHL1"
         },
         {
          "n": "interaction",
          "po": 2147,
          "v": "pp"
         },
         {
          "n": "canonicalName",
          "po": 2147,
          "v": "COPS5 (pp) UCHL1"
         },
         {
          "n": "name",
          "po": 2146,
          "v": "COPS5 (pp) JUN"
         },
         {
          "n": "interaction",
          "po": 2146,
          "v": "pp"
         },
         {
          "n": "canonicalName",
          "po": 2146,
          "v": "COPS5 (pp) JUN"
         },
         {
          "n": "name",
          "po": 2145,
          "v": "ETS1 (pp) FOS"
         },
         {
          "n": "interaction",
          "po": 2145,
          "v": "pp"
         },
         {
          "n": "canonicalName",
          "po": 2145,
          "v": "ETS1 (pp) FOS"
         },
         {
          "n": "name",
          "po": 2144,
          "v": "ETS1 (pp) JUN"
         },
         {
          "n": "interaction",
          "po": 2144,
          "v": "pp"
         },
         {
          "n": "canonicalName",
          "po": 2144,
          "v": "ETS1 (pp) JUN"
         },
         {
          "n": "name",
          "po": 2143,
          "v": "SMAD3 (pp) VIM"
         },
         {
          "n": "interaction",
          "po": 2143,
          "v": "pp"
         },
         {
          "n": "canonicalName",
          "po": 2143,
          "v": "SMAD3 (pp) VIM"
         },
         {
          "n": "name",
          "po": 2142,
          "v": "EPHB2 (pp) SDC2"
         },
         {
          "n": "interaction",
          "po": 2142,
          "v": "pp"
         },
         {
          "n": "canonicalName",
          "po": 2142,
          "v": "EPHB2 (pp) SDC2"
         },
         {
          "n": "name",
          "po": 2141,
          "v": "EPHB2 (pp) FOS"
         },
         {
          "n": "interaction",
          "po": 2141,
          "v": "pp"
         },
         {
          "n": "canonicalName",
          "po": 2141,
          "v": "EPHB2 (pp) FOS"
         },
         {
          "n": "name",
          "po": 2140,
          "v": "PXN (pp) VCL"
         },
         {
          "n": "interaction",
          "po": 2140,
          "v": "pp"
         },
         {
          "n": "canonicalName",
          "po": 2140,
          "v": "PXN (pp) VCL"
         },
         {
          "n": "name",
          "po": 2139,
          "v": "PXN (pp) TLN1"
         },
         {
          "n": "interaction",
          "po": 2139,
          "v": "pp"
         },
         {
          "n": "canonicalName",
          "po": 2139,
          "v": "PXN (pp) TLN1"
         },
         {
          "n": "name",
          "po": 2138,
          "v": "APOE (pp) SDC2"
         },
         {
          "n": "interaction",
          "po": 2138,
          "v": "pp"
         },
         {
          "n": "canonicalName",
          "po": 2138,
          "v": "APOE (pp) SDC2"
         },
         {
          "n": "name",
          "po": 2137,
          "v": "APOE (pp) LDLR"
         },
         {
          "n": "interaction",
          "po": 2137,
          "v": "pp"
         },
         {
          "n": "canonicalName",
          "po": 2137,
          "v": "APOE (pp) LDLR"
         },
         {
          "n": "name",
          "po": 2136,
          "v": "SNCA (pp) UCHL1"
         },
         {
          "n": "interaction",
          "po": 2136,
          "v": "pp"
         },
         {
          "n": "canonicalName",
          "po": 2136,
          "v": "SNCA (pp) UCHL1"
         },
         {
          "n": "name",
          "po": 2135,
          "v": "SNCA (pp) VIM"
         },
         {
          "n": "interaction",
          "po": 2135,
          "v": "pp"
         },
         {
          "n": "canonicalName",
          "po": 2135,
          "v": "SNCA (pp) VIM"
         },
         {
          "n": "name",
          "po": 2134,
          "v": "NFATC2 (pp) VIM"
         },
         {
          "n": "interaction",
          "po": 2134,
          "v": "pp"
         },
         {
          "n": "canonicalName",
          "po": 2134,
          "v": "NFATC2 (pp) VIM"
         },
         {
          "n": "name",
          "po": 2133,
          "v": "TSC22D3 (pp) FOS"
         },
         {
          "n": "interaction",
          "po": 2133,
          "v": "pp"
         },
         {
          "n": "canonicalName",
          "po": 2133,
          "v": "TSC22D3 (pp) FOS"
         },
         {
          "n": "name",
          "po": 2132,
          "v": "TSC22D3 (pp) JUN"
         },
         {
          "n": "interaction",
          "po": 2132,
          "v": "pp"
         },
         {
          "n": "canonicalName",
          "po": 2132,
          "v": "TSC22D3 (pp) JUN"
         },
         {
          "n": "name",
          "po": 2131,
          "v": "CD9 (pp) CD36"
         },
         {
          "n": "interaction",
          "po": 2131,
          "v": "pp"
         },
         {
          "n": "canonicalName",
          "po": 2131,
          "v": "CD9 (pp) CD36"
         },
         {
          "n": "name",
          "po": 2130,
          "v": "PF4 (pp) SDC2"
         },
         {
          "n": "interaction",
          "po": 2130,
          "v": "pp"
         },
         {
          "n": "canonicalName",
          "po": 2130,
          "v": "PF4 (pp) SDC2"
         },
         {
          "n": "name",
          "po": 2129,
          "v": "VIM (pp) CDC2"
         },
         {
          "n": "interaction",
          "po": 2129,
          "v": "pp"
         },
         {
          "n": "canonicalName",
          "po": 2129,
          "v": "VIM (pp) CDC2"
         },
         {
          "n": "name",
          "po": 2128,
          "v": "VIM (pp) RIPK2"
         },
         {
          "n": "interaction",
          "po": 2128,
          "v": "pp"
         },
         {
          "n": "canonicalName",
          "po": 2128,
          "v": "VIM (pp) RIPK2"
         },
         {
          "n": "name",
          "po": 2127,
          "v": "VIM (pp) IKBKG"
         },
         {
          "n": "interaction",
          "po": 2127,
          "v": "pp"
         },
         {
          "n": "canonicalName",
          "po": 2127,
          "v": "VIM (pp) IKBKG"
         },
         {
          "n": "name",
          "po": 2126,
          "v": "VIM (pp) YWHAZ"
         },
         {
          "n": "interaction",
          "po": 2126,
          "v": "pp"
         },
         {
          "n": "canonicalName",
          "po": 2126,
          "v": "VIM (pp) YWHAZ"
         },
         {
          "n": "name",
          "po": 2125,
          "v": "VIM (pp) VIM"
         },
         {
          "n": "interaction",
          "po": 2125,
          "v": "pp"
         },
         {
          "n": "canonicalName",
          "po": 2125,
          "v": "VIM (pp) VIM"
         },
         {
          "n": "name",
          "po": 2124,
          "v": "MCC (pp) UCHL1"
         },
         {
          "n": "interaction",
          "po": 2124,
          "v": "pp"
         },
         {
          "n": "canonicalName",
          "po": 2124,
          "v": "MCC (pp) UCHL1"
         },
         {
          "n": "name",
          "po": 2123,
          "v": "MCC (pp) MYH10"
         },
         {
          "n": "interaction",
          "po": 2123,
          "v": "pp"
         },
         {
          "n": "canonicalName",
          "po": 2123,
          "v": "MCC (pp) MYH10"
         },
         {
          "n": "name",
          "po": 2122,
          "v": "CNTN1 (pp) L1CAM"
         },
         {
          "n": "interaction",
          "po": 2122,
          "v": "pp"
         },
         {
          "n": "canonicalName",
          "po": 2122,
          "v": "CNTN1 (pp) L1CAM"
         },
         {
          "n": "name",
          "po": 2121,
          "v": "CNTN1 (pp) TNC"
         },
         {
          "n": "interaction",
          "po": 2121,
          "v": "pp"
         },
         {
          "n": "canonicalName",
          "po": 2121,
          "v": "CNTN1 (pp) TNC"
         },
         {
          "n": "name",
          "po": 2120,
          "v": "CNTN1 (pp) FYN"
         },
         {
          "n": "interaction",
          "po": 2120,
          "v": "pp"
         },
         {
          "n": "canonicalName",
          "po": 2120,
          "v": "CNTN1 (pp) FYN"
         },
         {
          "n": "name",
          "po": 2119,
          "v": "CNTN1 (pp) CNTN1"
         },
         {
          "n": "interaction",
          "po": 2119,
          "v": "pp"
         },
         {
          "n": "canonicalName",
          "po": 2119,
          "v": "CNTN1 (pp) CNTN1"
         },
         {
          "n": "name",
          "po": 2118,
          "v": "UBC (pp) UCHL1"
         },
         {
          "n": "interaction",
          "po": 2118,
          "v": "pp"
         },
         {
          "n": "canonicalName",
          "po": 2118,
          "v": "UBC (pp) UCHL1"
         },
         {
          "n": "name",
          "po": 2117,
          "v": "UBC (pp) VCL"
         },
         {
          "n": "interaction",
          "po": 2117,
          "v": "pp"
         },
         {
          "n": "canonicalName",
          "po": 2117,
          "v": "UBC (pp) VCL"
         },
         {
          "n": "name",
          "po": 2116,
          "v": "NCOA6 (pp) FOS"
         },
         {
          "n": "interaction",
          "po": 2116,
          "v": "pp"
         },
         {
          "n": "canonicalName",
          "po": 2116,
          "v": "NCOA6 (pp) FOS"
         },
         {
          "n": "name",
          "po": 2115,
          "v": "NCOA6 (pp) JUN"
         },
         {
          "n": "interaction",
          "po": 2115,
          "v": "pp"
         },
         {
          "n": "canonicalName",
          "po": 2115,
          "v": "NCOA6 (pp) JUN"
         },
         {
          "n": "name",
          "po": 2114,
          "v": "ESR1 (pp) JUNB"
         },
         {
          "n": "interaction",
          "po": 2114,
          "v": "pp"
         },
         {
          "n": "canonicalName",
          "po": 2114,
          "v": "ESR1 (pp) JUNB"
         },
         {
          "n": "name",
          "po": 2113,
          "v": "ESR1 (pp) JUN"
         },
         {
          "n": "interaction",
          "po": 2113,
          "v": "pp"
         },
         {
          "n": "canonicalName",
          "po": 2113,
          "v": "ESR1 (pp) JUN"
         },
         {
          "n": "name",
          "po": 2112,
          "v": "ALS2CR11 (pp) VCL"
         },
         {
          "n": "interaction",
          "po": 2112,
          "v": "pp"
         },
         {
          "n": "canonicalName",
          "po": 2112,
          "v": "ALS2CR11 (pp) VCL"
         },
         {
          "n": "name",
          "po": 2111,
          "v": "ALS2CR11 (pp) VIM"
         },
         {
          "n": "interaction",
          "po": 2111,
          "v": "pp"
         },
         {
          "n": "canonicalName",
          "po": 2111,
          "v": "ALS2CR11 (pp) VIM"
         },
         {
          "n": "name",
          "po": 2110,
          "v": "UCHL1 (pp) IKBKE"
         },
         {
          "n": "interaction",
          "po": 2110,
          "v": "pp"
         },
         {
          "n": "canonicalName",
          "po": 2110,
          "v": "UCHL1 (pp) IKBKE"
         },
         {
          "n": "name",
          "po": 2109,
          "v": "FOSL2 (pp) JUNB"
         },
         {
          "n": "interaction",
          "po": 2109,
          "v": "pp"
         },
         {
          "n": "canonicalName",
          "po": 2109,
          "v": "FOSL2 (pp) JUNB"
         },
         {
          "n": "name",
          "po": 2108,
          "v": "FOSL2 (pp) JUN"
         },
         {
          "n": "interaction",
          "po": 2108,
          "v": "pp"
         },
         {
          "n": "canonicalName",
          "po": 2108,
          "v": "FOSL2 (pp) JUN"
         },
         {
          "n": "name",
          "po": 2107,
          "v": "MYH10 (pp) IKBKE"
         },
         {
          "n": "interaction",
          "po": 2107,
          "v": "pp"
         },
         {
          "n": "canonicalName",
          "po": 2107,
          "v": "MYH10 (pp) IKBKE"
         },
         {
          "n": "name",
          "po": 2106,
          "v": "MYH10 (pp) RIPK2"
         },
         {
          "n": "interaction",
          "po": 2106,
          "v": "pp"
         },
         {
          "n": "canonicalName",
          "po": 2106,
          "v": "MYH10 (pp) RIPK2"
         },
         {
          "n": "name",
          "po": 2105,
          "v": "MYH10 (pp) IKBKG"
         },
         {
          "n": "interaction",
          "po": 2105,
          "v": "pp"
         },
         {
          "n": "canonicalName",
          "po": 2105,
          "v": "MYH10 (pp) IKBKG"
         },
         {
          "n": "name",
          "po": 2104,
          "v": "MYH10 (pp) TNFRSF1B"
         },
         {
          "n": "interaction",
          "po": 2104,
          "v": "pp"
         },
         {
          "n": "canonicalName",
          "po": 2104,
          "v": "MYH10 (pp) TNFRSF1B"
         },
         {
          "n": "name",
          "po": 2103,
          "v": "MYH10 (pp) RELA"
         },
         {
          "n": "interaction",
          "po": 2103,
          "v": "pp"
         },
         {
          "n": "canonicalName",
          "po": 2103,
          "v": "MYH10 (pp) RELA"
         },
         {
          "n": "name",
          "po": 2102,
          "v": "MYH10 (pp) PAK2"
         },
         {
          "n": "interaction",
          "po": 2102,
          "v": "pp"
         },
         {
          "n": "canonicalName",
          "po": 2102,
          "v": "MYH10 (pp) PAK2"
         },
         {
          "n": "name",
          "po": 2101,
          "v": "MYH10 (pp) NFKB1"
         },
         {
          "n": "interaction",
          "po": 2101,
          "v": "pp"
         },
         {
          "n": "canonicalName",
          "po": 2101,
          "v": "MYH10 (pp) NFKB1"
         },
         {
          "n": "name",
          "po": 2100,
          "v": "ATF7 (pp) JUNB"
         },
         {
          "n": "interaction",
          "po": 2100,
          "v": "pp"
         },
         {
          "n": "canonicalName",
          "po": 2100,
          "v": "ATF7 (pp) JUNB"
         },
         {
          "n": "name",
          "po": 2099,
          "v": "ATF7 (pp) FOSB"
         },
         {
          "n": "interaction",
          "po": 2099,
          "v": "pp"
         },
         {
          "n": "canonicalName",
          "po": 2099,
          "v": "ATF7 (pp) FOSB"
         },
         {
          "n": "name",
          "po": 2098,
          "v": "ATF7 (pp) FOS"
         },
         {
          "n": "interaction",
          "po": 2098,
          "v": "pp"
         },
         {
          "n": "canonicalName",
          "po": 2098,
          "v": "ATF7 (pp) FOS"
         },
         {
          "n": "name",
          "po": 2097,
          "v": "ATF7 (pp) JUN"
         },
         {
          "n": "interaction",
          "po": 2097,
          "v": "pp"
         },
         {
          "n": "canonicalName",
          "po": 2097,
          "v": "ATF7 (pp) JUN"
         },
         {
          "n": "name",
          "po": 2096,
          "v": "GTF2F2 (pp) JUN"
         },
         {
          "n": "interaction",
          "po": 2096,
          "v": "pp"
         },
         {
          "n": "canonicalName",
          "po": 2096,
          "v": "GTF2F2 (pp) JUN"
         },
         {
          "n": "name",
          "po": 2095,
          "v": "PTK2 (pp) VCL"
         },
         {
          "n": "interaction",
          "po": 2095,
          "v": "pp"
         },
         {
          "n": "canonicalName",
          "po": 2095,
          "v": "PTK2 (pp) VCL"
         },
         {
          "n": "name",
          "po": 2094,
          "v": "PTK2 (pp) TLN1"
         },
         {
          "n": "interaction",
          "po": 2094,
          "v": "pp"
         },
         {
          "n": "canonicalName",
          "po": 2094,
          "v": "PTK2 (pp) TLN1"
         },
         {
          "n": "name",
          "po": 2093,
          "v": "ATF2 (pp) JUNB"
         },
         {
          "n": "interaction",
          "po": 2093,
          "v": "pp"
         },
         {
          "n": "canonicalName",
          "po": 2093,
          "v": "ATF2 (pp) JUNB"
         },
         {
          "n": "name",
          "po": 2092,
          "v": "ATF2 (pp) FOSB"
         },
         {
          "n": "interaction",
          "po": 2092,
          "v": "pp"
         },
         {
          "n": "canonicalName",
          "po": 2092,
          "v": "ATF2 (pp) FOSB"
         },
         {
          "n": "name",
          "po": 2091,
          "v": "ATF2 (pp) FOS"
         },
         {
          "n": "interaction",
          "po": 2091,
          "v": "pp"
         },
         {
          "n": "canonicalName",
          "po": 2091,
          "v": "ATF2 (pp) FOS"
         },
         {
          "n": "name",
          "po": 2090,
          "v": "ATF2 (pp) JUN"
         },
         {
          "n": "interaction",
          "po": 2090,
          "v": "pp"
         },
         {
          "n": "canonicalName",
          "po": 2090,
          "v": "ATF2 (pp) JUN"
         },
         {
          "n": "name",
          "po": 2089,
          "v": "COL1A1 (pp) DDR2"
         },
         {
          "n": "interaction",
          "po": 2089,
          "v": "pp"
         },
         {
          "n": "canonicalName",
          "po": 2089,
          "v": "COL1A1 (pp) DDR2"
         },
         {
          "n": "name",
          "po": 2088,
          "v": "COL1A1 (pp) CD93"
         },
         {
          "n": "interaction",
          "po": 2088,
          "v": "pp"
         },
         {
          "n": "canonicalName",
          "po": 2088,
          "v": "COL1A1 (pp) CD93"
         },
         {
          "n": "name",
          "po": 2087,
          "v": "COL1A1 (pp) CD36"
         },
         {
          "n": "interaction",
          "po": 2087,
          "v": "pp"
         },
         {
          "n": "canonicalName",
          "po": 2087,
          "v": "COL1A1 (pp) CD36"
         },
         {
          "n": "name",
          "po": 2086,
          "v": "COL1A1 (pp) ITGA5"
         },
         {
          "n": "interaction",
          "po": 2086,
          "v": "pp"
         },
         {
          "n": "canonicalName",
          "po": 2086,
          "v": "COL1A1 (pp) ITGA5"
         },
         {
          "n": "name",
          "po": 2085,
          "v": "COL1A2 (pp) CD93"
         },
         {
          "n": "interaction",
          "po": 2085,
          "v": "pp"
         },
         {
          "n": "canonicalName",
          "po": 2085,
          "v": "COL1A2 (pp) CD93"
         },
         {
          "n": "name",
          "po": 2084,
          "v": "COL1A2 (pp) CD36"
         },
         {
          "n": "interaction",
          "po": 2084,
          "v": "pp"
         },
         {
          "n": "canonicalName",
          "po": 2084,
          "v": "COL1A2 (pp) CD36"
         },
         {
          "n": "name",
          "po": 2083,
          "v": "DDIT3 (pp) FOSB"
         },
         {
          "n": "interaction",
          "po": 2083,
          "v": "pp"
         },
         {
          "n": "canonicalName",
          "po": 2083,
          "v": "DDIT3 (pp) FOSB"
         },
         {
          "n": "name",
          "po": 2082,
          "v": "DDIT3 (pp) FOS"
         },
         {
          "n": "interaction",
          "po": 2082,
          "v": "pp"
         },
         {
          "n": "canonicalName",
          "po": 2082,
          "v": "DDIT3 (pp) FOS"
         },
         {
          "n": "name",
          "po": 2081,
          "v": "DDIT3 (pp) JUN"
         },
         {
          "n": "interaction",
          "po": 2081,
          "v": "pp"
         },
         {
          "n": "canonicalName",
          "po": 2081,
          "v": "DDIT3 (pp) JUN"
         },
         {
          "n": "name",
          "po": 2080,
          "v": "JUNB (pp) FOSL1"
         },
         {
          "n": "interaction",
          "po": 2080,
          "v": "pp"
         },
         {
          "n": "canonicalName",
          "po": 2080,
          "v": "JUNB (pp) FOSL1"
         },
         {
          "n": "name",
          "po": 2079,
          "v": "JUNB (pp) MAFK"
         },
         {
          "n": "interaction",
          "po": 2079,
          "v": "pp"
         },
         {
          "n": "canonicalName",
          "po": 2079,
          "v": "JUNB (pp) MAFK"
         },
         {
          "n": "name",
          "po": 2078,
          "v": "JUNB (pp) BRCA1"
         },
         {
          "n": "interaction",
          "po": 2078,
          "v": "pp"
         },
         {
          "n": "canonicalName",
          "po": 2078,
          "v": "JUNB (pp) BRCA1"
         },
         {
          "n": "name",
          "po": 2077,
          "v": "JUNB (pp) BCL6"
         },
         {
          "n": "interaction",
          "po": 2077,
          "v": "pp"
         },
         {
          "n": "canonicalName",
          "po": 2077,
          "v": "JUNB (pp) BCL6"
         },
         {
          "n": "name",
          "po": 2076,
          "v": "JUNB (pp) MAPK8"
         },
         {
          "n": "interaction",
          "po": 2076,
          "v": "pp"
         },
         {
          "n": "canonicalName",
          "po": 2076,
          "v": "JUNB (pp) MAPK8"
         },
         {
          "n": "name",
          "po": 2075,
          "v": "JUNB (pp) BATF3"
         },
         {
          "n": "interaction",
          "po": 2075,
          "v": "pp"
         },
         {
          "n": "canonicalName",
          "po": 2075,
          "v": "JUNB (pp) BATF3"
         },
         {
          "n": "name",
          "po": 2074,
          "v": "JUNB (pp) NFE2L1"
         },
         {
          "n": "interaction",
          "po": 2074,
          "v": "pp"
         },
         {
          "n": "canonicalName",
          "po": 2074,
          "v": "JUNB (pp) NFE2L1"
         },
         {
          "n": "name",
          "po": 2073,
          "v": "JUNB (pp) ATF3"
         },
         {
          "n": "interaction",
          "po": 2073,
          "v": "pp"
         },
         {
          "n": "canonicalName",
          "po": 2073,
          "v": "JUNB (pp) ATF3"
         },
         {
          "n": "name",
          "po": 2072,
          "v": "JUNB (pp) MAFG"
         },
         {
          "n": "interaction",
          "po": 2072,
          "v": "pp"
         },
         {
          "n": "canonicalName",
          "po": 2072,
          "v": "JUNB (pp) MAFG"
         },
         {
          "n": "name",
          "po": 2071,
          "v": "JUNB (pp) SMAD4"
         },
         {
          "n": "interaction",
          "po": 2071,
          "v": "pp"
         },
         {
          "n": "canonicalName",
          "po": 2071,
          "v": "JUNB (pp) SMAD4"
         },
         {
          "n": "name",
          "po": 2070,
          "v": "JUNB (pp) SMAD3"
         },
         {
          "n": "interaction",
          "po": 2070,
          "v": "pp"
         },
         {
          "n": "canonicalName",
          "po": 2070,
          "v": "JUNB (pp) SMAD3"
         },
         {
          "n": "name",
          "po": 2069,
          "v": "JUNB (pp) JUNB"
         },
         {
          "n": "interaction",
          "po": 2069,
          "v": "pp"
         },
         {
          "n": "canonicalName",
          "po": 2069,
          "v": "JUNB (pp) JUNB"
         },
         {
          "n": "name",
          "po": 2068,
          "v": "RELA (pp) VIM"
         },
         {
          "n": "interaction",
          "po": 2068,
          "v": "pp"
         },
         {
          "n": "canonicalName",
          "po": 2068,
          "v": "RELA (pp) VIM"
         },
         {
          "n": "name",
          "po": 2067,
          "v": "EGFR (pp) ITGA5"
         },
         {
          "n": "interaction",
          "po": 2067,
          "v": "pp"
         },
         {
          "n": "canonicalName",
          "po": 2067,
          "v": "EGFR (pp) ITGA5"
         },
         {
          "n": "name",
          "po": 2066,
          "v": "EGFR (pp) TLN1"
         },
         {
          "n": "interaction",
          "po": 2066,
          "v": "pp"
         },
         {
          "n": "canonicalName",
          "po": 2066,
          "v": "EGFR (pp) TLN1"
         },
         {
          "n": "name",
          "po": 2065,
          "v": "EGFR (pp) FOS"
         },
         {
          "n": "interaction",
          "po": 2065,
          "v": "pp"
         },
         {
          "n": "canonicalName",
          "po": 2065,
          "v": "EGFR (pp) FOS"
         },
         {
          "n": "name",
          "po": 2064,
          "v": "CSNK2A1 (pp) FOS"
         },
         {
          "n": "interaction",
          "po": 2064,
          "v": "pp"
         },
         {
          "n": "canonicalName",
          "po": 2064,
          "v": "CSNK2A1 (pp) FOS"
         },
         {
          "n": "name",
          "po": 2063,
          "v": "CSNK2A1 (pp) JUN"
         },
         {
          "n": "interaction",
          "po": 2063,
          "v": "pp"
         },
         {
          "n": "canonicalName",
          "po": 2063,
          "v": "CSNK2A1 (pp) JUN"
         },
         {
          "n": "name",
          "po": 2062,
          "v": "BATF (pp) JUNB"
         },
         {
          "n": "interaction",
          "po": 2062,
          "v": "pp"
         },
         {
          "n": "canonicalName",
          "po": 2062,
          "v": "BATF (pp) JUNB"
         },
         {
          "n": "name",
          "po": 2061,
          "v": "BATF (pp) FOS"
         },
         {
          "n": "interaction",
          "po": 2061,
          "v": "pp"
         },
         {
          "n": "canonicalName",
          "po": 2061,
          "v": "BATF (pp) FOS"
         },
         {
          "n": "name",
          "po": 2060,
          "v": "BATF (pp) JUN"
         },
         {
          "n": "interaction",
          "po": 2060,
          "v": "pp"
         },
         {
          "n": "canonicalName",
          "po": 2060,
          "v": "BATF (pp) JUN"
         },
         {
          "n": "name",
          "po": 2059,
          "v": "VCL (pp) YWHAZ"
         },
         {
          "n": "interaction",
          "po": 2059,
          "v": "pp"
         },
         {
          "n": "canonicalName",
          "po": 2059,
          "v": "VCL (pp) YWHAZ"
         },
         {
          "n": "name",
          "po": 2058,
          "v": "VCL (pp) VCL"
         },
         {
          "n": "interaction",
          "po": 2058,
          "v": "pp"
         },
         {
          "n": "canonicalName",
          "po": 2058,
          "v": "VCL (pp) VCL"
         },
         {
          "n": "name",
          "po": 2057,
          "v": "VCL (pp) VIM"
         },
         {
          "n": "interaction",
          "po": 2057,
          "v": "pp"
         },
         {
          "n": "canonicalName",
          "po": 2057,
          "v": "VCL (pp) VIM"
         },
         {
          "n": "name",
          "po": 2056,
          "v": "JAG1 (pp) FOS"
         },
         {
          "n": "interaction",
          "po": 2056,
          "v": "pp"
         },
         {
          "n": "canonicalName",
          "po": 2056,
          "v": "JAG1 (pp) FOS"
         },
         {
          "n": "name",
          "po": 2055,
          "v": "JAG1 (pp) JUN"
         },
         {
          "n": "interaction",
          "po": 2055,
          "v": "pp"
         },
         {
          "n": "canonicalName",
          "po": 2055,
          "v": "JAG1 (pp) JUN"
         },
         {
          "n": "name",
          "po": 2054,
          "v": "JDP2 (pp) JUNB"
         },
         {
          "n": "interaction",
          "po": 2054,
          "v": "pp"
         },
         {
          "n": "canonicalName",
          "po": 2054,
          "v": "JDP2 (pp) JUNB"
         },
         {
          "n": "name",
          "po": 2053,
          "v": "JDP2 (pp) JUN"
         },
         {
          "n": "interaction",
          "po": 2053,
          "v": "pp"
         },
         {
          "n": "canonicalName",
          "po": 2053,
          "v": "JDP2 (pp) JUN"
         },
         {
          "n": "name",
          "po": 2052,
          "v": "NRAP (pp) VCL"
         },
         {
          "n": "interaction",
          "po": 2052,
          "v": "pp"
         },
         {
          "n": "canonicalName",
          "po": 2052,
          "v": "NRAP (pp) VCL"
         },
         {
          "n": "name",
          "po": 2051,
          "v": "NRAP (pp) TLN1"
         },
         {
          "n": "interaction",
          "po": 2051,
          "v": "pp"
         },
         {
          "n": "canonicalName",
          "po": 2051,
          "v": "NRAP (pp) TLN1"
         },
         {
          "n": "name",
          "po": 2050,
          "v": "PKD1 (pp) VCL"
         },
         {
          "n": "interaction",
          "po": 2050,
          "v": "pp"
         },
         {
          "n": "canonicalName",
          "po": 2050,
          "v": "PKD1 (pp) VCL"
         },
         {
          "n": "name",
          "po": 2049,
          "v": "PKD1 (pp) TLN1"
         },
         {
          "n": "interaction",
          "po": 2049,
          "v": "pp"
         },
         {
          "n": "canonicalName",
          "po": 2049,
          "v": "PKD1 (pp) TLN1"
         },
         {
          "n": "name",
          "po": 2048,
          "v": "PKD1 (pp) VIM"
         },
         {
          "n": "interaction",
          "po": 2048,
          "v": "pp"
         },
         {
          "n": "canonicalName",
          "po": 2048,
          "v": "PKD1 (pp) VIM"
         },
         {
          "n": "name",
          "po": 2047,
          "v": "FOSB (pp) MAFB"
         },
         {
          "n": "interaction",
          "po": 2047,
          "v": "pp"
         },
         {
          "n": "canonicalName",
          "po": 2047,
          "v": "FOSB (pp) MAFB"
         },
         {
          "n": "name",
          "po": 2046,
          "v": "FOSB (pp) FOSL1"
         },
         {
          "n": "interaction",
          "po": 2046,
          "v": "pp"
         },
         {
          "n": "canonicalName",
          "po": 2046,
          "v": "FOSB (pp) FOSL1"
         },
         {
          "n": "name",
          "po": 2045,
          "v": "FOSB (pp) ATF4"
         },
         {
          "n": "interaction",
          "po": 2045,
          "v": "pp"
         },
         {
          "n": "canonicalName",
          "po": 2045,
          "v": "FOSB (pp) ATF4"
         },
         {
          "n": "name",
          "po": 2044,
          "v": "FOSB (pp) JUND"
         },
         {
          "n": "interaction",
          "po": 2044,
          "v": "pp"
         },
         {
          "n": "canonicalName",
          "po": 2044,
          "v": "FOSB (pp) JUND"
         },
         {
          "n": "name",
          "po": 2043,
          "v": "FOSB (pp) JUNB"
         },
         {
          "n": "interaction",
          "po": 2043,
          "v": "pp"
         },
         {
          "n": "canonicalName",
          "po": 2043,
          "v": "FOSB (pp) JUNB"
         },
         {
          "n": "name",
          "po": 2042,
          "v": "FOSB (pp) JUN"
         },
         {
          "n": "interaction",
          "po": 2042,
          "v": "pp"
         },
         {
          "n": "canonicalName",
          "po": 2042,
          "v": "FOSB (pp) JUN"
         },
         {
          "n": "name",
          "po": 2041,
          "v": "ACTA1 (pp) VCL"
         },
         {
          "n": "interaction",
          "po": 2041,
          "v": "pp"
         },
         {
          "n": "canonicalName",
          "po": 2041,
          "v": "ACTA1 (pp) VCL"
         },
         {
          "n": "name",
          "po": 2040,
          "v": "ACTA1 (pp) TLN1"
         },
         {
          "n": "interaction",
          "po": 2040,
          "v": "pp"
         },
         {
          "n": "canonicalName",
          "po": 2040,
          "v": "ACTA1 (pp) TLN1"
         },
         {
          "n": "name",
          "po": 2039,
          "v": "LDLR (pp) PF4"
         },
         {
          "n": "interaction",
          "po": 2039,
          "v": "pp"
         },
         {
          "n": "canonicalName",
          "po": 2039,
          "v": "LDLR (pp) PF4"
         },
         {
          "n": "name",
          "po": 2038,
          "v": "LDLR (pp) LDLR"
         },
         {
          "n": "interaction",
          "po": 2038,
          "v": "pp"
         },
         {
          "n": "canonicalName",
          "po": 2038,
          "v": "LDLR (pp) LDLR"
         },
         {
          "n": "name",
          "po": 2037,
          "v": "PDIA3 (pp) VCL"
         },
         {
          "n": "interaction",
          "po": 2037,
          "v": "pp"
         },
         {
          "n": "canonicalName",
          "po": 2037,
          "v": "PDIA3 (pp) VCL"
         },
         {
          "n": "name",
          "po": 2036,
          "v": "PDIA3 (pp) LDLR"
         },
         {
          "n": "interaction",
          "po": 2036,
          "v": "pp"
         },
         {
          "n": "canonicalName",
          "po": 2036,
          "v": "PDIA3 (pp) LDLR"
         },
         {
          "n": "name",
          "po": 2035,
          "v": "ERBB2 (pp) ITGA5"
         },
         {
          "n": "interaction",
          "po": 2035,
          "v": "pp"
         },
         {
          "n": "canonicalName",
          "po": 2035,
          "v": "ERBB2 (pp) ITGA5"
         },
         {
          "n": "name",
          "po": 2034,
          "v": "ERBB2 (pp) TLN1"
         },
         {
          "n": "interaction",
          "po": 2034,
          "v": "pp"
         },
         {
          "n": "canonicalName",
          "po": 2034,
          "v": "ERBB2 (pp) TLN1"
         },
         {
          "n": "name",
          "po": 2033,
          "v": "JUN (pp) MAFB"
         },
         {
          "n": "interaction",
          "po": 2033,
          "v": "pp"
         },
         {
          "n": "canonicalName",
          "po": 2033,
          "v": "JUN (pp) MAFB"
         },
         {
          "n": "name",
          "po": 2032,
          "v": "JUN (pp) NCOR2"
         },
         {
          "n": "interaction",
          "po": 2032,
          "v": "pp"
         },
         {
          "n": "canonicalName",
          "po": 2032,
          "v": "JUN (pp) NCOR2"
         },
         {
          "n": "name",
          "po": 2031,
          "v": "JUN (pp) NCOA1"
         },
         {
          "n": "interaction",
          "po": 2031,
          "v": "pp"
         },
         {
          "n": "canonicalName",
          "po": 2031,
          "v": "JUN (pp) NCOA1"
         },
         {
          "n": "name",
          "po": 2030,
          "v": "JUN (pp) RUNX1"
         },
         {
          "n": "interaction",
          "po": 2030,
          "v": "pp"
         },
         {
          "n": "canonicalName",
          "po": 2030,
          "v": "JUN (pp) RUNX1"
         },
         {
          "n": "name",
          "po": 2029,
          "v": "JUN (pp) RUNX2"
         },
         {
          "n": "interaction",
          "po": 2029,
          "v": "pp"
         },
         {
          "n": "canonicalName",
          "po": 2029,
          "v": "JUN (pp) RUNX2"
         },
         {
          "n": "name",
          "po": 2028,
          "v": "JUN (pp) KHSRP"
         },
         {
          "n": "interaction",
          "po": 2028,
          "v": "pp"
         },
         {
          "n": "canonicalName",
          "po": 2028,
          "v": "JUN (pp) KHSRP"
         },
         {
          "n": "name",
          "po": 2027,
          "v": "JUN (pp) FOSL1"
         },
         {
          "n": "interaction",
          "po": 2027,
          "v": "pp"
         },
         {
          "n": "canonicalName",
          "po": 2027,
          "v": "JUN (pp) FOSL1"
         },
         {
          "n": "name",
          "po": 2026,
          "v": "JUN (pp) MAFK"
         },
         {
          "n": "interaction",
          "po": 2026,
          "v": "pp"
         },
         {
          "n": "canonicalName",
          "po": 2026,
          "v": "JUN (pp) MAFK"
         },
         {
          "n": "name",
          "po": 2025,
          "v": "JUN (pp) SUMO1"
         },
         {
          "n": "interaction",
          "po": 2025,
          "v": "pp"
         },
         {
          "n": "canonicalName",
          "po": 2025,
          "v": "JUN (pp) SUMO1"
         },
         {
          "n": "name",
          "po": 2024,
          "v": "JUN (pp) UBE2I"
         },
         {
          "n": "interaction",
          "po": 2024,
          "v": "pp"
         },
         {
          "n": "canonicalName",
          "po": 2024,
          "v": "JUN (pp) UBE2I"
         },
         {
          "n": "name",
          "po": 2023,
          "v": "JUN (pp) TBP"
         },
         {
          "n": "interaction",
          "po": 2023,
          "v": "pp"
         },
         {
          "n": "canonicalName",
          "po": 2023,
          "v": "JUN (pp) TBP"
         },
         {
          "n": "name",
          "po": 2022,
          "v": "JUN (pp) TAF1"
         },
         {
          "n": "interaction",
          "po": 2022,
          "v": "pp"
         },
         {
          "n": "canonicalName",
          "po": 2022,
          "v": "JUN (pp) TAF1"
         },
         {
          "n": "name",
          "po": 2021,
          "v": "JUN (pp) STAT3"
         },
         {
          "n": "interaction",
          "po": 2021,
          "v": "pp"
         },
         {
          "n": "canonicalName",
          "po": 2021,
          "v": "JUN (pp) STAT3"
         },
         {
          "n": "name",
          "po": 2020,
          "v": "JUN (pp) STAT1"
         },
         {
          "n": "interaction",
          "po": 2020,
          "v": "pp"
         },
         {
          "n": "canonicalName",
          "po": 2020,
          "v": "JUN (pp) STAT1"
         },
         {
          "n": "name",
          "po": 2019,
          "v": "JUN (pp) BRCA1"
         },
         {
          "n": "interaction",
          "po": 2019,
          "v": "pp"
         },
         {
          "n": "canonicalName",
          "po": 2019,
          "v": "JUN (pp) BRCA1"
         },
         {
          "n": "name",
          "po": 2018,
          "v": "JUN (pp) SUMO2"
         },
         {
          "n": "interaction",
          "po": 2018,
          "v": "pp"
         },
         {
          "n": "canonicalName",
          "po": 2018,
          "v": "JUN (pp) SUMO2"
         },
         {
          "n": "name",
          "po": 2017,
          "v": "JUN (pp) SUMO3"
         },
         {
          "n": "interaction",
          "po": 2017,
          "v": "pp"
         },
         {
          "n": "canonicalName",
          "po": 2017,
          "v": "JUN (pp) SUMO3"
         },
         {
          "n": "name",
          "po": 2016,
          "v": "JUN (pp) SMARCD1"
         },
         {
          "n": "interaction",
          "po": 2016,
          "v": "pp"
         },
         {
          "n": "canonicalName",
          "po": 2016,
          "v": "JUN (pp) SMARCD1"
         },
         {
          "n": "name",
          "po": 2015,
          "v": "JUN (pp) BCL6"
         },
         {
          "n": "interaction",
          "po": 2015,
          "v": "pp"
         },
         {
          "n": "canonicalName",
          "po": 2015,
          "v": "JUN (pp) BCL6"
         },
         {
          "n": "name",
          "po": 2014,
          "v": "JUN (pp) BCL3"
         },
         {
          "n": "interaction",
          "po": 2014,
          "v": "pp"
         },
         {
          "n": "canonicalName",
          "po": 2014,
          "v": "JUN (pp) BCL3"
         },
         {
          "n": "name",
          "po": 2013,
          "v": "JUN (pp) RELA"
         },
         {
          "n": "interaction",
          "po": 2013,
          "v": "pp"
         },
         {
          "n": "canonicalName",
          "po": 2013,
          "v": "JUN (pp) RELA"
         },
         {
          "n": "name",
          "po": 2012,
          "v": "JUN (pp) RB1"
         },
         {
          "n": "interaction",
          "po": 2012,
          "v": "pp"
         },
         {
          "n": "canonicalName",
          "po": 2012,
          "v": "JUN (pp) RB1"
         },
         {
          "n": "name",
          "po": 2011,
          "v": "JUN (pp) MAPK8"
         },
         {
          "n": "interaction",
          "po": 2011,
          "v": "pp"
         },
         {
          "n": "canonicalName",
          "po": 2011,
          "v": "JUN (pp) MAPK8"
         },
         {
          "n": "name",
          "po": 2010,
          "v": "JUN (pp) MAPK1"
         },
         {
          "n": "interaction",
          "po": 2010,
          "v": "pp"
         },
         {
          "n": "canonicalName",
          "po": 2010,
          "v": "JUN (pp) MAPK1"
         },
         {
          "n": "name",
          "po": 2009,
          "v": "JUN (pp) BATF3"
         },
         {
          "n": "interaction",
          "po": 2009,
          "v": "pp"
         },
         {
          "n": "canonicalName",
          "po": 2009,
          "v": "JUN (pp) BATF3"
         },
         {
          "n": "name",
          "po": 2008,
          "v": "JUN (pp) PML"
         },
         {
          "n": "interaction",
          "po": 2008,
          "v": "pp"
         },
         {
          "n": "canonicalName",
          "po": 2008,
          "v": "JUN (pp) PML"
         },
         {
          "n": "name",
          "po": 2007,
          "v": "JUN (pp) NTRK3"
         },
         {
          "n": "interaction",
          "po": 2007,
          "v": "pp"
         },
         {
          "n": "canonicalName",
          "po": 2007,
          "v": "JUN (pp) NTRK3"
         },
         {
          "n": "name",
          "po": 2006,
          "v": "JUN (pp) NFE2L1"
         },
         {
          "n": "interaction",
          "po": 2006,
          "v": "pp"
         },
         {
          "n": "canonicalName",
          "po": 2006,
          "v": "JUN (pp) NFE2L1"
         },
         {
          "n": "name",
          "po": 2005,
          "v": "JUN (pp) NFATC2"
         },
         {
          "n": "interaction",
          "po": 2005,
          "v": "pp"
         },
         {
          "n": "canonicalName",
          "po": 2005,
          "v": "JUN (pp) NFATC2"
         },
         {
          "n": "name",
          "po": 2004,
          "v": "JUN (pp) ATF4"
         },
         {
          "n": "interaction",
          "po": 2004,
          "v": "pp"
         },
         {
          "n": "canonicalName",
          "po": 2004,
          "v": "JUN (pp) ATF4"
         },
         {
          "n": "name",
          "po": 2003,
          "v": "JUN (pp) ATF3"
         },
         {
          "n": "interaction",
          "po": 2003,
          "v": "pp"
         },
         {
          "n": "canonicalName",
          "po": 2003,
          "v": "JUN (pp) ATF3"
         },
         {
          "n": "name",
          "po": 2002,
          "v": "JUN (pp) MAFG"
         },
         {
          "n": "interaction",
          "po": 2002,
          "v": "pp"
         },
         {
          "n": "canonicalName",
          "po": 2002,
          "v": "JUN (pp) MAFG"
         },
         {
          "n": "name",
          "po": 2001,
          "v": "JUN (pp) MAF"
         },
         {
          "n": "interaction",
          "po": 2001,
          "v": "pp"
         },
         {
          "n": "canonicalName",
          "po": 2001,
          "v": "JUN (pp) MAF"
         },
         {
          "n": "name",
          "po": 2000,
          "v": "JUN (pp) SMAD4"
         },
         {
          "n": "interaction",
          "po": 2000,
          "v": "pp"
         },
         {
          "n": "canonicalName",
          "po": 2000,
          "v": "JUN (pp) SMAD4"
         },
         {
          "n": "name",
          "po": 1999,
          "v": "JUN (pp) SMAD3"
         },
         {
          "n": "interaction",
          "po": 1999,
          "v": "pp"
         },
         {
          "n": "canonicalName",
          "po": 1999,
          "v": "JUN (pp) SMAD3"
         },
         {
          "n": "name",
          "po": 1998,
          "v": "JUN (pp) SUMO4"
         },
         {
          "n": "interaction",
          "po": 1998,
          "v": "pp"
         },
         {
          "n": "canonicalName",
          "po": 1998,
          "v": "JUN (pp) SUMO4"
         },
         {
          "n": "name",
          "po": 1997,
          "v": "JUN (pp) JUND"
         },
         {
          "n": "interaction",
          "po": 1997,
          "v": "pp"
         },
         {
          "n": "canonicalName",
          "po": 1997,
          "v": "JUN (pp) JUND"
         },
         {
          "n": "name",
          "po": 1996,
          "v": "JUN (pp) JUNB"
         },
         {
          "n": "interaction",
          "po": 1996,
          "v": "pp"
         },
         {
          "n": "canonicalName",
          "po": 1996,
          "v": "JUN (pp) JUNB"
         },
         {
          "n": "name",
          "po": 1995,
          "v": "JUN (pp) JUN"
         },
         {
          "n": "interaction",
          "po": 1995,
          "v": "pp"
         },
         {
          "n": "canonicalName",
          "po": 1995,
          "v": "JUN (pp) JUN"
         },
         {
          "n": "name",
          "po": 1994,
          "v": "MYH9 (pp) VCL"
         },
         {
          "n": "interaction",
          "po": 1994,
          "v": "pp"
         },
         {
          "n": "canonicalName",
          "po": 1994,
          "v": "MYH9 (pp) VCL"
         },
         {
          "n": "name",
          "po": 1993,
          "v": "MYH9 (pp) MYH10"
         },
         {
          "n": "interaction",
          "po": 1993,
          "v": "pp"
         },
         {
          "n": "canonicalName",
          "po": 1993,
          "v": "MYH9 (pp) MYH10"
         },
         {
          "n": "name",
          "po": 1992,
          "v": "AGTR1 (pp) GPRASP1"
         },
         {
          "n": "interaction",
          "po": 1992,
          "v": "pp"
         },
         {
          "n": "canonicalName",
          "po": 1992,
          "v": "AGTR1 (pp) GPRASP1"
         },
         {
          "n": "name",
          "po": 1991,
          "v": "AGTR1 (pp) EGFR"
         },
         {
          "n": "interaction",
          "po": 1991,
          "v": "pp"
         },
         {
          "n": "canonicalName",
          "po": 1991,
          "v": "AGTR1 (pp) EGFR"
         }
        ]
       },
       {
        "cartesianLayout": [
         {
          "node": 1990,
          "x": 115.45074462890625,
          "y": 1247.137451171875
         },
         {
          "node": 1989,
          "x": 215.45074462890625,
          "y": 1247.137451171875
         },
         {
          "node": 1988,
          "x": 315.45074462890625,
          "y": 1247.137451171875
         },
         {
          "node": 1987,
          "x": 1305.5284423828125,
          "y": 552.9442749023438
         },
         {
          "node": 1986,
          "x": 719.1798706054688,
          "y": 300.35491943359375
         },
         {
          "node": 1985,
          "x": 667.2521362304688,
          "y": 307.60626220703125
         },
         {
          "node": 1984,
          "x": 828.9523315429688,
          "y": 331.6335754394531
         },
         {
          "node": 1983,
          "x": 460.7267761230469,
          "y": 355.955078125
         },
         {
          "node": 1982,
          "x": 279.09283447265625,
          "y": 657.22216796875
         },
         {
          "node": 1981,
          "x": 668.6952514648438,
          "y": 544.6622924804688
         },
         {
          "node": 1980,
          "x": 1259.7103271484375,
          "y": 549.1605224609375
         },
         {
          "node": 1979,
          "x": 712.2846069335938,
          "y": 579.604736328125
         },
         {
          "node": 1978,
          "x": 870.572265625,
          "y": 726.9676513671875
         },
         {
          "node": 1977,
          "x": 364.681640625,
          "y": 367.8902587890625
         },
         {
          "node": 1976,
          "x": 705.5723876953125,
          "y": 789.9351806640625
         },
         {
          "node": 1975,
          "x": 335.22320556640625,
          "y": 443.447021484375
         },
         {
          "node": 1974,
          "x": 784.2816772460938,
          "y": 287.3472900390625
         },
         {
          "node": 1973,
          "x": 189.245361328125,
          "y": 828.810546875
         },
         {
          "node": 1972,
          "x": 1106.1593017578125,
          "y": 508.6750946044922
         },
         {
          "node": 1971,
          "x": 301.0044860839844,
          "y": 575.3361206054688
         },
         {
          "node": 1970,
          "x": 265.3548278808594,
          "y": 281.1683044433594
         },
         {
          "node": 1969,
          "x": 530.0591430664062,
          "y": 721.43896484375
         },
         {
          "node": 1968,
          "x": 1198.5196533203125,
          "y": 597.131591796875
         },
         {
          "node": 1967,
          "x": 423.6495666503906,
          "y": 755.181884765625
         },
         {
          "node": 1966,
          "x": 481.68914794921875,
          "y": 943.3212890625
         },
         {
          "node": 1965,
          "x": 1359.2989501953125,
          "y": 403.285400390625
         },
         {
          "node": 1964,
          "x": 1319.0657958984375,
          "y": 306.5563049316406
         },
         {
          "node": 1963,
          "x": 1266.9273681640625,
          "y": 500.19371032714844
         },
         {
          "node": 1962,
          "x": 870.5343017578125,
          "y": 360.6092224121094
         },
         {
          "node": 1961,
          "x": 594.4660034179688,
          "y": 880.9830322265625
         },
         {
          "node": 1960,
          "x": 1038.0202331542969,
          "y": 368.7022705078125
         },
         {
          "node": 1959,
          "x": 1197.1705322265625,
          "y": 547.3692016601562
         },
         {
          "node": 1958,
          "x": 396.86328125,
          "y": 678.9248046875
         },
         {
          "node": 1957,
          "x": 407.4264221191406,
          "y": 846.137939453125
         },
         {
          "node": 1956,
          "x": 369.4337158203125,
          "y": 794.8781127929688
         },
         {
          "node": 1955,
          "x": 305.11810302734375,
          "y": 869.5035400390625
         },
         {
          "node": 1954,
          "x": 476.501953125,
          "y": 863.4191284179688
         },
         {
          "node": 1953,
          "x": 588.409912109375,
          "y": 307.577392578125
         },
         {
          "node": 1952,
          "x": 760.7383422851562,
          "y": 331.72076416015625
         },
         {
          "node": 1951,
          "x": 641.9661865234375,
          "y": 442.0837097167969
         },
         {
          "node": 1950,
          "x": 869.1173706054688,
          "y": 555.7036743164062
         },
         {
          "node": 1949,
          "x": 1221.0596923828125,
          "y": 288.4344787597656
         },
         {
          "node": 1948,
          "x": 115.45074462890625,
          "y": 795.923583984375
         },
         {
          "node": 1947,
          "x": 1043.1731872558594,
          "y": 320.1060485839844
         },
         {
          "node": 1946,
          "x": 1064.8233642578125,
          "y": 610.9053955078125
         },
         {
          "node": 1945,
          "x": 1319.0062255859375,
          "y": 421.5399475097656
         },
         {
          "node": 1944,
          "x": 1152.9627685546875,
          "y": 571.6055297851562
         },
         {
          "node": 1943,
          "x": 1239.1307373046875,
          "y": 587.75146484375
         },
         {
          "node": 1942,
          "x": 899.860107421875,
          "y": 510.4022521972656
         },
         {
          "node": 1941,
          "x": 896.5711669921875,
          "y": 406.0578308105469
         },
         {
          "node": 1940,
          "x": 1042.5729675292969,
          "y": 417.1156311035156
         },
         {
          "node": 1939,
          "x": 695.6586303710938,
          "y": 647.2542114257812
         },
         {
          "node": 1938,
          "x": 587.4325561523438,
          "y": 193.86688232421875
         },
         {
          "node": 1937,
          "x": 823.3882446289062,
          "y": 390.0184631347656
         },
         {
          "node": 1936,
          "x": 901.7157592773438,
          "y": 614.4517211914062
         },
         {
          "node": 1935,
          "x": 1094.3472900390625,
          "y": 574.2919311523438
         },
         {
          "node": 1934,
          "x": 1282.8800048828125,
          "y": 601.139892578125
         },
         {
          "node": 1933,
          "x": 1042.9793395996094,
          "y": 568.2110595703125
         },
         {
          "node": 1932,
          "x": 902.1221313476562,
          "y": 457.23883056640625
         },
         {
          "node": 1931,
          "x": 1351.6290283203125,
          "y": 462.7389831542969
         },
         {
          "node": 1930,
          "x": 857.0604858398438,
          "y": 809.0494995117188
         },
         {
          "node": 1929,
          "x": 556.7235107421875,
          "y": 820.2266845703125
         },
         {
          "node": 1928,
          "x": 265.6728210449219,
          "y": 815.5536499023438
         },
         {
          "node": 1927,
          "x": 821.26806640625,
          "y": 1002.77880859375
         },
         {
          "node": 1926,
          "x": 785.4044799804688,
          "y": 599.3639526367188
         },
         {
          "node": 1925,
          "x": 1172.2244873046875,
          "y": 630.3786010742188
         },
         {
          "node": 1924,
          "x": 848.9552612304688,
          "y": 485.03729248046875
         },
         {
          "node": 1923,
          "x": 1203.7203369140625,
          "y": 662.3901977539062
         },
         {
          "node": 1922,
          "x": 322.0287170410156,
          "y": 730.0418701171875
         },
         {
          "node": 1921,
          "x": 772.8217163085938,
          "y": 1044.33837890625
         },
         {
          "node": 1920,
          "x": 765.1065673828125,
          "y": 465.8020935058594
         },
         {
          "node": 1919,
          "x": 766.2471313476562,
          "y": 537.0943603515625
         },
         {
          "node": 1918,
          "x": 149.43701171875,
          "y": 687.421630859375
         },
         {
          "node": 1917,
          "x": 747.369384765625,
          "y": 719.600830078125
         },
         {
          "node": 1916,
          "x": 1101.1209716796875,
          "y": 663.0280151367188
         },
         {
          "node": 1915,
          "x": 1244.0150146484375,
          "y": 635.8301391601562
         },
         {
          "node": 1914,
          "x": 1130.7789306640625,
          "y": 614.3710327148438
         },
         {
          "node": 1913,
          "x": 1119.89208984375,
          "y": 265.6341323852539
         },
         {
          "node": 1912,
          "x": 1271.9144287109375,
          "y": 279.31207275390625
         },
         {
          "node": 1911,
          "x": 606.4625854492188,
          "y": 517.247802734375
         },
         {
          "node": 1910,
          "x": 783.407470703125,
          "y": 888.3631591796875
         },
         {
          "node": 1909,
          "x": 859.369384765625,
          "y": 649.6844482421875
         },
         {
          "node": 1908,
          "x": 1226.6451416015625,
          "y": 467.53179931640625
         },
         {
          "node": 1907,
          "x": 739.5897827148438,
          "y": 407.2936706542969
         },
         {
          "node": 1906,
          "x": 667.1461791992188,
          "y": 365.64117431640625
         },
         {
          "node": 1905,
          "x": 1137.2618408203125,
          "y": 370.2415466308594
         },
         {
          "node": 1904,
          "x": 1031.4698486328125,
          "y": 472.35084533691406
         },
         {
          "node": 1903,
          "x": 1346.2669677734375,
          "y": 348.7479248046875
         },
         {
          "node": 1902,
          "x": 1227.731689453125,
          "y": 514.0210418701172
         },
         {
          "node": 1901,
          "x": 820.828369140625,
          "y": 526.2285766601562
         },
         {
          "node": 1900,
          "x": 1225.6915283203125,
          "y": 422.9170227050781
         },
         {
          "node": 1899,
          "x": 1176.1134033203125,
          "y": 403.7768859863281
         },
         {
          "node": 1898,
          "x": 615.1937866210938,
          "y": 772.711181640625
         },
         {
          "node": 1897,
          "x": 1126.4716796875,
          "y": 413.5410461425781
         },
         {
          "node": 1896,
          "x": 264.5274353027344,
          "y": 709.3876953125
         },
         {
          "node": 1895,
          "x": 1268.4908447265625,
          "y": 327.4273986816406
         },
         {
          "node": 1894,
          "x": 167.8306884765625,
          "y": 926.1484985351562
         },
         {
          "node": 1893,
          "x": 1307.4061279296875,
          "y": 502.37693786621094
         },
         {
          "node": 1892,
          "x": 1204.1055908203125,
          "y": 370.0185241699219
         },
         {
          "node": 1891,
          "x": 842.7407836914062,
          "y": 435.84454345703125
         },
         {
          "node": 1890,
          "x": 659.5078735351562,
          "y": 614.4479370117188
         },
         {
          "node": 1889,
          "x": 1119.7669677734375,
          "y": 330.0891418457031
         },
         {
          "node": 1888,
          "x": 1088.3970947265625,
          "y": 376.8039855957031
         },
         {
          "node": 1887,
          "x": 1276.3155517578125,
          "y": 452.1596984863281
         },
         {
          "node": 1886,
          "x": 613.75927734375,
          "y": 660.4109497070312
         },
         {
          "node": 1885,
          "x": 1037.1229553222656,
          "y": 521.1299591064453
         },
         {
          "node": 1884,
          "x": 1148.5433349609375,
          "y": 671.5806884765625
         },
         {
          "node": 1883,
          "x": 1216.2828369140625,
          "y": 242.76353454589844
         },
         {
          "node": 1882,
          "x": 472.94110107421875,
          "y": 646.0647583007812
         },
         {
          "node": 1881,
          "x": 603.0339965820312,
          "y": 576.1859130859375
         },
         {
          "node": 1880,
          "x": 1076.6964111328125,
          "y": 291.0680236816406
         },
         {
          "node": 1879,
          "x": 1264.3150634765625,
          "y": 395.4712219238281
         },
         {
          "node": 1878,
          "x": 587.7887573242188,
          "y": 398.857666015625
         },
         {
          "node": 1877,
          "x": 510.8555908203125,
          "y": 605.639892578125
         },
         {
          "node": 1876,
          "x": 1304.5697021484375,
          "y": 366.3501281738281
         },
         {
          "node": 1875,
          "x": 701.1734008789062,
          "y": 980.4140625
         },
         {
          "node": 1874,
          "x": 663.1631469726562,
          "y": 845.0911254882812
         },
         {
          "node": 1873,
          "x": 380.2032775878906,
          "y": 912.2099609375
         },
         {
          "node": 1872,
          "x": 491.0501708984375,
          "y": 816.636474609375
         },
         {
          "node": 1871,
          "x": 1169.9593505859375,
          "y": 266.5906753540039
         },
         {
          "node": 1870,
          "x": 1158.56103515625,
          "y": 466.41845703125
         },
         {
          "node": 1869,
          "x": 1171.1383056640625,
          "y": 336.2669372558594
         },
         {
          "node": 1868,
          "x": 651.088623046875,
          "y": 493.354248046875
         },
         {
          "node": 1867,
          "x": 489.30377197265625,
          "y": 487.773193359375
         },
         {
          "node": 1866,
          "x": 248.59344482421875,
          "y": 758.2381591796875
         }
        ]
       },
       {
        "cyVisualProperties": [
         {
          "properties": {
           "NETWORK_BACKGROUND_PAINT": "#FFFFFF",
           "NETWORK_CENTER_X_LOCATION": "0.0",
           "NETWORK_CENTER_Y_LOCATION": "0.0",
           "NETWORK_CENTER_Z_LOCATION": "0.0",
           "NETWORK_DEPTH": "0.0",
           "NETWORK_EDGE_SELECTION": "true",
           "NETWORK_HEIGHT": "400.0",
           "NETWORK_NODE_SELECTION": "true",
           "NETWORK_SCALE_FACTOR": "1.0",
           "NETWORK_WIDTH": "550.0"
          },
          "properties_of": "network"
         },
         {
          "dependencies": {
           "nodeCustomGraphicsSizeSync": "true",
           "nodeSizeLocked": "true"
          },
          "mappings": {
           "NODE_LABEL": {
            "definition": "COL=name,T=string",
            "type": "PASSTHROUGH"
           }
          },
          "properties": {
           "COMPOUND_NODE_PADDING": "10.0",
           "COMPOUND_NODE_SHAPE": "ROUND_RECTANGLE",
           "NODE_BORDER_PAINT": "#666666",
           "NODE_BORDER_STROKE": "SOLID",
           "NODE_BORDER_TRANSPARENCY": "255",
           "NODE_BORDER_WIDTH": "1.5",
           "NODE_CUSTOMGRAPHICS_1": "org.cytoscape.ding.customgraphics.NullCustomGraphics,0,[ Remove Graphics ],",
           "NODE_CUSTOMGRAPHICS_2": "org.cytoscape.ding.customgraphics.NullCustomGraphics,0,[ Remove Graphics ],",
           "NODE_CUSTOMGRAPHICS_3": "org.cytoscape.ding.customgraphics.NullCustomGraphics,0,[ Remove Graphics ],",
           "NODE_CUSTOMGRAPHICS_4": "org.cytoscape.ding.customgraphics.NullCustomGraphics,0,[ Remove Graphics ],",
           "NODE_CUSTOMGRAPHICS_5": "org.cytoscape.ding.customgraphics.NullCustomGraphics,0,[ Remove Graphics ],",
           "NODE_CUSTOMGRAPHICS_6": "org.cytoscape.ding.customgraphics.NullCustomGraphics,0,[ Remove Graphics ],",
           "NODE_CUSTOMGRAPHICS_7": "org.cytoscape.ding.customgraphics.NullCustomGraphics,0,[ Remove Graphics ],",
           "NODE_CUSTOMGRAPHICS_8": "org.cytoscape.ding.customgraphics.NullCustomGraphics,0,[ Remove Graphics ],",
           "NODE_CUSTOMGRAPHICS_9": "org.cytoscape.ding.customgraphics.NullCustomGraphics,0,[ Remove Graphics ],",
           "NODE_CUSTOMGRAPHICS_POSITION_1": "C,C,c,0.00,0.00",
           "NODE_CUSTOMGRAPHICS_POSITION_2": "C,C,c,0.00,0.00",
           "NODE_CUSTOMGRAPHICS_POSITION_3": "C,C,c,0.00,0.00",
           "NODE_CUSTOMGRAPHICS_POSITION_4": "C,C,c,0.00,0.00",
           "NODE_CUSTOMGRAPHICS_POSITION_5": "C,C,c,0.00,0.00",
           "NODE_CUSTOMGRAPHICS_POSITION_6": "C,C,c,0.00,0.00",
           "NODE_CUSTOMGRAPHICS_POSITION_7": "C,C,c,0.00,0.00",
           "NODE_CUSTOMGRAPHICS_POSITION_8": "C,C,c,0.00,0.00",
           "NODE_CUSTOMGRAPHICS_POSITION_9": "C,C,c,0.00,0.00",
           "NODE_CUSTOMGRAPHICS_SIZE_1": "0.0",
           "NODE_CUSTOMGRAPHICS_SIZE_2": "0.0",
           "NODE_CUSTOMGRAPHICS_SIZE_3": "0.0",
           "NODE_CUSTOMGRAPHICS_SIZE_4": "0.0",
           "NODE_CUSTOMGRAPHICS_SIZE_5": "0.0",
           "NODE_CUSTOMGRAPHICS_SIZE_6": "0.0",
           "NODE_CUSTOMGRAPHICS_SIZE_7": "0.0",
           "NODE_CUSTOMGRAPHICS_SIZE_8": "0.0",
           "NODE_CUSTOMGRAPHICS_SIZE_9": "0.0",
           "NODE_DEPTH": "0.0",
           "NODE_FILL_COLOR": "#9999FF",
           "NODE_HEIGHT": "30.0",
           "NODE_LABEL_COLOR": "#000000",
           "NODE_LABEL_FONT_FACE": "SansSerif.bold,bold,12",
           "NODE_LABEL_FONT_SIZE": "12",
           "NODE_LABEL_POSITION": "C,C,c,0.00,0.00",
           "NODE_LABEL_TRANSPARENCY": "255",
           "NODE_LABEL_WIDTH": "200.0",
           "NODE_NESTED_NETWORK_IMAGE_VISIBLE": "true",
           "NODE_SELECTED": "false",
           "NODE_SELECTED_PAINT": "#FFFF00",
           "NODE_SHAPE": "ELLIPSE",
           "NODE_SIZE": "40.0",
           "NODE_TRANSPARENCY": "255",
           "NODE_VISIBLE": "true",
           "NODE_WIDTH": "70.0",
           "NODE_X_LOCATION": "0.0",
           "NODE_Y_LOCATION": "0.0",
           "NODE_Z_LOCATION": "0.0"
          },
          "properties_of": "nodes:default"
         },
         {
          "dependencies": {
           "arrowColorMatchesEdge": "false"
          },
          "properties": {
           "EDGE_CURVED": "true",
           "EDGE_LABEL_COLOR": "#000000",
           "EDGE_LABEL_FONT_SIZE": "10",
           "EDGE_LABEL_TRANSPARENCY": "255",
           "EDGE_LABEL_WIDTH": "200.0",
           "EDGE_LINE_TYPE": "SOLID",
           "EDGE_SELECTED": "false",
           "EDGE_SOURCE_ARROW_SELECTED_PAINT": "#FFFF00",
           "EDGE_SOURCE_ARROW_SHAPE": "NONE",
           "EDGE_SOURCE_ARROW_SIZE": "6.0",
           "EDGE_SOURCE_ARROW_UNSELECTED_PAINT": "#000000",
           "EDGE_STROKE_SELECTED_PAINT": "#FF0000",
           "EDGE_STROKE_UNSELECTED_PAINT": "#666666",
           "EDGE_TARGET_ARROW_SELECTED_PAINT": "#FFFF00",
           "EDGE_TARGET_ARROW_SHAPE": "NONE",
           "EDGE_TARGET_ARROW_SIZE": "6.0",
           "EDGE_TARGET_ARROW_UNSELECTED_PAINT": "#000000",
           "EDGE_TRANSPARENCY": "255",
           "EDGE_UNSELECTED_PAINT": "#666666",
           "EDGE_VISIBLE": "true",
           "EDGE_WIDTH": "1.5"
          },
          "properties_of": "edges:default"
         },
         {
          "applies_to": 1989,
          "properties": {
           "NODE_FILL_COLOR": "#CC0099"
          },
          "properties_of": "nodes"
         },
         {
          "applies_to": 1988,
          "properties": {
           "NODE_FILL_COLOR": "#CC0099"
          },
          "properties_of": "nodes"
         },
         {
          "applies_to": 1983,
          "properties": {
           "NODE_FILL_COLOR": "#FF0033"
          },
          "properties_of": "nodes"
         },
         {
          "applies_to": 1973,
          "properties": {
           "NODE_FILL_COLOR": "#FF0033"
          },
          "properties_of": "nodes"
         },
         {
          "applies_to": 1972,
          "properties": {
           "NODE_FILL_COLOR": "#FF0033"
          },
          "properties_of": "nodes"
         },
         {
          "applies_to": 1971,
          "properties": {
           "NODE_FILL_COLOR": "#FF0033"
          },
          "properties_of": "nodes"
         },
         {
          "applies_to": 1970,
          "properties": {
           "NODE_FILL_COLOR": "#FF0033"
          },
          "properties_of": "nodes"
         },
         {
          "applies_to": 1969,
          "properties": {
           "NODE_FILL_COLOR": "#FF0033"
          },
          "properties_of": "nodes"
         },
         {
          "applies_to": 1967,
          "properties": {
           "NODE_FILL_COLOR": "#FF0033"
          },
          "properties_of": "nodes"
         },
         {
          "applies_to": 1966,
          "properties": {
           "NODE_FILL_COLOR": "#FF0033"
          },
          "properties_of": "nodes"
         },
         {
          "applies_to": 1938,
          "properties": {
           "NODE_FILL_COLOR": "#FF0033"
          },
          "properties_of": "nodes"
         },
         {
          "applies_to": 1928,
          "properties": {
           "NODE_FILL_COLOR": "#FF0033"
          },
          "properties_of": "nodes"
         },
         {
          "applies_to": 1920,
          "properties": {
           "NODE_FILL_COLOR": "#FF0033"
          },
          "properties_of": "nodes"
         },
         {
          "applies_to": 1918,
          "properties": {
           "NODE_FILL_COLOR": "#FF0033"
          },
          "properties_of": "nodes"
         },
         {
          "applies_to": 1910,
          "properties": {
           "NODE_FILL_COLOR": "#FF0033"
          },
          "properties_of": "nodes"
         },
         {
          "applies_to": 1909,
          "properties": {
           "NODE_FILL_COLOR": "#FF0033"
          },
          "properties_of": "nodes"
         },
         {
          "applies_to": 1907,
          "properties": {
           "NODE_FILL_COLOR": "#FF0033"
          },
          "properties_of": "nodes"
         },
         {
          "applies_to": 1886,
          "properties": {
           "NODE_FILL_COLOR": "#FF0033"
          },
          "properties_of": "nodes"
         },
         {
          "applies_to": 1875,
          "properties": {
           "NODE_FILL_COLOR": "#FF0033"
          },
          "properties_of": "nodes"
         },
         {
          "applies_to": 1870,
          "properties": {
           "NODE_FILL_COLOR": "#FF0033"
          },
          "properties_of": "nodes"
         },
         {
          "applies_to": 1867,
          "properties": {
           "NODE_FILL_COLOR": "#FF0033"
          },
          "properties_of": "nodes"
         }
        ]
       },
       {
        "cyHiddenAttributes": [
         {
          "n": "__layoutAlgorithm",
          "v": "force-directed"
         }
        ]
       },
       {
        "status": [
         {
          "error": "",
          "success": true
         }
        ]
       }
      ]
     },
     "metadata": {},
     "output_type": "display_data"
    }
   ],
   "source": [
    "from IPython.display import display\n",
    "import json\n",
    "\n",
    "data = ''\n",
    "with open('example.cx') as f:\n",
    "    data = f.read()\n",
    "\n",
    "data_json = json.loads(data)\n",
    "cx_data = {\n",
    "    \"application/cx\": data_json\n",
    "}\n",
    "\n",
    "display(cx_data,raw=True)"
   ]
  },
  {
   "cell_type": "code",
   "execution_count": 10,
   "metadata": {
    "slideshow": {
     "slide_type": "-"
    }
   },
   "outputs": [
    {
     "data": {
      "application/cx": {
       "data": {
        "name": "Test1"
       },
       "elements": {
        "edges": [
         {
          "data": {
           "id": "f640f760-5636-467e-933a-3c4f02b12f2c",
           "source": "1",
           "target": "2"
          }
         }
        ],
        "nodes": [
         {
          "data": {
           "id": "1",
           "name": "test1"
          }
         },
         {
          "data": {
           "id": "2",
           "name": "test2"
          }
         }
        ]
       }
      }
     },
     "metadata": {},
     "output_type": "display_data"
    }
   ],
   "source": [
    "cyjs_graph = {\n",
    "  'elements': {\n",
    "    'nodes': [\n",
    "      {'data': {'id': 1, 'name': 'test1'}},\n",
    "      {'data': {'id': 2, 'name': 'test2'}}\n",
    "\n",
    "    ],\n",
    "    'edges': [{'data': {'source': 1, 'target': 2}}]\n",
    "  },\n",
    "  'data': {\n",
    "    'name': 'Test1'\n",
    "  }\n",
    "}\n",
    "\n",
    "cy_data = {\n",
    "    \"application/cx\": cyjs_graph\n",
    "}\n",
    "\n",
    "display(cy_data,raw=True)"
   ]
  },
  {
   "cell_type": "code",
   "execution_count": 11,
   "metadata": {},
   "outputs": [],
   "source": [
    "import pandas as pd\n",
    "from pprint import pprint\n",
    "from collections import defaultdict\n",
    "from mygene import MyGeneInfo\n",
    "import requests\n",
    "import graphviz as gv\n",
    "mg = MyGeneInfo()\n"
   ]
  },
  {
   "cell_type": "code",
   "execution_count": 12,
   "metadata": {},
   "outputs": [],
   "source": [
    "class BioLinkWrapper(object):\n",
    "    def __init__(self):\n",
    "        self.endpoint = 'https://api.monarchinitiative.org/api/'\n",
    "        self.params = {\n",
    "            'fetch_objects': 'true',\n",
    "        }\n",
    "\n",
    "    def get_obj(self, obj_id):\n",
    "        url = '{0}bioentity/{1}'.format(self.endpoint, obj_id)\n",
    "        response = requests.get(url)\n",
    "        return response.json()\n",
    "\n",
    "    def disease2genes(self, disease_curie):\n",
    "        params = {}\n",
    "        url = '{0}bioentity/disease/{1}/genes'.format(self.endpoint, disease_curie)\n",
    "        response = requests.get(url, params)\n",
    "        return response.json()\n",
    "\n",
    "    def disease2phenotypes(self, disease_curie):\n",
    "        params = {}\n",
    "        url = '{0}bioentity/disease/{1}/phenotypes'.format(self.endpoint, disease_curie)\n",
    "        response = requests.get(url, params)\n",
    "        return response.json()\n",
    "\n",
    "    def gene(self, gene_curie):\n",
    "        params = {}\n",
    "        url = '{0}bioentity/gene/{1}'.format(self.endpoint, gene_curie)\n",
    "        response = requests.get(url, params)\n",
    "        return response.json()\n",
    "\n",
    "    def gene2orthologs(self, gene_curie, orth_taxon_name=None):\n",
    "        taxon_map = {\n",
    "            'mouse': 'NCBITaxon:10090',\n",
    "            'rat': 'NCBITaxon:10116',\n",
    "            'zebrafish': 'NCBITaxon:7955',\n",
    "            'fly': 'NCBITaxon:7227',\n",
    "            'worm': 'NCBITaxon:6239'\n",
    "        }\n",
    "        params = {}\n",
    "        if orth_taxon_name:\n",
    "            params['homolog_taxon'] = taxon_map[orth_taxon_name]\n",
    "        url = '{}bioentity/gene/{}/homologs/'.format(self.endpoint, gene_curie)\n",
    "        response = requests.get(url, params)\n",
    "        return response.json()\n",
    "\n",
    "    def gene2phenotypes(self, gene_curie):\n",
    "        url = '{}bioentity/gene/{}/phenotypes/'.format(self.endpoint, gene_curie)\n",
    "        response = requests.get(url)\n",
    "        return response.json()\n",
    "\n",
    "    def gene2diseases(self, gene_curie):\n",
    "        url = '{}bioentity/gene/{}/diseases/'.format(self.endpoint, gene_curie)\n",
    "        response = requests.get(url)\n",
    "        return response.json()\n",
    "\n",
    "    def gene_interactions(self, gene_curie):\n",
    "        url = '{}bioentity/gene/{}/interactions/'.format(self.endpoint, gene_curie)\n",
    "        response = requests.get(url)\n",
    "        return response.json()\n",
    "\n",
    "    def gene2functions(self, gene_curie):\n",
    "        url = '{}bioentity/gene/{}/function/'.format(self.endpoint, gene_curie)\n",
    "        response = requests.get(url)\n",
    "        return response.json()\n",
    "\n",
    "    def gene2tissue_expression(self, gene_curie):\n",
    "        url = '{}bioentity/gene/{}/expression/anatomy/'.format(self.endpoint, gene_curie)\n",
    "        response = requests.get(url)\n",
    "        return response.json()\n",
    "\n",
    "    def tissue2gene_expression(self, tissue_curie):\n",
    "        url = '{}bioentity/anatomy/{}/genes/'.format(self.endpoint, gene_curie)\n",
    "        response = requests.get(url)\n",
    "        return response.json()\n",
    "\n",
    "    def disease_models(self, disease_curie):\n",
    "        url = '{}/bioentity/disease/{}/models/'.format(self.endpoint, disease_curie)\n",
    "        response = requests.get(url)\n",
    "        return response.json()\n",
    "\n",
    "    def taxon2phenotypes(self, taxon_curie):\n",
    "        # get phenotypes associated with taxid\n",
    "        url = \"mart/gene/phenotype/{}\".format(self.endpoint, taxon_curie)\n",
    "        response = requests.get(url)\n",
    "        return response.json()\n",
    "\n",
    "    def parse_gene_functions(self, curie):\n",
    "        function_list = list()\n",
    "        functions = self.gene2functions(gene_curie=curie)\n",
    "        if 'associations' in functions.keys():\n",
    "            for assoc in functions['associations']:\n",
    "                function_list.append(assoc['object']['label'])\n",
    "        function_set = set(function_list)\n",
    "        return \", \".join(function_set)\n",
    "\n",
    "    def get_orthoglog_gene_set(self, gene_set, orth_taxon_name):\n",
    "        orth_set = []\n",
    "        for gene in gene_set:\n",
    "            orth_set.append(self.gene2orthologs(gene_curie=gene, orth_taxon_name=orth_taxon_name))\n",
    "        return orth_set\n",
    "\n",
    "\n",
    "    @staticmethod\n",
    "    def parse_sources(sources):\n",
    "        return [x.split('/')[-1].rstrip('.ttl') for x in sources]\n",
    "\n",
    "    @staticmethod\n",
    "    def parse_association(input_id, input_label, association, invert_subject_object=False):\n",
    "        hit_id = association['object']['id']\n",
    "        hit_label = association['object']['label']\n",
    "        if invert_subject_object:\n",
    "            hit_id = association['subject']['id']\n",
    "            hit_label = association['subject']['label']\n",
    "        parsed_association = {\n",
    "            'input_id': input_id,\n",
    "            'input_label': input_label,\n",
    "            'hit_id': hit_id,\n",
    "            'hit_label': hit_label,\n",
    "            'sources': BioLinkWrapper.parse_sources(association['provided_by']),\n",
    "        }\n",
    "        return parsed_association\n",
    "\n",
    "    @staticmethod\n",
    "    def return_objects(assoc_package):\n",
    "        return assoc_package['objects']\n",
    "\n",
    "\n"
   ]
  },
  {
   "cell_type": "code",
   "execution_count": 13,
   "metadata": {},
   "outputs": [],
   "source": [
    "blw = BioLinkWrapper()"
   ]
  },
  {
   "cell_type": "code",
   "execution_count": 14,
   "metadata": {},
   "outputs": [],
   "source": [
    "def conv_pref(prefix):\n",
    "    return prefix.replace(':', '_')\n",
    "\n",
    "def map_id(in_id):\n",
    "    return blw.get_obj(obj_id=in_id)['id']"
   ]
  },
  {
   "cell_type": "code",
   "execution_count": 16,
   "metadata": {},
   "outputs": [],
   "source": [
    "# workflow input is a disease identifier\n",
    "fanconi_anemia = 'MONDO:0019391'\n",
    "\n",
    "# Begin Graphviz representation of workflow\n",
    "wf2_graph = gv.Digraph(name=\"Workfow II Fanconi Anemia Implementation\", format='json')\n",
    "wf2_graph.node(conv_pref(fanconi_anemia), label='Fanoni Anemia')\n",
    "\n",
    "wf2_graph.node('Mod1A', label='Mod1A Functional Similarity')\n",
    "wf2_graph.node('Mod1B', label='Mod1B Phenotype Similarity')\n",
    "wf2_graph.node('Mod1C', label='Mod1C Coexpression')\n",
    "wf2_graph.node('Mod1D', label='Mod1D Gene Chemical Interaction')\n",
    "wf2_graph.node('Mod1E', label='Mod1E Gene Interaction')\n",
    "wf2_graph.node('Mod3', label='Mod3 Candidate Merging')"
   ]
  },
  {
   "cell_type": "code",
   "execution_count": 20,
   "metadata": {},
   "outputs": [
    {
     "ename": "TypeError",
     "evalue": "parse_association() missing 1 required positional argument: 'association'",
     "output_type": "error",
     "traceback": [
      "\u001b[0;31m---------------------------------------------------------------------------\u001b[0m",
      "\u001b[0;31mTypeError\u001b[0m                                 Traceback (most recent call last)",
      "\u001b[0;32m<ipython-input-20-602c9e11f72a>\u001b[0m in \u001b[0;36m<module>\u001b[0;34m()\u001b[0m\n\u001b[1;32m      1\u001b[0m \u001b[0mfa_gene_associations\u001b[0m \u001b[0;34m=\u001b[0m \u001b[0mblw\u001b[0m\u001b[0;34m.\u001b[0m\u001b[0mdisease2genes\u001b[0m\u001b[0;34m(\u001b[0m\u001b[0mdisease_curie\u001b[0m\u001b[0;34m=\u001b[0m\u001b[0mfanconi_anemia\u001b[0m\u001b[0;34m)\u001b[0m\u001b[0;34m\u001b[0m\u001b[0m\n\u001b[0;32m----> 2\u001b[0;31m \u001b[0mparsed_fa_genes\u001b[0m \u001b[0;34m=\u001b[0m \u001b[0;34m[\u001b[0m\u001b[0mblw\u001b[0m\u001b[0;34m.\u001b[0m\u001b[0mparse_association\u001b[0m\u001b[0;34m(\u001b[0m\u001b[0mfanconi_anemia\u001b[0m\u001b[0;34m,\u001b[0m \u001b[0mx\u001b[0m\u001b[0;34m)\u001b[0m \u001b[0;32mfor\u001b[0m \u001b[0mx\u001b[0m \u001b[0;32min\u001b[0m \u001b[0mfa_gene_associations\u001b[0m\u001b[0;34m[\u001b[0m\u001b[0;34m'associations'\u001b[0m\u001b[0;34m]\u001b[0m\u001b[0;34m]\u001b[0m\u001b[0;34m\u001b[0m\u001b[0m\n\u001b[0m",
      "\u001b[0;32m<ipython-input-20-602c9e11f72a>\u001b[0m in \u001b[0;36m<listcomp>\u001b[0;34m(.0)\u001b[0m\n\u001b[1;32m      1\u001b[0m \u001b[0mfa_gene_associations\u001b[0m \u001b[0;34m=\u001b[0m \u001b[0mblw\u001b[0m\u001b[0;34m.\u001b[0m\u001b[0mdisease2genes\u001b[0m\u001b[0;34m(\u001b[0m\u001b[0mdisease_curie\u001b[0m\u001b[0;34m=\u001b[0m\u001b[0mfanconi_anemia\u001b[0m\u001b[0;34m)\u001b[0m\u001b[0;34m\u001b[0m\u001b[0m\n\u001b[0;32m----> 2\u001b[0;31m \u001b[0mparsed_fa_genes\u001b[0m \u001b[0;34m=\u001b[0m \u001b[0;34m[\u001b[0m\u001b[0mblw\u001b[0m\u001b[0;34m.\u001b[0m\u001b[0mparse_association\u001b[0m\u001b[0;34m(\u001b[0m\u001b[0mfanconi_anemia\u001b[0m\u001b[0;34m,\u001b[0m \u001b[0mx\u001b[0m\u001b[0;34m)\u001b[0m \u001b[0;32mfor\u001b[0m \u001b[0mx\u001b[0m \u001b[0;32min\u001b[0m \u001b[0mfa_gene_associations\u001b[0m\u001b[0;34m[\u001b[0m\u001b[0;34m'associations'\u001b[0m\u001b[0;34m]\u001b[0m\u001b[0;34m]\u001b[0m\u001b[0;34m\u001b[0m\u001b[0m\n\u001b[0m",
      "\u001b[0;31mTypeError\u001b[0m: parse_association() missing 1 required positional argument: 'association'"
     ]
    }
   ],
   "source": [
    "fa_gene_associations = blw.disease2genes(disease_curie=fanconi_anemia)\n",
    "parsed_fa_genes = [blw.parse_association(fanconi_anemia, x) for x in fa_gene_associations['associations']]\n"
   ]
  },
  {
   "cell_type": "code",
   "execution_count": 19,
   "metadata": {},
   "outputs": [
    {
     "ename": "TypeError",
     "evalue": "parse_association() missing 1 required positional argument: 'association'",
     "output_type": "error",
     "traceback": [
      "\u001b[0;31m---------------------------------------------------------------------------\u001b[0m",
      "\u001b[0;31mTypeError\u001b[0m                                 Traceback (most recent call last)",
      "\u001b[0;32m<ipython-input-19-174330d1ec04>\u001b[0m in \u001b[0;36m<module>\u001b[0;34m()\u001b[0m\n\u001b[1;32m      1\u001b[0m \u001b[0;31m# load into pandas dataframe\u001b[0m\u001b[0;34m\u001b[0m\u001b[0;34m\u001b[0m\u001b[0m\n\u001b[0;32m----> 2\u001b[0;31m \u001b[0mparsed_fa_genes\u001b[0m \u001b[0;34m=\u001b[0m \u001b[0;34m[\u001b[0m\u001b[0mblw\u001b[0m\u001b[0;34m.\u001b[0m\u001b[0mparse_association\u001b[0m\u001b[0;34m(\u001b[0m\u001b[0mfanconi_anemia\u001b[0m\u001b[0;34m,\u001b[0m \u001b[0mx\u001b[0m\u001b[0;34m)\u001b[0m \u001b[0;32mfor\u001b[0m \u001b[0mx\u001b[0m \u001b[0;32min\u001b[0m \u001b[0mfa_gene_associations\u001b[0m\u001b[0;34m[\u001b[0m\u001b[0;34m'associations'\u001b[0m\u001b[0;34m]\u001b[0m\u001b[0;34m]\u001b[0m\u001b[0;34m\u001b[0m\u001b[0m\n\u001b[0m\u001b[1;32m      3\u001b[0m \u001b[0;32mfor\u001b[0m \u001b[0mfa_gene\u001b[0m \u001b[0;32min\u001b[0m \u001b[0mparsed_fa_genes\u001b[0m\u001b[0;34m:\u001b[0m\u001b[0;34m\u001b[0m\u001b[0m\n\u001b[1;32m      4\u001b[0m     \u001b[0mfa_mg\u001b[0m \u001b[0;34m=\u001b[0m \u001b[0mmg\u001b[0m\u001b[0;34m.\u001b[0m\u001b[0mquery\u001b[0m\u001b[0;34m(\u001b[0m\u001b[0mfa_gene\u001b[0m\u001b[0;34m[\u001b[0m\u001b[0;34m'hit_id'\u001b[0m\u001b[0;34m]\u001b[0m\u001b[0;34m.\u001b[0m\u001b[0mreplace\u001b[0m\u001b[0;34m(\u001b[0m\u001b[0;34m'HGNC'\u001b[0m\u001b[0;34m,\u001b[0m \u001b[0;34m'hgnc'\u001b[0m\u001b[0;34m)\u001b[0m\u001b[0;34m,\u001b[0m \u001b[0mspecies\u001b[0m\u001b[0;34m=\u001b[0m\u001b[0;34m'human'\u001b[0m\u001b[0;34m,\u001b[0m \u001b[0mentrezonly\u001b[0m\u001b[0;34m=\u001b[0m\u001b[0;32mTrue\u001b[0m\u001b[0;34m,\u001b[0m \u001b[0mfields\u001b[0m\u001b[0;34m=\u001b[0m\u001b[0;34m'entrez,HGNC,symbol'\u001b[0m\u001b[0;34m)\u001b[0m\u001b[0;34m\u001b[0m\u001b[0m\n\u001b[1;32m      5\u001b[0m     \u001b[0mfa_gene\u001b[0m\u001b[0;34m.\u001b[0m\u001b[0mupdate\u001b[0m\u001b[0;34m(\u001b[0m\u001b[0;34m{\u001b[0m\u001b[0;34m'ncbi'\u001b[0m\u001b[0;34m:\u001b[0m \u001b[0;34m'NCBIGene:{}'\u001b[0m\u001b[0;34m.\u001b[0m\u001b[0mformat\u001b[0m\u001b[0;34m(\u001b[0m\u001b[0mfa_mg\u001b[0m\u001b[0;34m[\u001b[0m\u001b[0;34m'hits'\u001b[0m\u001b[0;34m]\u001b[0m\u001b[0;34m[\u001b[0m\u001b[0;36m0\u001b[0m\u001b[0;34m]\u001b[0m\u001b[0;34m[\u001b[0m\u001b[0;34m'_id'\u001b[0m\u001b[0;34m]\u001b[0m\u001b[0;34m)\u001b[0m\u001b[0;34m}\u001b[0m\u001b[0;34m)\u001b[0m\u001b[0;34m\u001b[0m\u001b[0m\n",
      "\u001b[0;32m<ipython-input-19-174330d1ec04>\u001b[0m in \u001b[0;36m<listcomp>\u001b[0;34m(.0)\u001b[0m\n\u001b[1;32m      1\u001b[0m \u001b[0;31m# load into pandas dataframe\u001b[0m\u001b[0;34m\u001b[0m\u001b[0;34m\u001b[0m\u001b[0m\n\u001b[0;32m----> 2\u001b[0;31m \u001b[0mparsed_fa_genes\u001b[0m \u001b[0;34m=\u001b[0m \u001b[0;34m[\u001b[0m\u001b[0mblw\u001b[0m\u001b[0;34m.\u001b[0m\u001b[0mparse_association\u001b[0m\u001b[0;34m(\u001b[0m\u001b[0mfanconi_anemia\u001b[0m\u001b[0;34m,\u001b[0m \u001b[0mx\u001b[0m\u001b[0;34m)\u001b[0m \u001b[0;32mfor\u001b[0m \u001b[0mx\u001b[0m \u001b[0;32min\u001b[0m \u001b[0mfa_gene_associations\u001b[0m\u001b[0;34m[\u001b[0m\u001b[0;34m'associations'\u001b[0m\u001b[0;34m]\u001b[0m\u001b[0;34m]\u001b[0m\u001b[0;34m\u001b[0m\u001b[0m\n\u001b[0m\u001b[1;32m      3\u001b[0m \u001b[0;32mfor\u001b[0m \u001b[0mfa_gene\u001b[0m \u001b[0;32min\u001b[0m \u001b[0mparsed_fa_genes\u001b[0m\u001b[0;34m:\u001b[0m\u001b[0;34m\u001b[0m\u001b[0m\n\u001b[1;32m      4\u001b[0m     \u001b[0mfa_mg\u001b[0m \u001b[0;34m=\u001b[0m \u001b[0mmg\u001b[0m\u001b[0;34m.\u001b[0m\u001b[0mquery\u001b[0m\u001b[0;34m(\u001b[0m\u001b[0mfa_gene\u001b[0m\u001b[0;34m[\u001b[0m\u001b[0;34m'hit_id'\u001b[0m\u001b[0;34m]\u001b[0m\u001b[0;34m.\u001b[0m\u001b[0mreplace\u001b[0m\u001b[0;34m(\u001b[0m\u001b[0;34m'HGNC'\u001b[0m\u001b[0;34m,\u001b[0m \u001b[0;34m'hgnc'\u001b[0m\u001b[0;34m)\u001b[0m\u001b[0;34m,\u001b[0m \u001b[0mspecies\u001b[0m\u001b[0;34m=\u001b[0m\u001b[0;34m'human'\u001b[0m\u001b[0;34m,\u001b[0m \u001b[0mentrezonly\u001b[0m\u001b[0;34m=\u001b[0m\u001b[0;32mTrue\u001b[0m\u001b[0;34m,\u001b[0m \u001b[0mfields\u001b[0m\u001b[0;34m=\u001b[0m\u001b[0;34m'entrez,HGNC,symbol'\u001b[0m\u001b[0;34m)\u001b[0m\u001b[0;34m\u001b[0m\u001b[0m\n\u001b[1;32m      5\u001b[0m     \u001b[0mfa_gene\u001b[0m\u001b[0;34m.\u001b[0m\u001b[0mupdate\u001b[0m\u001b[0;34m(\u001b[0m\u001b[0;34m{\u001b[0m\u001b[0;34m'ncbi'\u001b[0m\u001b[0;34m:\u001b[0m \u001b[0;34m'NCBIGene:{}'\u001b[0m\u001b[0;34m.\u001b[0m\u001b[0mformat\u001b[0m\u001b[0;34m(\u001b[0m\u001b[0mfa_mg\u001b[0m\u001b[0;34m[\u001b[0m\u001b[0;34m'hits'\u001b[0m\u001b[0;34m]\u001b[0m\u001b[0;34m[\u001b[0m\u001b[0;36m0\u001b[0m\u001b[0;34m]\u001b[0m\u001b[0;34m[\u001b[0m\u001b[0;34m'_id'\u001b[0m\u001b[0;34m]\u001b[0m\u001b[0;34m)\u001b[0m\u001b[0;34m}\u001b[0m\u001b[0;34m)\u001b[0m\u001b[0;34m\u001b[0m\u001b[0m\n",
      "\u001b[0;31mTypeError\u001b[0m: parse_association() missing 1 required positional argument: 'association'"
     ]
    }
   ],
   "source": [
    "# load into pandas dataframe\n",
    "\n",
    "\n",
    "for fa_gene in parsed_fa_genes:\n",
    "    fa_mg = mg.query(fa_gene['hit_id'].replace('HGNC', 'hgnc'), species='human', entrezonly=True, fields='entrez,HGNC,symbol')\n",
    "    fa_gene.update({'ncbi': 'NCBIGene:{}'.format(fa_mg['hits'][0]['_id'])})\n",
    "    \n",
    "    "
   ]
  },
  {
   "cell_type": "code",
   "execution_count": 17,
   "metadata": {},
   "outputs": [
    {
     "ename": "TypeError",
     "evalue": "parse_association() missing 1 required positional argument: 'association'",
     "output_type": "error",
     "traceback": [
      "\u001b[0;31m---------------------------------------------------------------------------\u001b[0m",
      "\u001b[0;31mTypeError\u001b[0m                                 Traceback (most recent call last)",
      "\u001b[0;32m<ipython-input-17-2c8690aae848>\u001b[0m in \u001b[0;36m<module>\u001b[0;34m()\u001b[0m\n\u001b[1;32m      1\u001b[0m \u001b[0mfa_gene_associations\u001b[0m \u001b[0;34m=\u001b[0m \u001b[0mblw\u001b[0m\u001b[0;34m.\u001b[0m\u001b[0mdisease2genes\u001b[0m\u001b[0;34m(\u001b[0m\u001b[0mdisease_curie\u001b[0m\u001b[0;34m=\u001b[0m\u001b[0mfanconi_anemia\u001b[0m\u001b[0;34m)\u001b[0m\u001b[0;34m\u001b[0m\u001b[0m\n\u001b[1;32m      2\u001b[0m \u001b[0;31m# load into pandas dataframe\u001b[0m\u001b[0;34m\u001b[0m\u001b[0;34m\u001b[0m\u001b[0m\n\u001b[0;32m----> 3\u001b[0;31m \u001b[0mparsed_fa_genes\u001b[0m \u001b[0;34m=\u001b[0m \u001b[0;34m[\u001b[0m\u001b[0mblw\u001b[0m\u001b[0;34m.\u001b[0m\u001b[0mparse_association\u001b[0m\u001b[0;34m(\u001b[0m\u001b[0mfanconi_anemia\u001b[0m\u001b[0;34m,\u001b[0m \u001b[0mx\u001b[0m\u001b[0;34m)\u001b[0m \u001b[0;32mfor\u001b[0m \u001b[0mx\u001b[0m \u001b[0;32min\u001b[0m \u001b[0mfa_gene_associations\u001b[0m\u001b[0;34m[\u001b[0m\u001b[0;34m'associations'\u001b[0m\u001b[0;34m]\u001b[0m\u001b[0;34m]\u001b[0m\u001b[0;34m\u001b[0m\u001b[0m\n\u001b[0m\u001b[1;32m      4\u001b[0m \u001b[0;32mfor\u001b[0m \u001b[0mfa_gene\u001b[0m \u001b[0;32min\u001b[0m \u001b[0mparsed_fa_genes\u001b[0m\u001b[0;34m:\u001b[0m\u001b[0;34m\u001b[0m\u001b[0m\n\u001b[1;32m      5\u001b[0m     \u001b[0mfa_mg\u001b[0m \u001b[0;34m=\u001b[0m \u001b[0mmg\u001b[0m\u001b[0;34m.\u001b[0m\u001b[0mquery\u001b[0m\u001b[0;34m(\u001b[0m\u001b[0mfa_gene\u001b[0m\u001b[0;34m[\u001b[0m\u001b[0;34m'hit_id'\u001b[0m\u001b[0;34m]\u001b[0m\u001b[0;34m.\u001b[0m\u001b[0mreplace\u001b[0m\u001b[0;34m(\u001b[0m\u001b[0;34m'HGNC'\u001b[0m\u001b[0;34m,\u001b[0m \u001b[0;34m'hgnc'\u001b[0m\u001b[0;34m)\u001b[0m\u001b[0;34m,\u001b[0m \u001b[0mspecies\u001b[0m\u001b[0;34m=\u001b[0m\u001b[0;34m'human'\u001b[0m\u001b[0;34m,\u001b[0m \u001b[0mentrezonly\u001b[0m\u001b[0;34m=\u001b[0m\u001b[0;32mTrue\u001b[0m\u001b[0;34m,\u001b[0m \u001b[0mfields\u001b[0m\u001b[0;34m=\u001b[0m\u001b[0;34m'entrez,HGNC,symbol'\u001b[0m\u001b[0;34m)\u001b[0m\u001b[0;34m\u001b[0m\u001b[0m\n",
      "\u001b[0;32m<ipython-input-17-2c8690aae848>\u001b[0m in \u001b[0;36m<listcomp>\u001b[0;34m(.0)\u001b[0m\n\u001b[1;32m      1\u001b[0m \u001b[0mfa_gene_associations\u001b[0m \u001b[0;34m=\u001b[0m \u001b[0mblw\u001b[0m\u001b[0;34m.\u001b[0m\u001b[0mdisease2genes\u001b[0m\u001b[0;34m(\u001b[0m\u001b[0mdisease_curie\u001b[0m\u001b[0;34m=\u001b[0m\u001b[0mfanconi_anemia\u001b[0m\u001b[0;34m)\u001b[0m\u001b[0;34m\u001b[0m\u001b[0m\n\u001b[1;32m      2\u001b[0m \u001b[0;31m# load into pandas dataframe\u001b[0m\u001b[0;34m\u001b[0m\u001b[0;34m\u001b[0m\u001b[0m\n\u001b[0;32m----> 3\u001b[0;31m \u001b[0mparsed_fa_genes\u001b[0m \u001b[0;34m=\u001b[0m \u001b[0;34m[\u001b[0m\u001b[0mblw\u001b[0m\u001b[0;34m.\u001b[0m\u001b[0mparse_association\u001b[0m\u001b[0;34m(\u001b[0m\u001b[0mfanconi_anemia\u001b[0m\u001b[0;34m,\u001b[0m \u001b[0mx\u001b[0m\u001b[0;34m)\u001b[0m \u001b[0;32mfor\u001b[0m \u001b[0mx\u001b[0m \u001b[0;32min\u001b[0m \u001b[0mfa_gene_associations\u001b[0m\u001b[0;34m[\u001b[0m\u001b[0;34m'associations'\u001b[0m\u001b[0;34m]\u001b[0m\u001b[0;34m]\u001b[0m\u001b[0;34m\u001b[0m\u001b[0m\n\u001b[0m\u001b[1;32m      4\u001b[0m \u001b[0;32mfor\u001b[0m \u001b[0mfa_gene\u001b[0m \u001b[0;32min\u001b[0m \u001b[0mparsed_fa_genes\u001b[0m\u001b[0;34m:\u001b[0m\u001b[0;34m\u001b[0m\u001b[0m\n\u001b[1;32m      5\u001b[0m     \u001b[0mfa_mg\u001b[0m \u001b[0;34m=\u001b[0m \u001b[0mmg\u001b[0m\u001b[0;34m.\u001b[0m\u001b[0mquery\u001b[0m\u001b[0;34m(\u001b[0m\u001b[0mfa_gene\u001b[0m\u001b[0;34m[\u001b[0m\u001b[0;34m'hit_id'\u001b[0m\u001b[0;34m]\u001b[0m\u001b[0;34m.\u001b[0m\u001b[0mreplace\u001b[0m\u001b[0;34m(\u001b[0m\u001b[0;34m'HGNC'\u001b[0m\u001b[0;34m,\u001b[0m \u001b[0;34m'hgnc'\u001b[0m\u001b[0;34m)\u001b[0m\u001b[0;34m,\u001b[0m \u001b[0mspecies\u001b[0m\u001b[0;34m=\u001b[0m\u001b[0;34m'human'\u001b[0m\u001b[0;34m,\u001b[0m \u001b[0mentrezonly\u001b[0m\u001b[0;34m=\u001b[0m\u001b[0;32mTrue\u001b[0m\u001b[0;34m,\u001b[0m \u001b[0mfields\u001b[0m\u001b[0;34m=\u001b[0m\u001b[0;34m'entrez,HGNC,symbol'\u001b[0m\u001b[0;34m)\u001b[0m\u001b[0;34m\u001b[0m\u001b[0m\n",
      "\u001b[0;31mTypeError\u001b[0m: parse_association() missing 1 required positional argument: 'association'"
     ]
    }
   ],
   "source": [
    "fa_genes_df = pd.DataFrame(data=parsed_fa_genes)\n",
    "# group duplicate ids and gather sources\n",
    "fa_genes_df['sources'] = fa_genes_df['sources'].str.join(', ')"
   ]
  },
  {
   "cell_type": "code",
   "execution_count": null,
   "metadata": {},
   "outputs": [],
   "source": [
    "import ndex2.client as nc\n",
    "import io\n",
    "import json\n",
    "from IPython.display import HTML\n",
    "from time import sleep\n",
    "anon_ndex=nc.Ndex2(\"http://public.ndexbio.org\")\n",
    "anon_ndex.update_status()\n",
    "\n",
    "#the string of below command is match the uuid of the network which you want to draw in ndex page.\n",
    "response=anon_ndex.get_network_as_cx_stream('54a9a35b-1e5f-11e8-b939-0ac135e8bacf')\n",
    "print(\"Received %s characters of CX\" % len(response.content))\n",
    "raw_cx = response.json()\n",
    "\n",
    "#raw_cx= json.loads(response)\n",
    "\n",
    "cx_data = {\n",
    "    \"application/cx\": raw_cx\n",
    "}\n",
    "display(cx_data,raw=True)"
   ]
  }
 ],
 "metadata": {
  "kernelspec": {
   "display_name": "Python 3",
   "language": "python",
   "name": "python3"
  },
  "language_info": {
   "codemirror_mode": {
    "name": "ipython",
    "version": 3
   },
   "file_extension": ".py",
   "mimetype": "text/x-python",
   "name": "python",
   "nbconvert_exporter": "python",
   "pygments_lexer": "ipython3",
   "version": "3.6.5"
  }
 },
 "nbformat": 4,
 "nbformat_minor": 2
}
